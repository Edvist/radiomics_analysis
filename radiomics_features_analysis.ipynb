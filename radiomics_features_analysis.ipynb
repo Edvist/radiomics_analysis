{
 "cells": [
  {
   "cell_type": "code",
   "execution_count": 1,
   "metadata": {},
   "outputs": [],
   "source": [
    "import pandas as pd\n",
    "import glob\n",
    "import os\n",
    "import numpy as np\n",
    "from scipy.stats import f_oneway, kruskal, ttest_ind"
   ]
  },
  {
   "cell_type": "code",
   "execution_count": 2,
   "metadata": {},
   "outputs": [],
   "source": [
    "modality_list = ['T1CE', 'T1W', 'T2W', 'T2F']"
   ]
  },
  {
   "cell_type": "code",
   "execution_count": 3,
   "metadata": {},
   "outputs": [],
   "source": [
    "#cd '/home/raghuram/Desktop/radiomics/expt/data/T2F'"
   ]
  },
  {
   "cell_type": "code",
   "execution_count": 4,
   "metadata": {},
   "outputs": [],
   "source": [
    "csv_file_list = sorted(os.listdir(os.getcwd()))"
   ]
  },
  {
   "cell_type": "code",
   "execution_count": 99,
   "metadata": {},
   "outputs": [],
   "source": [
    "base_results_folder = '/home/raghuram/Desktop/radiomics/expt/results'\n",
    "data_folder = '/home/raghuram/Desktop/radiomics/expt/data'"
   ]
  },
  {
   "cell_type": "code",
   "execution_count": 93,
   "metadata": {},
   "outputs": [],
   "source": [
    "#results_folder = '/home/raghuram/Desktop/radiomics/expt/results/T2F/scanner_manufacturer/anova/'\n",
    "alpha = 0.05"
   ]
  },
  {
   "cell_type": "code",
   "execution_count": 102,
   "metadata": {},
   "outputs": [
    {
     "name": "stdout",
     "output_type": "stream",
     "text": [
      "Finished with modality T1CE\n",
      "Finished with modality T1W\n",
      "Finished with modality T2W\n",
      "Finished with modality T2F\n"
     ]
    }
   ],
   "source": [
    "for modality in modality_list:\n",
    "    csv_file_list = sorted(os.listdir(os.path.join(data_folder, modality)))\n",
    "    results_folder = os.path.join(base_results_folder, modality, 'mag_field_strength', 't_test')\n",
    "    for csv_file in csv_file_list:\n",
    "        expt_number = csv_file.split('_')[1].split('.')[0]\n",
    "        out_df = {}\n",
    "        df = pd.read_csv(csv_file)\n",
    "        df = df[df['Magnetic Strength'] != 1.16]\n",
    "        df.dropna(subset=['Magnetic Strength'], inplace=True)\n",
    "        df.loc[df['Magnetic Strength'] == 1.493806, ['Magnetic Strength']] = 1.5\n",
    "    #     out_df['scale'] = df['parameters_Scale']\n",
    "    #     out_df['algo'] = df['parameters_Algo']\n",
    "    #     out_df['ng'] = df['parameters_Ng']\n",
    "        df.drop(columns =  ['Filename', 'parameters_Scale', 'parameters_Algo', 'parameters_Ng', 'Scanner Manufacturer',\n",
    "                             'codel_status', 'death_days', 'idh_status'], \n",
    "                inplace=True)\n",
    "        one_five = df[df['Magnetic Strength'] == 1.5]\n",
    "        one_five.drop(columns='Magnetic Strength', inplace=True)\n",
    "        three = df[df['Magnetic Strength'] == 3]\n",
    "        three.drop(columns = 'Magnetic Strength', inplace=True)\n",
    "    #     other = df[df['Magnetic Strength'] == 1.493806]\n",
    "    #     other.drop(columns = 'Magnetic Strength', inplace=True)\n",
    "\n",
    "        df.drop(columns ='Magnetic Strength', inplace=True)\n",
    "        column_names = list(df.columns)\n",
    "        t, p_value  = ttest_ind(one_five, three)\n",
    "        #F, p_value  = f_oneway(one_five, three, other)\n",
    "        out_df['feature_names'] = column_names\n",
    "        #out_df['F'] = list(F)\n",
    "        out_df['t'] = list(t)\n",
    "        out_df['p_value'] = list(p_value)\n",
    "        out_df = pd.DataFrame.from_dict(out_df)\n",
    "        status = ['REJECTED' if p_<alpha else 'NOT_REJECTED' for p_ in p_value]\n",
    "        out_df['status'] = status\n",
    "        out_df.to_csv(os.path.join(results_folder, expt_number+'t_test'+'.csv'), index=False)\n",
    "\n",
    "    print ('Finished with modality {}'.format(modality))"
   ]
  },
  {
   "cell_type": "code",
   "execution_count": 101,
   "metadata": {},
   "outputs": [
    {
     "name": "stdout",
     "output_type": "stream",
     "text": [
      "Finished with modality T1CE\n",
      "Finished with modality T1W\n",
      "Finished with modality T2W\n",
      "Finished with modality T2F\n"
     ]
    }
   ],
   "source": [
    "for modality in modality_list:\n",
    "    csv_file_list = sorted(os.listdir(os.path.join(data_folder, modality)))\n",
    "    results_folder = os.path.join(base_results_folder, modality, 'scanner_manufacturer', 'anova')\n",
    "    for csv_file in csv_file_list:\n",
    "        expt_number = csv_file.split('_')[1].split('.')[0]\n",
    "        df = pd.read_csv(csv_file)\n",
    "        df.dropna(subset=['Scanner Manufacturer'], inplace=True)\n",
    "        df['Scanner Manufacturer'] = df['Scanner Manufacturer'].str.strip()\n",
    "    #     print(df['Scanner Manufacturer'])\n",
    "    #     break\n",
    "        df.drop(columns = [ 'Filename', 'parameters_Scale', 'parameters_Algo', 'parameters_Ng', 'Magnetic Strength',\n",
    "                              'codel_status', 'death_days', 'idh_status'], inplace=True)\n",
    "        df = df[df['Scanner Manufacturer'] != 'Hitachi Medical Corporation']\n",
    "        GE = df[df['Scanner Manufacturer'] == 'GE MEDICAL SYSTEMS']\n",
    "        GE.drop(columns = ['Scanner Manufacturer'], inplace=True)\n",
    "        Philips = df[(df['Scanner Manufacturer'] == 'Philips Medical Systems') | \\\n",
    "                     (df['Scanner Manufacturer'] == 'Philips Healthcare')]\n",
    "        Philips.drop(columns = ['Scanner Manufacturer'], inplace=True)\n",
    "        Siemens = df[(df['Scanner Manufacturer'] == 'SIEMENS') | \\\n",
    "                     (df['Scanner Manufacturer'] == 'Siemens')]\n",
    "        Siemens.drop(columns = ['Scanner Manufacturer'], inplace=True)\n",
    "        #non_GE = df[df['Scanner Manufacturer'] != 'GE MEDICAL SYSTEMS']\n",
    "        #print(non_GE.describe())\n",
    "        #non_GE.drop(columns = ['Scanner Manufacturer'], inplace=True)\n",
    "        df.drop(columns = ['Scanner Manufacturer'], inplace=True)\n",
    "        column_names = list(df.columns)\n",
    "        out_df = {}\n",
    "        F, p_value = f_oneway(GE, Philips, Siemens)\n",
    "        out_df['feature_names'] = column_names\n",
    "        out_df['F'] = list(F)\n",
    "        out_df['p_value'] = list(p_value)\n",
    "        out_df = pd.DataFrame.from_dict(out_df)\n",
    "        status = ['REJECTED' if p_<alpha else 'NOT_REJECTED' for p_ in p_value]\n",
    "        out_df['status'] = status\n",
    "        out_df.to_csv(os.path.join(results_folder, expt_number+'anova'+'.csv'), index=False)\n",
    "\n",
    "    print ('Finished with modality {}'.format(modality))"
   ]
  },
  {
   "cell_type": "code",
   "execution_count": 3,
   "metadata": {},
   "outputs": [],
   "source": [
    "filename = 'Features_Experiment'\n",
    "discard_range = [str(i) for i in range(33, 41)]\n",
    "patient_id = 'TCGA-HT-7692_T1CE.mat'"
   ]
  },
  {
   "cell_type": "code",
   "execution_count": 4,
   "metadata": {},
   "outputs": [],
   "source": [
    "for expt_num in discard_range:\n",
    "    filename_appended = filename+expt_num+'.csv'\n",
    "    df = pd.read_csv(filename_appended)\n",
    "    df = df[df['Filename'] != patient_id]\n",
    "    df.to_csv(filename_appended)"
   ]
  },
  {
   "cell_type": "code",
   "execution_count": null,
   "metadata": {},
   "outputs": [],
   "source": []
  }
 ],
 "metadata": {
  "kernelspec": {
   "display_name": "Python 3",
   "language": "python",
   "name": "python3"
  },
  "language_info": {
   "codemirror_mode": {
    "name": "ipython",
    "version": 3
   },
   "file_extension": ".py",
   "mimetype": "text/x-python",
   "name": "python",
   "nbconvert_exporter": "python",
   "pygments_lexer": "ipython3",
   "version": "3.7.2"
  }
 },
 "nbformat": 4,
 "nbformat_minor": 2
}
