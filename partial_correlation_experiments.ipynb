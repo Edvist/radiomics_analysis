{
 "cells": [
  {
   "cell_type": "code",
   "execution_count": 7,
   "metadata": {},
   "outputs": [],
   "source": [
    "import csv\n",
    "import os\n",
    "import pandas as pd\n",
    "import pingouin as pg"
   ]
  },
  {
   "cell_type": "code",
   "execution_count": 3,
   "metadata": {},
   "outputs": [],
   "source": [
    "data_folder = '/home/raghuram/Desktop/radiomics/TEXTURES'\n",
    "results_folder = '/home/raghuram/Desktop/radiomics/TEXTURES/results/'"
   ]
  },
  {
   "cell_type": "code",
   "execution_count": 4,
   "metadata": {},
   "outputs": [],
   "source": [
    "t1ce_df = pd.read_csv(os.path.join(data_folder, 'expt_t1ce.csv'))\n",
    "t1w_df = pd.read_csv(os.path.join(data_folder, 'expt_t1w.csv'))\n",
    "t2w_df = pd.read_csv(os.path.join(data_folder, 'expt_t2w.csv'))\n",
    "t2f_df = pd.read_csv(os.path.join(data_folder, 'expt_t2f.csv'))"
   ]
  },
  {
   "cell_type": "code",
   "execution_count": null,
   "metadata": {},
   "outputs": [],
   "source": []
  },
  {
   "cell_type": "code",
   "execution_count": 6,
   "metadata": {},
   "outputs": [],
   "source": [
    "def fetch_data(df, expt_number,response_variable):\n",
    "    df = df[df['experiment_number'] == 'expt_number']\n",
    "    df.drop(columns=['scale','ng','algo','parameter_Ng', 'parameters_Scale', 'parameters_Algo',\n",
    "                    'patient_name', 'modality_name', 'sequence', 'VOLUME_WT', 'VOLUME_TC', 'VOLUME_ED', \n",
    "                    'VOLUME_NET'])\n",
    "  \n",
    "    return df, covar_variables, y\n",
    "    "
   ]
  },
  {
   "cell_type": "code",
   "execution_count": null,
   "metadata": {},
   "outputs": [],
   "source": [
    "def partial_correlation(df, covar_variables, y):\n",
    "    for \n",
    "    return pg.partial_corr(data=df, )"
   ]
  }
 ],
 "metadata": {
  "kernelspec": {
   "display_name": "Python 3",
   "language": "python",
   "name": "python3"
  },
  "language_info": {
   "codemirror_mode": {
    "name": "ipython",
    "version": 3
   },
   "file_extension": ".py",
   "mimetype": "text/x-python",
   "name": "python",
   "nbconvert_exporter": "python",
   "pygments_lexer": "ipython3",
   "version": "3.7.2"
  }
 },
 "nbformat": 4,
 "nbformat_minor": 2
}
