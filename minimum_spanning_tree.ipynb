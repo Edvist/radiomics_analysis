{
 "cells": [
  {
   "cell_type": "markdown",
   "metadata": {},
   "source": [
    "## Read the features. Eliminate those with correlation greater than 0.7\n",
    "## Construct minimum spanning tree."
   ]
  },
  {
   "cell_type": "code",
   "execution_count": 1,
   "metadata": {},
   "outputs": [],
   "source": [
    "import os\n",
    "import pandas as pd\n",
    "import numpy as np"
   ]
  },
  {
   "cell_type": "code",
   "execution_count": null,
   "metadata": {},
   "outputs": [],
   "source": [
    "%matplotlib inline\n",
    "import matplotlib.pyplot as plt"
   ]
  },
  {
   "cell_type": "code",
   "execution_count": null,
   "metadata": {},
   "outputs": [],
   "source": [
    "cd '/home/raghuram/Desktop/radiomics/TEXTURES/results'"
   ]
  },
  {
   "cell_type": "code",
   "execution_count": null,
   "metadata": {},
   "outputs": [],
   "source": [
    "home = '/home/raghuram/Desktop/radiomics/TEXTURES/results'"
   ]
  },
  {
   "cell_type": "code",
   "execution_count": 4,
   "metadata": {},
   "outputs": [],
   "source": [
    "features_folder = '/home/raghuram/Desktop/radiomics/TEXTURES'"
   ]
  },
  {
   "cell_type": "code",
   "execution_count": 5,
   "metadata": {},
   "outputs": [],
   "source": [
    "folder_list = os.listdir(os.getcwd())"
   ]
  },
  {
   "cell_type": "code",
   "execution_count": 6,
   "metadata": {},
   "outputs": [],
   "source": [
    "csv_file_dict = {}"
   ]
  },
  {
   "cell_type": "code",
   "execution_count": 7,
   "metadata": {},
   "outputs": [],
   "source": [
    "def get_csv_files():\n",
    "    for folder in folder_list:\n",
    "        csv_file_list = sorted(os.listdir(os.path.join(home, folder, 'linear_regression', 'without_idh1')), key=lambda x: int(x.split('_')[0]))\n",
    "        csv_file_dict[folder] = csv_file_list\n",
    "        return csv_file_dict"
   ]
  },
  {
   "cell_type": "code",
   "execution_count": 8,
   "metadata": {},
   "outputs": [],
   "source": [
    "modality_csv_files = get_csv_files()"
   ]
  },
  {
   "cell_type": "code",
   "execution_count": 9,
   "metadata": {},
   "outputs": [],
   "source": [
    "df = pd.read_csv(os.path.join(home, 't2f', 'linear_regression', 'without_idh1', modality_csv_files['t2f'][0]))"
   ]
  },
  {
   "cell_type": "code",
   "execution_count": 10,
   "metadata": {},
   "outputs": [],
   "source": [
    "features = list(df['response_variable'].unique())"
   ]
  },
  {
   "cell_type": "code",
   "execution_count": 11,
   "metadata": {},
   "outputs": [],
   "source": [
    "alpha = 0.05\n",
    "m = len(features)*5\n",
    "bonferroni_correction_factor = alpha/(m)"
   ]
  },
  {
   "cell_type": "code",
   "execution_count": 12,
   "metadata": {},
   "outputs": [],
   "source": [
    "# TODO: Make this function faster\n",
    "def filter_relevant_features():\n",
    "    results_dict = {}\n",
    "    for modality in modality_csv_files.keys():\n",
    "        results_dict[modality] = {}\n",
    "        csv_file_list = modality_csv_files[modality]\n",
    "        for csv_file in csv_file_list:\n",
    "            df = pd.read_csv(os.path.join(home, modality, 'linear_regression', 'without_idh1', csv_file))\n",
    "            experiment_number = csv_file.split('_')[0]   \n",
    "            results_dict[modality][experiment_number] = []\n",
    "            for idx, feature in enumerate(features):\n",
    "                feature_df = df[df['response_variable'] == feature]\n",
    "    #             print(feature_df.head())\n",
    "                if np.all(feature_df['pvals']>bonferroni_correction_factor):\n",
    "                    results_dict[modality][experiment_number].append(feature)\n",
    "                    continue\n",
    "                else:\n",
    "                    continue\n",
    "    return results_dict"
   ]
  },
  {
   "cell_type": "code",
   "execution_count": 13,
   "metadata": {},
   "outputs": [],
   "source": [
    "results_dict = filter_relevant_features()"
   ]
  },
  {
   "cell_type": "code",
   "execution_count": 14,
   "metadata": {},
   "outputs": [],
   "source": [
    "# results_dict['t2f']['1']"
   ]
  },
  {
   "cell_type": "code",
   "execution_count": 17,
   "metadata": {},
   "outputs": [],
   "source": [
    "def load_relevant_features(modality, experiment_number, labels = ['IDH1', '1p_19q_co_del_status']):\n",
    "    try:\n",
    "        assert(1<=experiment_number<=25)\n",
    "        relevant_features = results_dict[modality][str(experiment_number)]\n",
    "        df = pd.read_csv(os.path.join(home, 't2f', 'linear_regression', \n",
    "                                     'without_idh1', str(experiment_number)+'_'+modality+'.csv'))\n",
    "        df = pd.read_csv(os.path.join(features_folder, 'expt_'+modality+'.csv'))\n",
    "        df = df[df['experiment_number'] == experiment_number]\n",
    "        required_columns = results_dict[modality][str(experiment_number)]\n",
    "        df = df[df.columns[df.columns.isin(required_columns)]]\n",
    "        return df\n",
    "    except AssertionError as e:\n",
    "        print('Experiment number cannot be greater than twenty-five or less than one')"
   ]
  },
  {
   "cell_type": "code",
   "execution_count": 18,
   "metadata": {},
   "outputs": [],
   "source": [
    "df = load_relevant_features('t2f', 1)\n",
    "codel_labels = df['1p_19q_co_del_status']\n",
    "idh_labels = df['IDH1']\n",
    "df.drop(columns=['IDH1', '1p_19q_co_del_status'], inplace=True)"
   ]
  },
  {
   "cell_type": "code",
   "execution_count": 19,
   "metadata": {},
   "outputs": [
    {
     "data": {
      "text/html": [
       "<div>\n",
       "<style scoped>\n",
       "    .dataframe tbody tr th:only-of-type {\n",
       "        vertical-align: middle;\n",
       "    }\n",
       "\n",
       "    .dataframe tbody tr th {\n",
       "        vertical-align: top;\n",
       "    }\n",
       "\n",
       "    .dataframe thead th {\n",
       "        text-align: right;\n",
       "    }\n",
       "</style>\n",
       "<table border=\"1\" class=\"dataframe\">\n",
       "  <thead>\n",
       "    <tr style=\"text-align: right;\">\n",
       "      <th></th>\n",
       "      <th>GLRLM_LRLGE</th>\n",
       "      <th>GLSZM_GLN</th>\n",
       "      <th>GLSZM_HGZE</th>\n",
       "      <th>GLSZM_LGZE</th>\n",
       "      <th>GLSZM_SZLGE</th>\n",
       "      <th>GLSZM_ZSV</th>\n",
       "      <th>Global_Kurtosis</th>\n",
       "      <th>Global_Skewness</th>\n",
       "      <th>Global_Variance</th>\n",
       "    </tr>\n",
       "  </thead>\n",
       "  <tbody>\n",
       "    <tr>\n",
       "      <th>0</th>\n",
       "      <td>4.396772</td>\n",
       "      <td>0.130441</td>\n",
       "      <td>23.230704</td>\n",
       "      <td>0.249182</td>\n",
       "      <td>0.045782</td>\n",
       "      <td>0.228979</td>\n",
       "      <td>-0.397103</td>\n",
       "      <td>-0.303488</td>\n",
       "      <td>209.573873</td>\n",
       "    </tr>\n",
       "    <tr>\n",
       "      <th>25</th>\n",
       "      <td>4.248677</td>\n",
       "      <td>0.171413</td>\n",
       "      <td>15.911325</td>\n",
       "      <td>0.180610</td>\n",
       "      <td>0.052799</td>\n",
       "      <td>0.117821</td>\n",
       "      <td>-0.148668</td>\n",
       "      <td>-0.193120</td>\n",
       "      <td>101.851827</td>\n",
       "    </tr>\n",
       "    <tr>\n",
       "      <th>50</th>\n",
       "      <td>2.127433</td>\n",
       "      <td>0.148013</td>\n",
       "      <td>20.726741</td>\n",
       "      <td>0.152537</td>\n",
       "      <td>0.041559</td>\n",
       "      <td>0.005152</td>\n",
       "      <td>-0.040352</td>\n",
       "      <td>-0.074814</td>\n",
       "      <td>128.897097</td>\n",
       "    </tr>\n",
       "    <tr>\n",
       "      <th>75</th>\n",
       "      <td>3.063390</td>\n",
       "      <td>0.132419</td>\n",
       "      <td>26.008143</td>\n",
       "      <td>0.149950</td>\n",
       "      <td>0.025335</td>\n",
       "      <td>0.043605</td>\n",
       "      <td>0.191867</td>\n",
       "      <td>-0.402790</td>\n",
       "      <td>183.675355</td>\n",
       "    </tr>\n",
       "    <tr>\n",
       "      <th>100</th>\n",
       "      <td>2.772417</td>\n",
       "      <td>0.135833</td>\n",
       "      <td>22.056140</td>\n",
       "      <td>0.263262</td>\n",
       "      <td>0.046632</td>\n",
       "      <td>0.634392</td>\n",
       "      <td>0.908447</td>\n",
       "      <td>-0.900436</td>\n",
       "      <td>171.243296</td>\n",
       "    </tr>\n",
       "  </tbody>\n",
       "</table>\n",
       "</div>"
      ],
      "text/plain": [
       "     GLRLM_LRLGE  GLSZM_GLN  GLSZM_HGZE  GLSZM_LGZE  GLSZM_SZLGE  GLSZM_ZSV  \\\n",
       "0       4.396772   0.130441   23.230704    0.249182     0.045782   0.228979   \n",
       "25      4.248677   0.171413   15.911325    0.180610     0.052799   0.117821   \n",
       "50      2.127433   0.148013   20.726741    0.152537     0.041559   0.005152   \n",
       "75      3.063390   0.132419   26.008143    0.149950     0.025335   0.043605   \n",
       "100     2.772417   0.135833   22.056140    0.263262     0.046632   0.634392   \n",
       "\n",
       "     Global_Kurtosis  Global_Skewness  Global_Variance  \n",
       "0          -0.397103        -0.303488       209.573873  \n",
       "25         -0.148668        -0.193120       101.851827  \n",
       "50         -0.040352        -0.074814       128.897097  \n",
       "75          0.191867        -0.402790       183.675355  \n",
       "100         0.908447        -0.900436       171.243296  "
      ]
     },
     "execution_count": 19,
     "metadata": {},
     "output_type": "execute_result"
    }
   ],
   "source": [
    "df.head()"
   ]
  },
  {
   "cell_type": "code",
   "execution_count": 20,
   "metadata": {},
   "outputs": [
    {
     "data": {
      "text/html": [
       "<div>\n",
       "<style scoped>\n",
       "    .dataframe tbody tr th:only-of-type {\n",
       "        vertical-align: middle;\n",
       "    }\n",
       "\n",
       "    .dataframe tbody tr th {\n",
       "        vertical-align: top;\n",
       "    }\n",
       "\n",
       "    .dataframe thead th {\n",
       "        text-align: right;\n",
       "    }\n",
       "</style>\n",
       "<table border=\"1\" class=\"dataframe\">\n",
       "  <thead>\n",
       "    <tr style=\"text-align: right;\">\n",
       "      <th></th>\n",
       "      <th>GLRLM_LRLGE</th>\n",
       "      <th>GLSZM_GLN</th>\n",
       "      <th>GLSZM_HGZE</th>\n",
       "      <th>GLSZM_LGZE</th>\n",
       "      <th>GLSZM_SZLGE</th>\n",
       "      <th>GLSZM_ZSV</th>\n",
       "      <th>Global_Kurtosis</th>\n",
       "      <th>Global_Skewness</th>\n",
       "      <th>Global_Variance</th>\n",
       "    </tr>\n",
       "  </thead>\n",
       "  <tbody>\n",
       "    <tr>\n",
       "      <th>GLRLM_LRLGE</th>\n",
       "      <td>1.000000</td>\n",
       "      <td>0.056317</td>\n",
       "      <td>-0.099873</td>\n",
       "      <td>0.149759</td>\n",
       "      <td>-0.214400</td>\n",
       "      <td>0.111534</td>\n",
       "      <td>-0.534461</td>\n",
       "      <td>0.225480</td>\n",
       "      <td>0.672696</td>\n",
       "    </tr>\n",
       "    <tr>\n",
       "      <th>GLSZM_GLN</th>\n",
       "      <td>0.056317</td>\n",
       "      <td>1.000000</td>\n",
       "      <td>-0.703558</td>\n",
       "      <td>0.440815</td>\n",
       "      <td>0.367485</td>\n",
       "      <td>0.081616</td>\n",
       "      <td>-0.175531</td>\n",
       "      <td>0.277540</td>\n",
       "      <td>0.194987</td>\n",
       "    </tr>\n",
       "    <tr>\n",
       "      <th>GLSZM_HGZE</th>\n",
       "      <td>-0.099873</td>\n",
       "      <td>-0.703558</td>\n",
       "      <td>1.000000</td>\n",
       "      <td>-0.608134</td>\n",
       "      <td>-0.656595</td>\n",
       "      <td>-0.031420</td>\n",
       "      <td>0.375812</td>\n",
       "      <td>-0.604954</td>\n",
       "      <td>-0.156374</td>\n",
       "    </tr>\n",
       "    <tr>\n",
       "      <th>GLSZM_LGZE</th>\n",
       "      <td>0.149759</td>\n",
       "      <td>0.440815</td>\n",
       "      <td>-0.608134</td>\n",
       "      <td>1.000000</td>\n",
       "      <td>0.751188</td>\n",
       "      <td>0.436259</td>\n",
       "      <td>-0.581411</td>\n",
       "      <td>0.385662</td>\n",
       "      <td>0.379769</td>\n",
       "    </tr>\n",
       "    <tr>\n",
       "      <th>GLSZM_SZLGE</th>\n",
       "      <td>-0.214400</td>\n",
       "      <td>0.367485</td>\n",
       "      <td>-0.656595</td>\n",
       "      <td>0.751188</td>\n",
       "      <td>1.000000</td>\n",
       "      <td>0.326860</td>\n",
       "      <td>-0.285073</td>\n",
       "      <td>0.377423</td>\n",
       "      <td>0.020010</td>\n",
       "    </tr>\n",
       "    <tr>\n",
       "      <th>GLSZM_ZSV</th>\n",
       "      <td>0.111534</td>\n",
       "      <td>0.081616</td>\n",
       "      <td>-0.031420</td>\n",
       "      <td>0.436259</td>\n",
       "      <td>0.326860</td>\n",
       "      <td>1.000000</td>\n",
       "      <td>-0.263036</td>\n",
       "      <td>-0.038260</td>\n",
       "      <td>0.367516</td>\n",
       "    </tr>\n",
       "    <tr>\n",
       "      <th>Global_Kurtosis</th>\n",
       "      <td>-0.534461</td>\n",
       "      <td>-0.175531</td>\n",
       "      <td>0.375812</td>\n",
       "      <td>-0.581411</td>\n",
       "      <td>-0.285073</td>\n",
       "      <td>-0.263036</td>\n",
       "      <td>1.000000</td>\n",
       "      <td>-0.698655</td>\n",
       "      <td>-0.578591</td>\n",
       "    </tr>\n",
       "    <tr>\n",
       "      <th>Global_Skewness</th>\n",
       "      <td>0.225480</td>\n",
       "      <td>0.277540</td>\n",
       "      <td>-0.604954</td>\n",
       "      <td>0.385662</td>\n",
       "      <td>0.377423</td>\n",
       "      <td>-0.038260</td>\n",
       "      <td>-0.698655</td>\n",
       "      <td>1.000000</td>\n",
       "      <td>0.129583</td>\n",
       "    </tr>\n",
       "    <tr>\n",
       "      <th>Global_Variance</th>\n",
       "      <td>0.672696</td>\n",
       "      <td>0.194987</td>\n",
       "      <td>-0.156374</td>\n",
       "      <td>0.379769</td>\n",
       "      <td>0.020010</td>\n",
       "      <td>0.367516</td>\n",
       "      <td>-0.578591</td>\n",
       "      <td>0.129583</td>\n",
       "      <td>1.000000</td>\n",
       "    </tr>\n",
       "  </tbody>\n",
       "</table>\n",
       "</div>"
      ],
      "text/plain": [
       "                 GLRLM_LRLGE  GLSZM_GLN  GLSZM_HGZE  GLSZM_LGZE  GLSZM_SZLGE  \\\n",
       "GLRLM_LRLGE         1.000000   0.056317   -0.099873    0.149759    -0.214400   \n",
       "GLSZM_GLN           0.056317   1.000000   -0.703558    0.440815     0.367485   \n",
       "GLSZM_HGZE         -0.099873  -0.703558    1.000000   -0.608134    -0.656595   \n",
       "GLSZM_LGZE          0.149759   0.440815   -0.608134    1.000000     0.751188   \n",
       "GLSZM_SZLGE        -0.214400   0.367485   -0.656595    0.751188     1.000000   \n",
       "GLSZM_ZSV           0.111534   0.081616   -0.031420    0.436259     0.326860   \n",
       "Global_Kurtosis    -0.534461  -0.175531    0.375812   -0.581411    -0.285073   \n",
       "Global_Skewness     0.225480   0.277540   -0.604954    0.385662     0.377423   \n",
       "Global_Variance     0.672696   0.194987   -0.156374    0.379769     0.020010   \n",
       "\n",
       "                 GLSZM_ZSV  Global_Kurtosis  Global_Skewness  Global_Variance  \n",
       "GLRLM_LRLGE       0.111534        -0.534461         0.225480         0.672696  \n",
       "GLSZM_GLN         0.081616        -0.175531         0.277540         0.194987  \n",
       "GLSZM_HGZE       -0.031420         0.375812        -0.604954        -0.156374  \n",
       "GLSZM_LGZE        0.436259        -0.581411         0.385662         0.379769  \n",
       "GLSZM_SZLGE       0.326860        -0.285073         0.377423         0.020010  \n",
       "GLSZM_ZSV         1.000000        -0.263036        -0.038260         0.367516  \n",
       "Global_Kurtosis  -0.263036         1.000000        -0.698655        -0.578591  \n",
       "Global_Skewness  -0.038260        -0.698655         1.000000         0.129583  \n",
       "Global_Variance   0.367516        -0.578591         0.129583         1.000000  "
      ]
     },
     "execution_count": 20,
     "metadata": {},
     "output_type": "execute_result"
    }
   ],
   "source": [
    "df.corr()"
   ]
  },
  {
   "cell_type": "code",
   "execution_count": 21,
   "metadata": {},
   "outputs": [],
   "source": [
    "def get_features_to_exclude(df):\n",
    "    K = np.array(df.corr())\n",
    "    x, y = np.where(np.abs(K)>=0.7)\n",
    "    correlated_pair = []\n",
    "    drop_columns = []\n",
    "    for value in zip(x,y):\n",
    "        if value[0] == value[1]:\n",
    "            continue\n",
    "        if (value[1], value[0]) in correlated_pair:\n",
    "            continue\n",
    "        correlated_pair.append(value)\n",
    "        drop_columns.append(value[1])\n",
    "    \n",
    "    return drop_columns, correlated_pair"
   ]
  },
  {
   "cell_type": "code",
   "execution_count": 22,
   "metadata": {},
   "outputs": [],
   "source": [
    "drop_columns, correlated_pair = get_features_to_exclude(df)"
   ]
  },
  {
   "cell_type": "code",
   "execution_count": 23,
   "metadata": {},
   "outputs": [],
   "source": [
    "def drop_correlated_features(df, drop_columns):\n",
    "    dropped_feature_names = []\n",
    "    for index in drop_columns:\n",
    "        dropped_feature_names.append(df.columns[index])\n",
    "    dropped_df = df.drop(columns=dropped_feature_names, inplace=False)\n",
    "    return dropped_df"
   ]
  },
  {
   "cell_type": "code",
   "execution_count": 24,
   "metadata": {},
   "outputs": [],
   "source": [
    "filtered_df = drop_correlated_features(df, drop_columns)"
   ]
  },
  {
   "cell_type": "code",
   "execution_count": 25,
   "metadata": {},
   "outputs": [],
   "source": [
    "A = np.array(filtered_df.corr())"
   ]
  },
  {
   "cell_type": "code",
   "execution_count": 26,
   "metadata": {},
   "outputs": [],
   "source": [
    "# Form the graph from this \n",
    "import networkx as nx"
   ]
  },
  {
   "cell_type": "code",
   "execution_count": 27,
   "metadata": {},
   "outputs": [],
   "source": [
    "from matplotlib import pyplot as plt"
   ]
  },
  {
   "cell_type": "code",
   "execution_count": 28,
   "metadata": {},
   "outputs": [],
   "source": [
    "G = nx.from_numpy_matrix(A)\n",
    "# From this graph form the minimum spanning tree\n",
    "K = nx.minimum_spanning_tree(G)"
   ]
  },
  {
   "cell_type": "code",
   "execution_count": 29,
   "metadata": {},
   "outputs": [
    {
     "data": {
      "image/png": "[encoded data removed]",
      "text/plain": [
       "<Figure size 360x360 with 1 Axes>"
      ]
     },
     "metadata": {},
     "output_type": "display_data"
    }
   ],
   "source": [
    "# Plot the graph\n",
    "plt.figure(figsize=(5, 5))\n",
    "nx.draw(G, with_labels=True, font_weight='bold')"
   ]
  },
  {
   "cell_type": "code",
   "execution_count": 30,
   "metadata": {},
   "outputs": [
    {
     "data": {
      "image/png": "[encoded data removed]",
      "text/plain": [
       "<Figure size 360x360 with 1 Axes>"
      ]
     },
     "metadata": {},
     "output_type": "display_data"
    }
   ],
   "source": [
    "# Plot the minimum spanning tree\n",
    "plt.figure(figsize=(5,5))\n",
    "nx.draw(K, with_labels=True, font_weight='bold')"
   ]
  },
  {
   "cell_type": "code",
   "execution_count": 41,
   "metadata": {},
   "outputs": [],
   "source": [
    "adj_mst = np.abs(nx.adj_matrix(K))"
   ]
  },
  {
   "cell_type": "code",
   "execution_count": 42,
   "metadata": {},
   "outputs": [
    {
     "data": {
      "text/plain": [
       "matrix([[0.        , 0.        , 0.        , 0.        , 0.53446123,\n",
       "         0.        , 0.        ],\n",
       "        [0.        , 0.        , 0.        , 0.        , 0.1755314 ,\n",
       "         0.        , 0.        ],\n",
       "        [0.        , 0.        , 0.        , 0.        , 0.58141061,\n",
       "         0.        , 0.        ],\n",
       "        [0.        , 0.        , 0.        , 0.        , 0.26303638,\n",
       "         0.        , 0.        ],\n",
       "        [0.53446123, 0.1755314 , 0.58141061, 0.26303638, 0.        ,\n",
       "         0.69865463, 0.57859068],\n",
       "        [0.        , 0.        , 0.        , 0.        , 0.69865463,\n",
       "         0.        , 0.        ],\n",
       "        [0.        , 0.        , 0.        , 0.        , 0.57859068,\n",
       "         0.        , 0.        ]])"
      ]
     },
     "execution_count": 42,
     "metadata": {},
     "output_type": "execute_result"
    }
   ],
   "source": [
    "adj_mst.todense()"
   ]
  },
  {
   "cell_type": "code",
   "execution_count": 48,
   "metadata": {},
   "outputs": [],
   "source": [
    "def compute_graph_laplacian_matrix(graph):\n",
    "    return np.abs(nx.laplacian_matrix(graph).todense())"
   ]
  },
  {
   "cell_type": "code",
   "execution_count": 49,
   "metadata": {},
   "outputs": [],
   "source": [
    "L = compute_graph_laplacian_matrix(K)"
   ]
  },
  {
   "cell_type": "code",
   "execution_count": 50,
   "metadata": {},
   "outputs": [],
   "source": [
    "def compute_fourier_bases(graph_laplacian_matrix):\n",
    "    return np.linalg.eigh(graph_laplacian_matrix)"
   ]
  },
  {
   "cell_type": "code",
   "execution_count": 59,
   "metadata": {},
   "outputs": [],
   "source": [
    "eigenvalues, eigenvectors = compute_fourier_bases(L)"
   ]
  },
  {
   "cell_type": "code",
   "execution_count": 60,
   "metadata": {},
   "outputs": [],
   "source": [
    "X = np.array(filtered_df)"
   ]
  },
  {
   "cell_type": "code",
   "execution_count": 88,
   "metadata": {},
   "outputs": [],
   "source": [
    "# Normalize the features within group to have unit norm\n",
    "# Use five-fold cross-validation to see if the results make sense\n",
    "from sklearn.model_selection import StratifiedKFold\n",
    "from sklearn.preprocessing import StandardScaler\n",
    "from sklearn.pipeline import Pipeline\n"
   ]
  },
  {
   "cell_type": "code",
   "execution_count": 91,
   "metadata": {},
   "outputs": [],
   "source": [
    "scaler = StandardScaler()\n",
    "cv = StratifiedKFold(n_splits=2, random_state=2019)"
   ]
  },
  {
   "cell_type": "code",
   "execution_count": 92,
   "metadata": {},
   "outputs": [],
   "source": [
    "X_normalized = scaler.fit_transform(X)"
   ]
  },
  {
   "cell_type": "code",
   "execution_count": 102,
   "metadata": {},
   "outputs": [],
   "source": [
    "# Obtain the graph Fourier transform for each graph signal\n",
    "X_normalized_graph = np.dot(eigenvectors.transpose(), X_normalized.transpose()).T\n",
    "# Each row in X_normalized_graph represents a patient"
   ]
  },
  {
   "cell_type": "code",
   "execution_count": 105,
   "metadata": {},
   "outputs": [
    {
     "data": {
      "text/plain": [
       "(array([ 0,  5, 11, 18, 22, 26, 28, 33, 34, 36, 45, 48, 49, 53, 57, 58, 63,\n",
       "        64, 65, 66, 76]),)"
      ]
     },
     "execution_count": 105,
     "metadata": {},
     "output_type": "execute_result"
    }
   ],
   "source": [
    "np.where(idh_labels == 0)"
   ]
  },
  {
   "cell_type": "code",
   "execution_count": 158,
   "metadata": {},
   "outputs": [],
   "source": [
    "X_non_mut_graph = X_normalized_graph[np.where(idh_labels == 0)]\n",
    "X_mut_graph = X_normalized_graph[np.where(idh_labels == 1)]"
   ]
  },
  {
   "cell_type": "code",
   "execution_count": 157,
   "metadata": {},
   "outputs": [
    {
     "data": {
      "image/png": "[encoded data removed]",
      "text/plain": [
       "<Figure size 432x288 with 1 Axes>"
      ]
     },
     "metadata": {
      "needs_background": "light"
     },
     "output_type": "display_data"
    }
   ],
   "source": [
    "for signal in X_non_mut_graph:\n",
    "    plt.plot(np.linspace(1,7,num=7), signal.T)\n",
    "    "
   ]
  },
  {
   "cell_type": "code",
   "execution_count": 159,
   "metadata": {},
   "outputs": [
    {
     "data": {
      "image/png": "[encoded data removed]",
      "text/plain": [
       "<Figure size 432x288 with 1 Axes>"
      ]
     },
     "metadata": {
      "needs_background": "light"
     },
     "output_type": "display_data"
    }
   ],
   "source": [
    "for signal in X_mut_graph:\n",
    "    plt.plot(np.linspace(1,7,num=7), signal.T)"
   ]
  },
  {
   "cell_type": "code",
   "execution_count": 140,
   "metadata": {},
   "outputs": [
    {
     "data": {
      "text/plain": [
       "array([1., 2., 3., 4., 5., 6., 7.])"
      ]
     },
     "execution_count": 140,
     "metadata": {},
     "output_type": "execute_result"
    }
   ],
   "source": [
    "np.linspace(1,7,num=7)"
   ]
  },
  {
   "cell_type": "code",
   "execution_count": 122,
   "metadata": {},
   "outputs": [
    {
     "data": {
      "text/plain": [
       "matrix([[ 0.59131275, -1.15573673,  0.73183787, -0.15227353,  0.07434623,\n",
       "         -0.13106278, -0.54133575]])"
      ]
     },
     "execution_count": 122,
     "metadata": {},
     "output_type": "execute_result"
    }
   ],
   "source": [
    "X_normalized_graph[0,:]"
   ]
  },
  {
   "cell_type": "code",
   "execution_count": 68,
   "metadata": {},
   "outputs": [
    {
     "data": {
      "text/plain": [
       "KFold(n_splits=5, random_state=42, shuffle=False)"
      ]
     },
     "execution_count": 68,
     "metadata": {},
     "output_type": "execute_result"
    }
   ],
   "source": [
    "pipe = Pipeline(steps=[('scaler', scaler), ('kfold', )])"
   ]
  },
  {
   "cell_type": "code",
   "execution_count": 66,
   "metadata": {},
   "outputs": [],
   "source": [
    "pipe = Pipeline(sst)"
   ]
  },
  {
   "cell_type": "code",
   "execution_count": null,
   "metadata": {},
   "outputs": [],
   "source": [
    "df['T1CE'] = df['mat_file_name']"
   ]
  },
  {
   "cell_type": "code",
   "execution_count": null,
   "metadata": {},
   "outputs": [],
   "source": [
    "labels = pd.read_csv('Patient_Information_and_Metadata.csv')\n",
    "labels = labels[['T1CE', 'IDH1', '1p_19q_co_del_status', 'days_to_last_or_death']]"
   ]
  },
  {
   "cell_type": "code",
   "execution_count": null,
   "metadata": {},
   "outputs": [],
   "source": [
    "df = df.merge(labels, on='T1CE')"
   ]
  },
  {
   "cell_type": "code",
   "execution_count": null,
   "metadata": {},
   "outputs": [],
   "source": [
    "df.shape"
   ]
  },
  {
   "cell_type": "code",
   "execution_count": null,
   "metadata": {},
   "outputs": [],
   "source": [
    "df = df[df['experiment_number'] == 1]\n",
    "df.drop(columns=['mat_file_name', 'experiment_number', 'parameters_Algo', \n",
    "                 'parameters_Ng', 'parameters_Scale', 'T1CE', 'IDH1', 'days_to_last_or_death'], inplace=True)"
   ]
  },
  {
   "cell_type": "code",
   "execution_count": null,
   "metadata": {},
   "outputs": [],
   "source": [
    "y = df['1p_19q_co_del_status']"
   ]
  },
  {
   "cell_type": "code",
   "execution_count": null,
   "metadata": {},
   "outputs": [],
   "source": [
    "df.drop(columns=['1p_19q_co_del_status'], inplace=True)"
   ]
  },
  {
   "cell_type": "code",
   "execution_count": null,
   "metadata": {},
   "outputs": [],
   "source": [
    "corr_matrix = np.array(df.corr())"
   ]
  },
  {
   "cell_type": "code",
   "execution_count": null,
   "metadata": {},
   "outputs": [],
   "source": [
    "import copy\n",
    "A = copy.deepcopy(corr_matrix)\n",
    "A[A>0.7]=0\n",
    "A[A<-0.7]=0\n",
    "A[A!= 0] = 1"
   ]
  },
  {
   "cell_type": "code",
   "execution_count": null,
   "metadata": {},
   "outputs": [],
   "source": [
    "A"
   ]
  },
  {
   "cell_type": "code",
   "execution_count": null,
   "metadata": {},
   "outputs": [],
   "source": [
    "import networkx as nx"
   ]
  },
  {
   "cell_type": "code",
   "execution_count": null,
   "metadata": {},
   "outputs": [],
   "source": [
    "G = nx.from_numpy_matrix(A)\n",
    "T = nx.minimum_spanning_tree(G)"
   ]
  },
  {
   "cell_type": "code",
   "execution_count": null,
   "metadata": {},
   "outputs": [],
   "source": [
    "T"
   ]
  },
  {
   "cell_type": "code",
   "execution_count": null,
   "metadata": {},
   "outputs": [],
   "source": [
    "A_adj = nx.adjacency_matrix(T)"
   ]
  },
  {
   "cell_type": "code",
   "execution_count": null,
   "metadata": {},
   "outputs": [],
   "source": [
    "import seaborn as sns\n",
    "fig = plt.figure(figsize=(42, 42))\n",
    "ax=plt.gca()\n",
    "sns.heatmap(A.astype(int),annot=True, fmt=\"d\", cbar=False,cmap=\"BuPu\")\n",
    "ax.set_axis_off()\n",
    "plt.show()"
   ]
  },
  {
   "cell_type": "code",
   "execution_count": null,
   "metadata": {},
   "outputs": [],
   "source": [
    "nx.degree(T)"
   ]
  },
  {
   "cell_type": "code",
   "execution_count": null,
   "metadata": {},
   "outputs": [],
   "source": [
    "plt.figure(figsize=(25, 25))\n",
    "nx.draw(T, with_labels=True, font_weight='bold')"
   ]
  },
  {
   "cell_type": "code",
   "execution_count": null,
   "metadata": {},
   "outputs": [],
   "source": [
    "nx.algorithms.cycles.find_cycle(T)"
   ]
  },
  {
   "cell_type": "code",
   "execution_count": null,
   "metadata": {},
   "outputs": [],
   "source": [
    "D = np.zeros((A.shape[0], A.shape[1]))"
   ]
  },
  {
   "cell_type": "code",
   "execution_count": null,
   "metadata": {},
   "outputs": [],
   "source": [
    "for node, degree in T.degree():\n",
    "    D[node][node] = degree"
   ]
  },
  {
   "cell_type": "code",
   "execution_count": null,
   "metadata": {},
   "outputs": [],
   "source": [
    "plt.imshow(D)\n",
    "plt.colorbar()"
   ]
  },
  {
   "cell_type": "code",
   "execution_count": null,
   "metadata": {},
   "outputs": [],
   "source": [
    "L = nx.linalg.laplacian_matrix(T)"
   ]
  },
  {
   "cell_type": "code",
   "execution_count": null,
   "metadata": {},
   "outputs": [],
   "source": [
    "fig = plt.figure(figsize=(42,42))\n",
    "ax=plt.gca()\n",
    "sns.heatmap(L.toarray().astype(int),annot=True, fmt=\"d\", cbar=False,cmap=\"BuPu\")\n",
    "ax.set_axis_off()\n",
    "plt.show()"
   ]
  },
  {
   "cell_type": "code",
   "execution_count": null,
   "metadata": {},
   "outputs": [],
   "source": [
    "def eig_decompose_laplacian(L):\n",
    "    eigvalues, eigvectors = np.linalg.eigh(L)\n",
    "    idx = np.argsort(eigvalues)[::-1]\n",
    "    sorted_eig = eigvalues[idx]\n",
    "    sorted_eigv = eigvectors[idx]\n",
    "    return (sorted_eig, sorted_eigv)"
   ]
  },
  {
   "cell_type": "code",
   "execution_count": null,
   "metadata": {},
   "outputs": [],
   "source": [
    "# L is a sparse compressed matrix\n",
    "# Convert to dense before eigendecomposition\n",
    "eigvalues, eigvectors = eig_decompose_laplacian(L.todense().astype(int))\n",
    "np.diag(np.dot(eigvectors, eigvectors.T))"
   ]
  },
  {
   "cell_type": "code",
   "execution_count": null,
   "metadata": {},
   "outputs": [],
   "source": [
    "X = np.array(df).transpose()"
   ]
  },
  {
   "cell_type": "markdown",
   "metadata": {},
   "source": [
    "### The input_signal, $\\matrix{X}$ is a graph signal\n",
    "### $\\matrix{X}$ $\\in$ $\\mathcal{R}^{NxF}$, \n",
    "### where $N$ is number of nodes and $F$ is the number of features"
   ]
  },
  {
   "cell_type": "code",
   "execution_count": null,
   "metadata": {},
   "outputs": [],
   "source": [
    "X.shape"
   ]
  },
  {
   "cell_type": "markdown",
   "metadata": {},
   "source": [
    "### Compute the graph Fourier Transform\n",
    "### $\\matrix{X}_{GFT}$ $=$ $\\matrix{V}^{H}{X}$"
   ]
  },
  {
   "cell_type": "markdown",
   "metadata": {},
   "source": [
    "### The column $i$, $\\matrix{X}_{i}$ represents the graph signal for the $i^{th}$ patient"
   ]
  },
  {
   "cell_type": "code",
   "execution_count": null,
   "metadata": {},
   "outputs": [],
   "source": [
    "def compute_graph_fourier_transform(V, input_graph_signal):\n",
    "    assert(X.shape[0] == V.shape[0])\n",
    "    X_gft = np.dot(V.transpose(), input_graph_signal)\n",
    "    return X_gft"
   ]
  },
  {
   "cell_type": "code",
   "execution_count": null,
   "metadata": {},
   "outputs": [],
   "source": [
    "X_gft = compute_graph_fourier_transform(eigvectors, X)"
   ]
  },
  {
   "cell_type": "code",
   "execution_count": null,
   "metadata": {},
   "outputs": [],
   "source": [
    "from pygsp import graphs, plotting, filters"
   ]
  },
  {
   "cell_type": "code",
   "execution_count": null,
   "metadata": {},
   "outputs": [],
   "source": [
    "G_pygsp = graphs.Graph(A_adj)"
   ]
  },
  {
   "cell_type": "code",
   "execution_count": null,
   "metadata": {},
   "outputs": [],
   "source": [
    "G_pygsp.set_coordinates()\n",
    "plotting.plot_graph(G_pygsp)"
   ]
  },
  {
   "cell_type": "code",
   "execution_count": null,
   "metadata": {
    "scrolled": true
   },
   "outputs": [],
   "source": [
    "plotting.plot_signal(G_pygsp, signal=s)"
   ]
  },
  {
   "cell_type": "code",
   "execution_count": null,
   "metadata": {},
   "outputs": [],
   "source": [
    "plotting.plot_signal(G_pygsp, signal=X[:,105])"
   ]
  },
  {
   "cell_type": "code",
   "execution_count": null,
   "metadata": {},
   "outputs": [],
   "source": []
  }
 ],
 "metadata": {
  "kernelspec": {
   "display_name": "Python 3",
   "language": "python",
   "name": "python3"
  },
  "language_info": {
   "codemirror_mode": {
    "name": "ipython",
    "version": 3
   },
   "file_extension": ".py",
   "mimetype": "text/x-python",
   "name": "python",
   "nbconvert_exporter": "python",
   "pygments_lexer": "ipython3",
   "version": "3.7.2"
  }
 },
 "nbformat": 4,
 "nbformat_minor": 2
}
