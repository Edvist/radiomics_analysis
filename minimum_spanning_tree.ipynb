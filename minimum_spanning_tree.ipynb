{
 "cells": [
  {
   "cell_type": "markdown",
   "metadata": {},
   "source": [
    "#### Across all scales (experiments), use the union of independent features after controlling for batch parameters and tumour volume. If a feature repeats in multiple scales, use the median of the features"
   ]
  },
  {
   "cell_type": "markdown",
   "metadata": {},
   "source": [
    "#### For even elements, the median is the average of the middle numbers after sorting in ascending order, for odd number of elements, the median is the element in the middle after sorting it in ascending order"
   ]
  },
  {
   "cell_type": "markdown",
   "metadata": {},
   "source": [
    "#### To form the graph Laplacian, try multiple approaches:\n",
    "#### 1. Estimate the graph Laplacian using LASSO, GLASSO, using GMRF assumptions etc\n",
    "#### 2. Use the Minimum Spanning Tree after eliminating the correlated features"
   ]
  },
  {
   "cell_type": "code",
   "execution_count": 1,
   "metadata": {},
   "outputs": [],
   "source": [
    "import os\n",
    "import pandas as pd\n",
    "import numpy as np"
   ]
  },
  {
   "cell_type": "code",
   "execution_count": 2,
   "metadata": {},
   "outputs": [],
   "source": [
    "%matplotlib inline\n",
    "import matplotlib.pyplot as plt"
   ]
  },
  {
   "cell_type": "code",
   "execution_count": 3,
   "metadata": {},
   "outputs": [],
   "source": [
    "import networkx as nx\n",
    "import pygsp"
   ]
  },
  {
   "cell_type": "code",
   "execution_count": 4,
   "metadata": {},
   "outputs": [
    {
     "name": "stdout",
     "output_type": "stream",
     "text": [
      "/home/raghuram/Desktop/radiomics/TEXTURES/results\n"
     ]
    }
   ],
   "source": [
    "cd '/home/raghuram/Desktop/radiomics/TEXTURES/results'"
   ]
  },
  {
   "cell_type": "code",
   "execution_count": 5,
   "metadata": {},
   "outputs": [],
   "source": [
    "home = '/home/raghuram/Desktop/radiomics/TEXTURES/results'"
   ]
  },
  {
   "cell_type": "code",
   "execution_count": 6,
   "metadata": {},
   "outputs": [],
   "source": [
    "features_folder = '/home/raghuram/Desktop/radiomics/TEXTURES'"
   ]
  },
  {
   "cell_type": "code",
   "execution_count": 7,
   "metadata": {},
   "outputs": [],
   "source": [
    "folder_list = os.listdir(os.getcwd())"
   ]
  },
  {
   "cell_type": "code",
   "execution_count": 8,
   "metadata": {},
   "outputs": [],
   "source": [
    "csv_file_dict = {}"
   ]
  },
  {
   "cell_type": "code",
   "execution_count": 21,
   "metadata": {},
   "outputs": [],
   "source": [
    "def get_csv_files():\n",
    "    for folder in folder_list:\n",
    "        if folder[-3:] == 'csv':\n",
    "            continue\n",
    "        csv_file_list = sorted(os.listdir(os.path.join(home, folder, 'linear_regression', 'without_idh1')), key=lambda x: int(x.split('_')[0]))\n",
    "        csv_file_dict[folder] = csv_file_list\n",
    "    \n",
    "    return csv_file_dict"
   ]
  },
  {
   "cell_type": "code",
   "execution_count": 22,
   "metadata": {},
   "outputs": [],
   "source": [
    "modality_csv_files = get_csv_files()"
   ]
  },
  {
   "cell_type": "code",
   "execution_count": 23,
   "metadata": {},
   "outputs": [],
   "source": [
    "df = pd.read_csv(os.path.join(home, 't2f', 'linear_regression', 'without_idh1', modality_csv_files['t2f'][0]))"
   ]
  },
  {
   "cell_type": "code",
   "execution_count": 24,
   "metadata": {},
   "outputs": [],
   "source": [
    "features = list(df['response_variable'].unique())"
   ]
  },
  {
   "cell_type": "code",
   "execution_count": 25,
   "metadata": {},
   "outputs": [],
   "source": [
    "alpha = 0.05\n",
    "m = len(features)*5\n",
    "bonferroni_correction_factor = alpha/(m)"
   ]
  },
  {
   "cell_type": "code",
   "execution_count": 26,
   "metadata": {},
   "outputs": [],
   "source": [
    "def get_all_independent_features_modality(modality, modality_csv_files):\n",
    "    csv_file_list = modality_csv_files[modality]\n",
    "    return csv_file_list"
   ]
  },
  {
   "cell_type": "code",
   "execution_count": 27,
   "metadata": {},
   "outputs": [],
   "source": [
    "csv_file_list = get_all_independent_features_modality('t2f', modality_csv_files)"
   ]
  },
  {
   "cell_type": "code",
   "execution_count": 33,
   "metadata": {},
   "outputs": [],
   "source": [
    "def filter_relevant_features():\n",
    "    results_dict = {}\n",
    "    for modality in modality_csv_files.keys():\n",
    "        results_dict[modality] = {}\n",
    "        \n",
    "        csv_file_list = modality_csv_files[modality]\n",
    "        for csv_file in csv_file_list:\n",
    "            df = pd.read_csv(os.path.join(home, modality, 'linear_regression', 'without_idh1', csv_file))\n",
    "            experiment_number = csv_file.split('_')[0]   \n",
    "            results_dict[modality][experiment_number] = ['IDH1', '1p_19q_co_del_status']\n",
    "            for idx, feature in enumerate(features):\n",
    "                feature_df = df[df['response_variable'] == feature]\n",
    "    #             print(feature_df.head())\n",
    "                if np.all(feature_df['pvals']>bonferroni_correction_factor):\n",
    "                    results_dict[modality][experiment_number].append(feature)\n",
    "                    continue\n",
    "                else:\n",
    "                    continue\n",
    "    return results_dict"
   ]
  },
  {
   "cell_type": "code",
   "execution_count": 34,
   "metadata": {},
   "outputs": [],
   "source": [
    "results_dict = filter_relevant_features()"
   ]
  },
  {
   "cell_type": "code",
   "execution_count": 35,
   "metadata": {},
   "outputs": [],
   "source": [
    "reverse_feature_dict = {}\n",
    "modality_list =  ['t2w', 't1w', 't1ce', 't2f']\n",
    "feature_set = {}\n",
    "for modality in modality_list:\n",
    "    feature_set[modality] = set()\n",
    "    reverse_feature_dict[modality] = {}\n",
    "    for results in results_dict[modality]:\n",
    "        for feature in results_dict[modality][results]:\n",
    "            \n",
    "\n",
    "            if feature not in reverse_feature_dict[modality].keys():\n",
    "                reverse_feature_dict[modality][feature] = []\n",
    "            reverse_feature_dict[modality][feature].append(int(results))"
   ]
  },
  {
   "cell_type": "code",
   "execution_count": 37,
   "metadata": {},
   "outputs": [],
   "source": [
    "for modality, value in reverse_feature_dict.items():\n",
    "    modality_features_df = pd.read_csv(os.path.join(features_folder, 'expt'+'_'+modality+'.csv'))\n",
    "\n",
    "    feature_dict = {}\n",
    "    for feature, expt_list in value.items():\n",
    "        feature_dict[feature] = np.median(expt_list)\n",
    "    \n",
    "    df_features = {}\n",
    "    df = pd.DataFrame(feature_dict, index=[0])\n",
    "    df = df.T\n",
    "    for idx, column in enumerate(df.index):\n",
    "        expt_number = (df.loc[column,:].item())\n",
    "        if expt_number.is_integer():\n",
    "            df_features[column] = np.array(modality_features_df[(modality_features_df['experiment_number'] == expt_number)][column])\n",
    "        else:\n",
    "            subset_features_df_1 = modality_features_df[(modality_features_df['experiment_number'] == int(expt_number))][column]\n",
    "                                                     \n",
    "            subset_features_df_2 = modality_features_df[(modality_features_df['experiment_number'] == int(expt_number)+1)][column]\n",
    "            average_df = np.array(subset_features_df_1)/2+np.array(subset_features_df_2)/2\n",
    "            df_features[column] = average_df\n",
    "    # Write this dataframe to file\n",
    "    pd.DataFrame.from_dict(df_features).to_csv(modality+'_'+'features.csv', index=False)\n"
   ]
  },
  {
   "cell_type": "code",
   "execution_count": 57,
   "metadata": {},
   "outputs": [],
   "source": [
    "# Estimate the graph Laplacian using GLASSO\n",
    "from sklearn.covariance import graphical_lasso, GraphicalLassoCV"
   ]
  },
  {
   "cell_type": "code",
   "execution_count": 39,
   "metadata": {},
   "outputs": [],
   "source": [
    "# Load the dataframe\n",
    "def load_features(modality_dataframe):\n",
    "    df = pd.read_csv(modality_dataframe)\n",
    "    return df"
   ]
  },
  {
   "cell_type": "code",
   "execution_count": 127,
   "metadata": {},
   "outputs": [],
   "source": [
    "def check_for_positive_semidefinite(K):\n",
    "    return np.all(np.linalg.eigvals(K)>=0)"
   ]
  },
  {
   "cell_type": "code",
   "execution_count": 158,
   "metadata": {},
   "outputs": [],
   "source": [
    "def compute_graph_fourier_transform(laplacian_matrix):\n",
    "    # The Laplacian is symmetric\n",
    "    eigvalues, eigvectors = np.linalg.eigh(laplacian_matrix)\n",
    "    return eigvalues, eigvectors"
   ]
  },
  {
   "cell_type": "code",
   "execution_count": 173,
   "metadata": {},
   "outputs": [],
   "source": [
    "def compute_graph_frequency(eigvectors, graph_signal_matrix, to_filter=False, which_filter=None):\n",
    "#     if to_filter is None:\n",
    "    return np.dot(eigvectors.T, graph_signal_matrix.T).T"
   ]
  },
  {
   "cell_type": "code",
   "execution_count": 123,
   "metadata": {},
   "outputs": [],
   "source": [
    "from sklearn.model_selection import StratifiedKFold"
   ]
  },
  {
   "cell_type": "code",
   "execution_count": 133,
   "metadata": {},
   "outputs": [],
   "source": [
    "from sklearn.linear_model import LogisticRegression"
   ]
  },
  {
   "cell_type": "code",
   "execution_count": 136,
   "metadata": {},
   "outputs": [],
   "source": [
    "import csv"
   ]
  },
  {
   "cell_type": "code",
   "execution_count": 155,
   "metadata": {},
   "outputs": [],
   "source": [
    "from sklearn import covariance"
   ]
  },
  {
   "cell_type": "code",
   "execution_count": 137,
   "metadata": {},
   "outputs": [],
   "source": [
    "from sklearn.metrics import accuracy_score, roc_auc_score, precision_score, recall_score, f1_score"
   ]
  },
  {
   "cell_type": "code",
   "execution_count": 175,
   "metadata": {},
   "outputs": [],
   "source": [
    "def compute_metrics(y_predicted, y_actual):\n",
    "    output_dict = {}\n",
    "    output_dict['acc'] = accuracy_score(y_actual, y_predicted)\n",
    "    output_dict['roc_score'] = roc_auc_score(y_actual, y_predicted)\n",
    "    output_dict['precision'] = precision_score(y_actual, y_predicted)\n",
    "    output_dict['recall'] = recall_score(y_actual, y_predicted)\n",
    "    output_dict['f1'] = f1_score(y_actual, y_predicted)\n",
    "    \n",
    "    return output_dict\n",
    "    "
   ]
  },
  {
   "cell_type": "code",
   "execution_count": 190,
   "metadata": {},
   "outputs": [
    {
     "name": "stdout",
     "output_type": "stream",
     "text": [
      "Total size: (102, 18)\n",
      "Classwise split in data: 75\n",
      "Train size: (68, 18)\n",
      "Laplacian is not positive semi-definite\n",
      "Fourier train: (68, 18)\n",
      "Train size: (68, 18)\n",
      "Laplacian is not positive semi-definite\n",
      "Fourier train: (68, 18)\n",
      "Train size: (68, 18)\n",
      "Laplacian is not positive semi-definite\n",
      "Fourier train: (68, 18)\n",
      "Total size: (99, 24)\n",
      "Classwise split in data: 72\n",
      "Train size: (66, 24)\n",
      "Laplacian is not positive semi-definite\n",
      "Fourier train: (66, 24)\n",
      "Train size: (66, 24)\n",
      "Laplacian is not positive semi-definite\n",
      "Fourier train: (66, 24)\n",
      "Train size: (66, 24)\n",
      "Laplacian is not positive semi-definite\n",
      "Fourier train: (66, 24)\n",
      "Total size: (75, 37)\n",
      "Classwise split in data: 56.0\n",
      "Train size: (49, 37)\n",
      "Laplacian is not positive semi-definite\n",
      "Fourier train: (49, 37)\n",
      "Train size: (50, 37)\n",
      "Laplacian is not positive semi-definite\n",
      "Fourier train: (50, 37)\n",
      "Train size: (51, 37)\n",
      "Laplacian is not positive semi-definite\n",
      "Fourier train: (51, 37)\n",
      "Total size: (77, 22)\n",
      "Classwise split in data: 56.0\n",
      "Train size: (51, 22)\n",
      "Laplacian is not positive semi-definite\n",
      "Fourier train: (51, 22)\n",
      "Train size: (51, 22)\n",
      "Laplacian is not positive semi-definite\n",
      "Fourier train: (51, 22)\n",
      "Train size: (52, 22)\n",
      "Laplacian is not positive semi-definite\n",
      "Fourier train: (52, 22)\n"
     ]
    }
   ],
   "source": [
    "for modality in modality_list:\n",
    "    if modality == 't1ce':\n",
    "        lr_iter = 5000\n",
    "    else:\n",
    "        lr_iter = 1000\n",
    "    modality_laplacian_dict = {}\n",
    "    filename = modality+'_features.csv'\n",
    "    df = load_features(filename)\n",
    "    y = np.array(df['IDH1'])\n",
    "    df.drop(columns=['IDH1', '1p_19q_co_del_status'], inplace=True)\n",
    "    X = np.array(df)\n",
    "    print('Total size: {}'.format(X.shape))\n",
    "    print('Classwise split in data: {}'.format(y.sum()))\n",
    "    with open(modality+'_results.csv', 'w') as csvfile:\n",
    "        fieldnames = ['idx','sparsity_factor_laplacian', 'glasso_iter', 'classifier', 'train_size',\n",
    "                     'test_size', 'test_auc', 'test_accuracy', 'test_precision', 'test_recall', 'test_f1_score', \n",
    "                     'train_auc', 'train_accuracy', 'train_precision', 'train_recall', 'train_f1_score']\n",
    "        writer = csv.DictWriter(csvfile, fieldnames=fieldnames)\n",
    "        writer.writeheader()\n",
    "        \n",
    "        skf = StratifiedKFold(n_splits=3, shuffle=False, random_state=42)\n",
    "        iteration_count = 0\n",
    "        for train_index, test_index in skf.split(X, y):\n",
    "            X_train, X_test = X[train_index], X[test_index]\n",
    "            y_train, y_test = y[train_index], y[test_index]\n",
    "            \n",
    "#             print('Iteration count: {}'.format(iteration_count))\n",
    "#             print('Test size: {}'.format(X_test.shape))\n",
    "            print('Train size: {}'.format(X_train.shape))\n",
    "#             print('Classwise samples in test: {}'.format(y_test.sum()))\n",
    "#             print('Classwise samples in train: {}'.format(y_train.sum()))\n",
    "            \n",
    "#             print('Y_train is {}'.format(y_train))\n",
    "#             print('Y_test is {}'.format(y_test))\n",
    "\n",
    "            scaler = StandardScaler()\n",
    "\n",
    "            scaler.fit_transform(X_train)\n",
    "            scaler.transform(X_test)\n",
    "                \n",
    "            emp_cov = covariance.empirical_covariance(X_train, assume_centered=True)\n",
    "            shrunk_cov = covariance.shrunk_covariance(emp_cov, shrinkage=0.01)\n",
    "            \n",
    "            alpha = 0.02\n",
    "            max_iter = 100\n",
    "            _, precision_matrix = graphical_lasso(shrunk_cov, alpha=alpha, max_iter=max_iter)\n",
    "            # Eliminate self-loops\n",
    "            np.fill_diagonal(precision_matrix, 0)\n",
    "            G = nx.from_numpy_array(precision_matrix)\n",
    "            #Obtain the estimated Laplacian matrix of the graph\n",
    "            L_hat = nx.laplacian_matrix(G)\n",
    "\n",
    "            if not check_for_positive_semidefinite(L_hat.todense()):\n",
    "                print('Laplacian is not positive semi-definite')\n",
    "                eta = -1*np.min(np.linalg.eigvals(L_hat.todense()))\n",
    "                L_prime = L_hat.todense()+eta*np.eye(L_hat.todense().shape[0], L_hat.todense().shape[0])\n",
    "\n",
    "            elif check_for_positive_semidefinite(L_hat.todense()):\n",
    "                print('The Laplacian is positive semi-definite')\n",
    "                L_prime = L_hat\n",
    "\n",
    "            modality_laplacian_dict[iteration_count] = L_prime\n",
    "            eigvalues, eigvectors = compute_graph_fourier_transform(L_prime)\n",
    "\n",
    "            # Project the graph signal onto the Fourier basis\n",
    "            # The train graph signal is X_train, and the test graph signal is X_test\n",
    "\n",
    "            fourier_train = compute_graph_frequency(eigvectors, X_train)\n",
    "            print('Fourier train: {}'.format(fourier_train.shape))\n",
    "            fourier_test = compute_graph_frequency(eigvectors, X_test)\n",
    "\n",
    "            # Train the classifier on fourier_train. Classify on fourier_test\n",
    "            clf = LogisticRegression(random_state=42, solver='lbfgs', max_iter=lr_iter,n_jobs=-1).fit(fourier_train, y_train)\n",
    "            predictions = clf.predict(fourier_test)\n",
    "            test_metrics = compute_metrics(predictions, y_test)\n",
    "            train_preds = clf.predict(fourier_train)\n",
    "            train_metrics = compute_metrics(train_preds, y_train)\n",
    "            \n",
    "            writer.writerow({'idx':iteration_count,'sparsity_factor_laplacian':alpha, 'glasso_iter':max_iter, 'classifier':'LR', \n",
    "                             'train_size':X_train.shape[0], 'test_size':X_test.shape[0], \n",
    "                             'test_auc':test_metrics['roc_score'], 'test_accuracy':test_metrics['acc'], \n",
    "                             'test_precision':test_metrics['precision'], 'test_recall':test_metrics['recall'], \n",
    "                             'test_f1_score':test_metrics['f1'],\n",
    "                             'train_auc':train_metrics['roc_score'], 'train_accuracy':train_metrics['acc'], \n",
    "                             'train_precision':train_metrics['precision'], 'train_recall':train_metrics['recall'], \n",
    "                             'train_f1_score':test_metrics['f1']})\n",
    "            iteration_count += 1\n",
    "        \n",
    "        "
   ]
  },
  {
   "cell_type": "code",
   "execution_count": 185,
   "metadata": {},
   "outputs": [],
   "source": [
    "LogisticRegression?"
   ]
  },
  {
   "cell_type": "code",
   "execution_count": null,
   "metadata": {},
   "outputs": [],
   "source": [
    "y = np.array(df['IDH1'])\n",
    "df.drop(columns=['IDH1', '1p_19q_co_del_status'], inplace=True)"
   ]
  },
  {
   "cell_type": "code",
   "execution_count": 125,
   "metadata": {},
   "outputs": [
    {
     "data": {
      "text/plain": [
       "72"
      ]
     },
     "execution_count": 125,
     "metadata": {},
     "output_type": "execute_result"
    }
   ],
   "source": [
    "y.sum()"
   ]
  },
  {
   "cell_type": "code",
   "execution_count": 43,
   "metadata": {},
   "outputs": [
    {
     "name": "stdout",
     "output_type": "stream",
     "text": [
      "The shape of X is (99, 24)\n"
     ]
    }
   ],
   "source": [
    "print('The shape of X is {}'.format(X.shape))"
   ]
  },
  {
   "cell_type": "code",
   "execution_count": 44,
   "metadata": {},
   "outputs": [],
   "source": [
    "from sklearn.preprocessing import StandardScaler, MinMaxScaler"
   ]
  },
  {
   "cell_type": "code",
   "execution_count": 45,
   "metadata": {},
   "outputs": [],
   "source": [
    "scaler = StandardScaler()\n",
    "X = scaler.fit_transform(X)"
   ]
  },
  {
   "cell_type": "code",
   "execution_count": 47,
   "metadata": {},
   "outputs": [],
   "source": [
    "W = np.linalg.inv(np.cov(X, rowvar=False))"
   ]
  },
  {
   "cell_type": "code",
   "execution_count": 49,
   "metadata": {},
   "outputs": [],
   "source": [
    "# Check for symmetry\n",
    "assert((np.all(W) == np.all(W.T)))\n",
    "\n",
    "# Graph is undirected"
   ]
  },
  {
   "cell_type": "code",
   "execution_count": 126,
   "metadata": {},
   "outputs": [],
   "source": [
    "graphical_lasso?"
   ]
  },
  {
   "cell_type": "code",
   "execution_count": 50,
   "metadata": {},
   "outputs": [],
   "source": [
    "cov_matrix, precision_matrix = graphical_lasso(np.cov(X.T), alpha=0.02, max_iter=100)"
   ]
  },
  {
   "cell_type": "code",
   "execution_count": 58,
   "metadata": {},
   "outputs": [],
   "source": [
    "# We don't want any self loops for any node\n",
    "# Though it will be a good question to ask what is the effect of the self loop?\n",
    "np.fill_diagonal(precision_matrix, 0)"
   ]
  },
  {
   "cell_type": "code",
   "execution_count": 63,
   "metadata": {},
   "outputs": [
    {
     "data": {
      "text/plain": [
       "<matplotlib.colorbar.Colorbar at 0x7f0b719a87b8>"
      ]
     },
     "execution_count": 63,
     "metadata": {},
     "output_type": "execute_result"
    },
    {
     "data": {
      "image/png": "[encoded data removed]",
      "text/plain": [
       "<Figure size 288x288 with 2 Axes>"
      ]
     },
     "metadata": {
      "needs_background": "light"
     },
     "output_type": "display_data"
    }
   ],
   "source": [
    "# Display the estimated precision matrix\n",
    "plt.matshow(precision_matrix)\n",
    "plt.colorbar()"
   ]
  },
  {
   "cell_type": "code",
   "execution_count": 90,
   "metadata": {},
   "outputs": [],
   "source": [
    "# Obtain the Laplacian of the graph determined by W above\n",
    "G = nx.from_numpy_array(precision_matrix)\n",
    "D = nx.degree(G)\n",
    "L = nx.laplacian_matrix(G)"
   ]
  },
  {
   "cell_type": "code",
   "execution_count": 91,
   "metadata": {},
   "outputs": [
    {
     "data": {
      "text/plain": [
       "<matplotlib.colorbar.Colorbar at 0x7f0b70154358>"
      ]
     },
     "execution_count": 91,
     "metadata": {},
     "output_type": "execute_result"
    },
    {
     "data": {
      "image/png": "[encoded data removed]",
      "text/plain": [
       "<Figure size 288x288 with 2 Axes>"
      ]
     },
     "metadata": {
      "needs_background": "light"
     },
     "output_type": "display_data"
    }
   ],
   "source": [
    "plt.matshow(L.todense())\n",
    "plt.colorbar()"
   ]
  },
  {
   "cell_type": "code",
   "execution_count": 92,
   "metadata": {},
   "outputs": [
    {
     "data": {
      "text/plain": [
       "(24, 24)"
      ]
     },
     "execution_count": 92,
     "metadata": {},
     "output_type": "execute_result"
    }
   ],
   "source": [
    "L.shape"
   ]
  },
  {
   "cell_type": "code",
   "execution_count": 93,
   "metadata": {},
   "outputs": [
    {
     "data": {
      "text/plain": [
       "array([-4.95903854e+01, -5.02438324e+01, -3.58966690e+01, -2.89597274e+01,\n",
       "       -3.19473709e+01, -1.21354233e+01, -1.02989909e+01,  6.90103783e+00,\n",
       "       -6.49219845e+00,  5.47059192e+00,  3.73959636e+00,  1.94439999e+00,\n",
       "        1.39071418e+00, -2.43243189e+00, -2.32297986e+00, -2.00218683e+00,\n",
       "       -1.70984485e+00, -1.25617785e+00, -9.56279372e-01,  3.49538021e-01,\n",
       "       -4.20074773e-01, -2.05371723e-01,  4.06397135e-02, -3.24792477e-16])"
      ]
     },
     "execution_count": 93,
     "metadata": {},
     "output_type": "execute_result"
    }
   ],
   "source": [
    "# As can be seen above there are negative elements in the graph Laplacian \n",
    "# We can confirm that it is not positive semi definite\n",
    "\n",
    "lambda_vals = np.linalg.eigvals(L.todense())\n",
    "lambda_vals"
   ]
  },
  {
   "cell_type": "code",
   "execution_count": 94,
   "metadata": {},
   "outputs": [],
   "source": [
    "delta = -1*min(lambda_vals)*np.eye(24,24)"
   ]
  },
  {
   "cell_type": "code",
   "execution_count": 103,
   "metadata": {},
   "outputs": [],
   "source": [
    "L_prime = L.todense()+delta"
   ]
  },
  {
   "cell_type": "code",
   "execution_count": 104,
   "metadata": {},
   "outputs": [
    {
     "data": {
      "text/plain": [
       "array([2.21225815e-13, 6.53446986e-01, 1.43471634e+01, 1.82964615e+01,\n",
       "       2.12841050e+01, 3.81084091e+01, 3.99448415e+01, 4.37516339e+01,\n",
       "       4.78114005e+01, 4.79208525e+01, 4.82416455e+01, 4.85339875e+01,\n",
       "       4.89876545e+01, 4.92875530e+01, 4.98237576e+01, 5.00384607e+01,\n",
       "       5.02438324e+01, 5.02844721e+01, 5.05933704e+01, 5.16345466e+01,\n",
       "       5.21882324e+01, 5.39834287e+01, 5.57144243e+01, 5.71448702e+01])"
      ]
     },
     "execution_count": 104,
     "metadata": {},
     "output_type": "execute_result"
    }
   ],
   "source": [
    "np.sort(np.linalg.eigvals(L_prime))"
   ]
  },
  {
   "cell_type": "code",
   "execution_count": 105,
   "metadata": {},
   "outputs": [
    {
     "data": {
      "text/plain": [
       "<matplotlib.colorbar.Colorbar at 0x7f0b6eff4b38>"
      ]
     },
     "execution_count": 105,
     "metadata": {},
     "output_type": "execute_result"
    },
    {
     "data": {
      "image/png": "[encoded data removed]",
      "text/plain": [
       "<Figure size 288x288 with 2 Axes>"
      ]
     },
     "metadata": {
      "needs_background": "light"
     },
     "output_type": "display_data"
    }
   ],
   "source": [
    "plt.matshow(L_prime)\n",
    "plt.colorbar()"
   ]
  },
  {
   "cell_type": "code",
   "execution_count": 114,
   "metadata": {},
   "outputs": [],
   "source": [
    "# For the obtained L_prime, use the signals to obtain the GFT\n",
    "eigvals, eigvector = np.linalg.eigh(L_prime)"
   ]
  },
  {
   "cell_type": "code",
   "execution_count": 115,
   "metadata": {},
   "outputs": [
    {
     "data": {
      "text/plain": [
       "array([2.28371862e-13, 6.53446986e-01, 1.43471634e+01, 1.82964615e+01,\n",
       "       2.12841050e+01, 3.81084091e+01, 3.99448415e+01, 4.37516339e+01,\n",
       "       4.78114005e+01, 4.79208525e+01, 4.82416455e+01, 4.85339875e+01,\n",
       "       4.89876545e+01, 4.92875530e+01, 4.98237576e+01, 5.00384607e+01,\n",
       "       5.02438324e+01, 5.02844721e+01, 5.05933704e+01, 5.16345466e+01,\n",
       "       5.21882324e+01, 5.39834287e+01, 5.57144243e+01, 5.71448702e+01])"
      ]
     },
     "execution_count": 115,
     "metadata": {},
     "output_type": "execute_result"
    }
   ],
   "source": [
    "eigvals"
   ]
  },
  {
   "cell_type": "code",
   "execution_count": 121,
   "metadata": {},
   "outputs": [
    {
     "data": {
      "text/plain": [
       "<matplotlib.colorbar.Colorbar at 0x7f0b710c7f28>"
      ]
     },
     "execution_count": 121,
     "metadata": {},
     "output_type": "execute_result"
    },
    {
     "data": {
      "image/png": "[encoded data removed]",
      "text/plain": [
       "<Figure size 288x288 with 2 Axes>"
      ]
     },
     "metadata": {
      "needs_background": "light"
     },
     "output_type": "display_data"
    }
   ],
   "source": []
  },
  {
   "cell_type": "code",
   "execution_count": 108,
   "metadata": {},
   "outputs": [
    {
     "data": {
      "text/plain": [
       "True"
      ]
     },
     "execution_count": 108,
     "metadata": {},
     "output_type": "execute_result"
    }
   ],
   "source": [
    "check_for_positive_semidefinite(L_prime)"
   ]
  },
  {
   "cell_type": "code",
   "execution_count": 107,
   "metadata": {},
   "outputs": [],
   "source": []
  },
  {
   "cell_type": "code",
   "execution_count": null,
   "metadata": {},
   "outputs": [],
   "source": [
    "W = prec_"
   ]
  },
  {
   "cell_type": "code",
   "execution_count": null,
   "metadata": {},
   "outputs": [],
   "source": [
    "import networkx as nx"
   ]
  },
  {
   "cell_type": "code",
   "execution_count": null,
   "metadata": {},
   "outputs": [],
   "source": [
    "G = nx.from_numpy_array(W)"
   ]
  },
  {
   "cell_type": "code",
   "execution_count": null,
   "metadata": {},
   "outputs": [],
   "source": [
    "L = nx.degree(G)"
   ]
  },
  {
   "cell_type": "code",
   "execution_count": null,
   "metadata": {},
   "outputs": [],
   "source": [
    "L"
   ]
  },
  {
   "cell_type": "code",
   "execution_count": null,
   "metadata": {},
   "outputs": [],
   "source": [
    "A, B = graphical_lasso(C, 10, max_iter=1000)"
   ]
  },
  {
   "cell_type": "code",
   "execution_count": null,
   "metadata": {},
   "outputs": [],
   "source": [
    "B"
   ]
  },
  {
   "cell_type": "code",
   "execution_count": null,
   "metadata": {},
   "outputs": [],
   "source": [
    "def get_features_to_exclude(df):\n",
    "    K = np.array(df.corr())\n",
    "    x, y = np.where(np.abs(K)>=0.7)\n",
    "    correlated_pair = []\n",
    "    drop_columns = []\n",
    "    for value in zip(x,y):\n",
    "        if value[0] == value[1]:\n",
    "            continue\n",
    "        if (value[1], value[0]) in correlated_pair:\n",
    "            continue\n",
    "        correlated_pair.append(value)\n",
    "        drop_columns.append(value[1])\n",
    "    \n",
    "    return drop_columns, correlated_pair"
   ]
  },
  {
   "cell_type": "code",
   "execution_count": null,
   "metadata": {},
   "outputs": [],
   "source": [
    "def drop_correlated_features(df, drop_columns):\n",
    "    dropped_feature_names = []\n",
    "    for index in drop_columns:\n",
    "        dropped_feature_names.append(df.columns[index])\n",
    "    dropped_df = df.drop(columns=dropped_feature_names, inplace=False)\n",
    "    return dropped_df"
   ]
  },
  {
   "cell_type": "code",
   "execution_count": null,
   "metadata": {},
   "outputs": [],
   "source": [
    "def form_minimum_spanning_tree(filtered_df):\n",
    "    A = np.array(filtered_df.corr())\n",
    "    G = nx.from_numpy_matrix(A)\n",
    "    # From this graph form the minimum spanning tree\n",
    "    K = nx.minimum_spanning_tree(G)\n",
    "    \n",
    "    return K"
   ]
  },
  {
   "cell_type": "code",
   "execution_count": null,
   "metadata": {},
   "outputs": [],
   "source": [
    "# Normalize the features within group to have unit norm\n",
    "# Use five-fold cross-validation to see if the results make sense\n",
    "from sklearn.model_selection import StratifiedKFold\n",
    "from sklearn.preprocessing import StandardScaler\n",
    "scaler = StandardScaler()"
   ]
  },
  {
   "cell_type": "code",
   "execution_count": null,
   "metadata": {},
   "outputs": [],
   "source": [
    "from sklearn.svm import SVC\n",
    "from sklearn.linear_model import LogisticRegression\n",
    "from sklearn.metrics import accuracy_score, precision_score, recall_score, roc_auc_score"
   ]
  },
  {
   "cell_type": "code",
   "execution_count": null,
   "metadata": {},
   "outputs": [],
   "source": [
    "kfold = StratifiedKFold(n_splits=3, random_state=2019)\n",
    "# classifier = SVC(kernel='rbf', probability=True,\n",
    "#                    random_state=2019)\n",
    "classifier = LogisticRegression(random_state=2019)"
   ]
  },
  {
   "cell_type": "code",
   "execution_count": null,
   "metadata": {},
   "outputs": [],
   "source": [
    "from sklearn.utils import shuffle"
   ]
  },
  {
   "cell_type": "code",
   "execution_count": null,
   "metadata": {},
   "outputs": [],
   "source": [
    "prediction_results_df = {}\n",
    "prediction_results_normalized_df = {}\n",
    "prediction_results_with_tv = {}"
   ]
  },
  {
   "cell_type": "code",
   "execution_count": null,
   "metadata": {},
   "outputs": [],
   "source": [
    "modality_list = ['t2f']"
   ]
  },
  {
   "cell_type": "code",
   "execution_count": null,
   "metadata": {},
   "outputs": [],
   "source": [
    "def save_plot(modality, fname, signal):\n",
    "    plt.clf()\n",
    "    plt.stem(np.linspace(1, signal.shape[0], num=signal.shape[0]), signal.T)\n",
    "    plt.xlabel('Node index')\n",
    "    plt.ylabel('Average graph signal for IDH-non-mut in the vertex domain.' )\n",
    "    plt.savefig(os.path.join(features_folder, 'graph_fourier_transform', modality, fname))"
   ]
  },
  {
   "cell_type": "code",
   "execution_count": null,
   "metadata": {},
   "outputs": [],
   "source": [
    "from pygsp import plotting            "
   ]
  },
  {
   "cell_type": "code",
   "execution_count": null,
   "metadata": {},
   "outputs": [],
   "source": [
    "def form_graph(graph_signal):\n",
    "        A = np.array(filtered_df.corr())\n",
    "        B = nx.from_numpy_matrix(A)\n",
    "        # From this graph form the minimum spanning tree\n",
    "        M = nx.minimum_spanning_tree(B)\n",
    "        \n",
    "        # Obtain the adjacency matrix of the minimum spanning tree\n",
    "        K = np.abs(nx.adjacency_matrix(B))\n",
    "        \n",
    "        G = pygsp.graphs.Graph(K.todense())\n",
    "        return G"
   ]
  },
  {
   "cell_type": "code",
   "execution_count": null,
   "metadata": {},
   "outputs": [],
   "source": [
    "def normalize_signal(graph_signal):\n",
    "    scaler = StandardScaler()\n",
    "    return scaler.fit_transform(graph_signal)\n",
    "    "
   ]
  },
  {
   "cell_type": "code",
   "execution_count": null,
   "metadata": {},
   "outputs": [],
   "source": [
    "def graph_fourier_bases(G):\n",
    "    G.compute_fourier_basis()\n",
    "    U, e = G.U, G.e\n",
    "    \n",
    "    return U, e"
   ]
  },
  {
   "cell_type": "code",
   "execution_count": null,
   "metadata": {},
   "outputs": [],
   "source": [
    "def compute_graph_gft(U, graph_signal):\n",
    "    XG =  np.matmul(np.linalg.inv(U), graph_signal)\n",
    "    return XG.T"
   ]
  },
  {
   "cell_type": "code",
   "execution_count": null,
   "metadata": {},
   "outputs": [],
   "source": [
    "def compute_graph_tv(G, graph_signal):\n",
    "    tv = []\n",
    "    G.compute_fourier_basis()\n",
    "    L = G.L.todense()\n",
    "    for idx, signal in enumerate(graph_signal):\n",
    "        \n",
    "        tv.append(np.dot(np.dot(signal.T, L), signal))\n",
    "    \n",
    "    return np.array(tv)\n",
    "        "
   ]
  },
  {
   "cell_type": "code",
   "execution_count": null,
   "metadata": {},
   "outputs": [],
   "source": [
    "# Reference: Design of graph filters and filterbanks\n",
    "def graph_filter(U, A, filter_type):\n",
    "    \n",
    "    if filter_type == 'low_pass':\n",
    "        h = [1 if idx<=int((A.shape[0]-1)/2) else 0 for idx in range(0, A.shape[0])]\n",
    "\n",
    "    elif filter_type == 'high_pass':\n",
    "        h = [1 if idx>=int((A.shape[0]-1)/2)else 0 for idx in range(0, A.shape[0])]\n",
    "\n",
    "    I = np.identity(A.shape[0])\n",
    "    h_lambda = np.diag(np.matmul(h, I))\n",
    "    H = np.matmul(np.matmul(U, h_lambda),np.linalg.inv(U))\n",
    "    return H"
   ]
  },
  {
   "cell_type": "code",
   "execution_count": null,
   "metadata": {},
   "outputs": [],
   "source": [
    "def classification_results(results_dict):\n",
    "    for modality in ['t2f', 't1w', 't1ce', 't2w']:\n",
    "        results_dict[modality]= {}\n",
    "        for experiment_number in range(1,26):\n",
    "            results_dict[modality][experiment_number] = {}\n",
    "            df = load_relevant_features(modality, experiment_number)\n",
    "            codel_labels = df['1p_19q_co_del_status']\n",
    "            idh_labels = df['IDH1']\n",
    "            idh_labels = np.array(idh_labels)\n",
    "            df.drop(columns=['IDH1', '1p_19q_co_del_status'], inplace=True)\n",
    "\n",
    "            drop_columns, correlated_pair = get_features_to_exclude(df)\n",
    "            filtered_df = drop_correlated_features(df, drop_columns)\n",
    "\n",
    "            M = form_minimum_spanning_tree(filtered_df)\n",
    "            A = np.abs(nx.adj_matrix(M)).todense()\n",
    "#             if A.shape[0] < 7:\n",
    "#                 print('Experiment number {} not considered'.format(experiment_number))\n",
    "#                 continue\n",
    "\n",
    "            G = pygsp.graphs.Graph(A)\n",
    "            G.compute_fourier_basis()\n",
    "            U, _ = graph_fourier_bases(G)\n",
    "\n",
    "            X = normalize_signal(filtered_df)\n",
    "            X_normalized_graph = compute_graph_gft(U, X.T)\n",
    "            total_variation = compute_graph_tv(G, X)  \n",
    "            \n",
    "            X_tv = np.hstack((X, np.reshape(total_variation, (total_variation.shape[0], 1))))\n",
    "            H = graph_filter(U, A, filter_type='high_pass') \n",
    "            # Fourier domain signal after filtering\n",
    "            Y_normalized_graph = np.matmul(np.matmul(H, np.linalg.inv(U)), X.T)\n",
    "\n",
    "            # Inverse GFT of the filtered signal\n",
    "            Y = np.matmul(U, Y_normalized_graph)\n",
    "            tv_filtered = compute_graph_tv(G, Y.T)\n",
    "            Y_normalized_graph_tv = np.hstack((Y_normalized_graph.T, np.reshape(tv_filtered, (tv_filtered.shape[0], 1))))\n",
    "            X_normalized_graph_tv = np.hstack((X_normalized_graph, np.reshape(total_variation, (total_variation.shape[0], 1))))\n",
    "            Y_tv = np.hstack((Y.T, np.reshape(tv_filtered, (tv_filtered.shape[0], 1))))\n",
    "            \n",
    "            X, idh_labels = shuffle(Y_normalized_graph.T, idh_labels, random_state=2019)\n",
    "\n",
    "            train_accuracy = []\n",
    "            test_accuracy = []\n",
    "            test_precision = []\n",
    "            test_recall = []\n",
    "            test_auc = []\n",
    "            train_auc = []\n",
    "            for index, (train, test) in enumerate(kfold.split(X, idh_labels)):\n",
    "                classifier.fit(X[train], idh_labels[train])\n",
    "                train_accuracy.append(accuracy_score(idh_labels[train], classifier.predict(X[train])))\n",
    "                test_accuracy.append(accuracy_score(idh_labels[test], classifier.predict(X[test])))\n",
    "                test_recall.append(recall_score(idh_labels[test], classifier.predict(X[test])))\n",
    "                test_precision.append(precision_score(idh_labels[test], classifier.predict(X[test])))\n",
    "                train_auc.append(roc_auc_score(idh_labels[train], classifier.predict(X[train])))\n",
    "                test_auc.append(roc_auc_score(idh_labels[test], classifier.predict(X[test])))\n",
    "\n",
    "            results_dict[modality][experiment_number]['features'] = list(filtered_df.columns)\n",
    "            results_dict[modality][experiment_number]['aucroc'] = [np.mean(np.array(test_auc)), \n",
    "                                                                  np.std(np.array(test_auc))]\n",
    "            results_dict[modality][experiment_number]['accuracy'] = [np.mean(np.array(test_accuracy)), \n",
    "                                                                  np.std(np.array(test_accuracy))]\n",
    "            results_dict[modality][experiment_number]['precision'] = [np.mean(np.array(test_precision)), \n",
    "                                                                  np.std(np.array(test_precision))]\n",
    "            results_dict[modality][experiment_number]['recall'] = [np.mean(np.array(test_recall)), \n",
    "                                                                   np.std(np.array(test_recall))]\n",
    "        \n",
    "    return results_dict"
   ]
  },
  {
   "cell_type": "code",
   "execution_count": null,
   "metadata": {},
   "outputs": [],
   "source": [
    "\n",
    "# vertex_domain_filtered = {} #b\n",
    "filtered_fourier_domain = {} #e\n",
    "# filtered_fourier_domain_with_tv = {} #f\n",
    "\n",
    "# vertex_domain_filtered_with_tv = {} #Extra"
   ]
  },
  {
   "cell_type": "code",
   "execution_count": null,
   "metadata": {},
   "outputs": [],
   "source": [
    "\n",
    "# vertex_domain_filtered = classification_results(vertex_domain_filtered)\n",
    "filtered_fourier_domain = classification_results(filtered_fourier_domain)\n",
    "# filtered_fourier_domain_with_tv = classification_results(filtered_fourier_domain_with_tv)\n",
    "\n",
    "# vertex_domain_filtered_with_tv = classification_results(vertex_domain_filtered_with_tv)"
   ]
  },
  {
   "cell_type": "code",
   "execution_count": null,
   "metadata": {},
   "outputs": [],
   "source": [
    "def dict_to_csv_wrapper(input_dict):\n",
    "    df = {}\n",
    "    df['expt_num'] = []\n",
    "    df['auc_mean'] = []\n",
    "    df['accuracy_mean'] = []\n",
    "    df['precision_mean'] = []\n",
    "    df['recall_mean'] = []\n",
    "    df['features'] = []\n",
    "    df['modality'] = []\n",
    "    df['auc_error'] = []\n",
    "    df['precision_error'] = []\n",
    "    df['recall_error'] = []\n",
    "    df['accuracy_error'] = []\n",
    "    \n",
    "    for key, values in input_dict.items():\n",
    "        for key2, values2 in values.items():\n",
    "            df['modality'].append(key)\n",
    "            df['features'].append(len(values2['features']))\n",
    "            df['expt_num'].append(key2)\n",
    "            df['auc_mean'].append(values2['aucroc'][0])\n",
    "            df['auc_error'].append(values2['aucroc'][1])\n",
    "            df['precision_mean'].append(values2['precision'][0])\n",
    "            df['precision_error'].append(values2['precision'][1])\n",
    "            df['recall_mean'].append(values2['recall'][0])\n",
    "            df['recall_error'].append(values2['recall'][1])\n",
    "            df['accuracy_mean'].append(values2['accuracy'][0])\n",
    "            df['accuracy_error'].append(values2['accuracy'][1])\n",
    "            \n",
    "    return pd.DataFrame(df)\n",
    "            "
   ]
  },
  {
   "cell_type": "code",
   "execution_count": null,
   "metadata": {},
   "outputs": [],
   "source": [
    "df = dict_to_csv_wrapper(filtered_fourier_domain)"
   ]
  },
  {
   "cell_type": "code",
   "execution_count": null,
   "metadata": {},
   "outputs": [],
   "source": [
    "df.to_csv('filtered_fourier_domain.csv', index=False)"
   ]
  },
  {
   "cell_type": "code",
   "execution_count": null,
   "metadata": {},
   "outputs": [],
   "source": [
    "for modality in ['t1w', 't2w', 't1ce', 't2f']:\n",
    "    df_temp = df[df['modality'] == modality]\n",
    "    print('Modality is {}'.format(modality))\n",
    "    print(df_temp['auc_mean'].describe())"
   ]
  },
  {
   "cell_type": "code",
   "execution_count": null,
   "metadata": {},
   "outputs": [],
   "source": [
    "for modality in ['t1w', 't2w', 't1ce', 't2f']:\n",
    "    df_temp = df[df['modality'] == modality]\n",
    "    print('Modality is {}'.format(modality))\n",
    "    print(df_temp['auc_mean'].describe())"
   ]
  },
  {
   "cell_type": "code",
   "execution_count": null,
   "metadata": {},
   "outputs": [],
   "source": [
    "pd.DataFrame.from_dict?"
   ]
  },
  {
   "cell_type": "code",
   "execution_count": null,
   "metadata": {},
   "outputs": [],
   "source": []
  }
 ],
 "metadata": {
  "kernelspec": {
   "display_name": "Python 3",
   "language": "python",
   "name": "python3"
  },
  "language_info": {
   "codemirror_mode": {
    "name": "ipython",
    "version": 3
   },
   "file_extension": ".py",
   "mimetype": "text/x-python",
   "name": "python",
   "nbconvert_exporter": "python",
   "pygments_lexer": "ipython3",
   "version": "3.7.2"
  }
 },
 "nbformat": 4,
 "nbformat_minor": 2
}
