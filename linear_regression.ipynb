{
 "cells": [
  {
   "cell_type": "code",
   "execution_count": 334,
   "metadata": {},
   "outputs": [],
   "source": [
    "import os\n",
    "import glob\n",
    "import numpy as np\n",
    "import pandas as pd\n",
    "import statsmodels.api as sm\n",
    "\n",
    "from pydicom import dcmread\n",
    "from sklearn.preprocessing import MinMaxScaler, StandardScaler\n",
    "from sklearn.model_selection import train_test_split\n",
    "from sklearn.utils import shuffle\n",
    "from numpy.linalg import matrix_rank, qr, inv, solve, lstsq\n",
    "from sklearn.linear_model import LinearRegression, RidgeCV, LassoCV, Ridge"
   ]
  },
  {
   "cell_type": "code",
   "execution_count": 238,
   "metadata": {},
   "outputs": [],
   "source": [
    "homedir = '/home/raghuram/Desktop/radiomics/TEXTURES/csv_folder/'\n",
    "os.chdir(homedir)"
   ]
  },
  {
   "cell_type": "code",
   "execution_count": 239,
   "metadata": {},
   "outputs": [],
   "source": [
    "t1_list = sorted(glob.glob('seq_file_*_T1W.csv'), key = lambda _: int(_.split('_')[-2]))\n",
    "t2_list = sorted(glob.glob('*seq_file_*_T2W.csv'), key = lambda _: int(_.split('_')[-2]))\n",
    "t1ce_list = sorted(glob.glob('seq_file_*_T1CE.csv'), key = lambda _: int(_.split('_')[-2]))\n",
    "flair_list = sorted(glob.glob('seq_file_*_T2F.csv'), key = lambda _: int(_.split('_')[-2]))"
   ]
  },
  {
   "cell_type": "code",
   "execution_count": 419,
   "metadata": {},
   "outputs": [],
   "source": [
    "def pre_process_dataframe(experiment_features):\n",
    "    # Binarize magnetization strength values\n",
    "    # Scanner names and manufacturer are categorical \n",
    "    # One hot encode them\n",
    "    \n",
    "    # Code for the above here\n",
    "    # Experiments in ascending order\n",
    "\n",
    "    experiment_df = pd.read_csv(experiment_features)\n",
    "    experiment_df.drop(columns=['Unnamed: 0','experiment_number', 'scale', 'algo', 'ng', 'mat_file_sequence', 'mat_file_name',\n",
    "                               'parameters_Ng', 'parameters_Scale', 'parameters_Algo','filename','scanning_seq_mri'], inplace=True)\n",
    "    experiment_df['mag_field_strength_binarized'] = (experiment_df['mag_field_strength']<=1.5).astype(int)\n",
    "    experiment_df.drop(columns=['mag_field_strength'], inplace=True)\n",
    "    experiment_df.replace({'Philips Healthcare':'Philips', 'Philips Medical Systems': 'Philips',\n",
    "                          'SIEMENS':'Siemens'}, inplace=True)\n",
    "    experiment_df = pd.get_dummies(experiment_df, prefix=['col1', 'col2'])\n",
    "    repetition_time = experiment_df['repetition_time'].to_numpy()\n",
    "    excitation_time = experiment_df['excitation_time'].to_numpy()\n",
    "    experiment_df.drop(columns=['excitation_time', 'repetition_time'], inplace=False)\n",
    "    X = experiment_df.to_numpy()\n",
    "  \n",
    "    return X, excitation_time, repetition_time\n",
    "\n",
    "        "
   ]
  },
  {
   "cell_type": "code",
   "execution_count": 420,
   "metadata": {},
   "outputs": [],
   "source": [
    "X, tr, te = pre_process_dataframe(t1_list[1])"
   ]
  },
  {
   "cell_type": "code",
   "execution_count": 421,
   "metadata": {},
   "outputs": [],
   "source": [
    "def split_data_train_test(experiment_number, numpy_array, y1, y2 ):\n",
    "    X, y1, y2 = shuffle(numpy_array, y1, y2, random_state=5)\n",
    "    y1 = y1/1000\n",
    "    \n",
    "#     print(X.shape)\n",
    "#     print(matrix_rank(X))\n",
    "    # Split the preprocessed data into train and test\n",
    "    X_train, X_test, y_train_te, y_test_te = train_test_split(X, y1, random_state=5)\n",
    "    X_train, X_test, y_train_tr, y_test_tr = train_test_split(X, y2, random_state=5)\n",
    "    \n",
    "    scaler = MinMaxScaler()\n",
    "    X = scaler.fit_transform(X)\n",
    "    \n",
    "    X_train = scaler.fit_transform(X_train)\n",
    "#     X_train = sm.add_constant(X_train)\n",
    "    X_test = scaler.transform(X_test)\n",
    "#     X_test = sm.add_constant(X_test)\n",
    "    \n",
    "    output_dict = {}\n",
    "    output_dict['X'] = X\n",
    "    output_dict['y1'] = y1\n",
    "    output_dict['y2'] = y2\n",
    "    output_dict['X_train'] = X_train\n",
    "    output_dict['X_test'] = X_test\n",
    "    output_dict['y_tr_train'] = y_train_tr\n",
    "    output_dict['y_tr_test'] = y_test_tr\n",
    "    output_dict['y_te_train'] = y_train_te\n",
    "    output_dict['y_te_test'] = y_test_te\n",
    "    \n",
    "    return output_dict\n",
    "    "
   ]
  },
  {
   "cell_type": "code",
   "execution_count": 422,
   "metadata": {},
   "outputs": [],
   "source": [
    "od = split_data_train_test(2, X, tr, te)"
   ]
  },
  {
   "cell_type": "code",
   "execution_count": 423,
   "metadata": {},
   "outputs": [],
   "source": [
    "def linear_regression(output_dict, expt_number):\n",
    "    # Load the data corresponding to the sequence argument here\n",
    "    # Perform regression with Tr and Te \n",
    "    \n",
    "    model = sm.OLS(od['y_tr_train'], od['X_train']).fit()\n",
    "    predictions = model.predict(od['X_test'])\n",
    "    print_model = model.summary()\n",
    "    print(print_model)\n",
    "    "
   ]
  },
  {
   "cell_type": "code",
   "execution_count": 424,
   "metadata": {},
   "outputs": [],
   "source": [
    "from regressors import stats"
   ]
  },
  {
   "cell_type": "code",
   "execution_count": 427,
   "metadata": {},
   "outputs": [
    {
     "data": {
      "text/plain": [
       "LinearRegression(copy_X=True, fit_intercept=True, n_jobs=None,\n",
       "         normalize=False)"
      ]
     },
     "execution_count": 427,
     "metadata": {},
     "output_type": "execute_result"
    }
   ],
   "source": [
    "alphas = np.linspace(0.01, 0.5)\n",
    "# lm = RidgeCV(alphas=alphas, cv=10, fit_intercept=True)\n",
    "lm = LinearRegression()\n",
    "lm.fit(od['X'], od['y1'])"
   ]
  },
  {
   "cell_type": "code",
   "execution_count": 428,
   "metadata": {},
   "outputs": [
    {
     "name": "stdout",
     "output_type": "stream",
     "text": [
      "Residuals:\n",
      " Min   1Q  Median   3Q  Max\n",
      "-0.0 -0.0    -0.0  0.0  0.0\n",
      "\n",
      "\n",
      "Coefficients:\n",
      "            Estimate  Std. Error                                 t value   p value\n",
      "_intercept  0.002124          0j            (21610332.3767-835711.4272j)  0.000000\n",
      "x1         -0.000000         -0j                            (-2.6955-0j)  0.009000\n",
      "x2         -0.000000          0j                       (-2.8741+0.0006j)  0.005519\n",
      "x3         -0.000000          0j                            (-0.1923+0j)  0.848146\n",
      "x4          0.000000          0j                        (0.5416-0.0001j)  0.590023\n",
      "x5          0.000000         -0j                             (0.5975+0j)  0.552303\n",
      "x6         -0.000000          0j                       (-1.1532+0.0009j)  0.253201\n",
      "x7          0.000000          0j                         (0.8756-0.009j)  0.384556\n",
      "x8          0.000000          0j                        (4.8437-0.0639j)  0.000009\n",
      "x9         -0.000000          0j                       (-9.8794+0.3766j)  0.000000\n",
      "x10         0.000000          0j                        (0.5702-0.0002j)  0.570563\n",
      "x11         0.000000          0j                        (0.5681-0.0001j)  0.571981\n",
      "x12         0.000000          0j                        (1.9115-0.0026j)  0.060496\n",
      "x13        -0.000000         -0j                       (-2.5919-0.0012j)  0.011851\n",
      "x14         0.000000         -0j                         (1.412+0.0007j)  0.162882\n",
      "x15         0.000000         -0j                        (4.3261+0.0212j)  0.000055\n",
      "x16         0.000000          0j                        (16.5506-0.624j)  0.000000\n",
      "x17        -0.000000         -0j                            (-0.7784-0j)  0.439265\n",
      "x18        -0.000000          0j                       (-2.2664+0.0001j)  0.026870\n",
      "x19        -0.000000         -0j                             (-1.775-0j)  0.080728\n",
      "x20        -0.000000          0j                       (-0.4277+0.0001j)  0.670344\n",
      "x21        -0.000000         -0j                       (-2.5322-0.0012j)  0.013841\n",
      "x22        -0.000000          0j                            (-0.1875+0j)  0.851877\n",
      "x23        -0.000000         -0j                       (-1.9522-0.0076j)  0.055361\n",
      "x24        -0.000000          0j                        (-0.399+0.0002j)  0.691250\n",
      "x25         0.000000         -0j                             (0.0535+0j)  0.957490\n",
      "x26         0.000000         -0j                        (0.1747+0.0001j)  0.861869\n",
      "x27        -0.000000         -0j                        (-0.175-0.0001j)  0.861641\n",
      "x28        -0.000000         -0j                       (-0.3728-0.0007j)  0.710568\n",
      "x29         0.000000          0j                        (1.0661-0.0029j)  0.290427\n",
      "x30         0.000000          0j                        (0.0193-0.0001j)  0.984694\n",
      "x31        -0.000000          0j                       (-0.5531+0.0012j)  0.582132\n",
      "x32        -0.000000          0j                       (-0.3529+0.0001j)  0.725343\n",
      "x33         0.000000          0j                             (0.1069-0j)  0.915184\n",
      "x34         0.000000          0j                        (1.2657-0.0007j)  0.210293\n",
      "x35         0.000000         -0j                        (0.4912+0.0004j)  0.624978\n",
      "x36        -0.000000         -0j                       (-0.0782-0.0007j)  0.937887\n",
      "x37         0.000000         -0j                        (1.1791+0.0057j)  0.242805\n",
      "x38        -0.000000         -0j                       (-0.8968-0.0013j)  0.373261\n",
      "x39        -0.000000         -0j                            (-0.4209-0j)  0.675230\n",
      "x40         0.000000          0j                             (0.4635-0j)  0.644584\n",
      "x41        -0.000000          0j                       (-0.5707+0.0001j)  0.570205\n",
      "x42         0.000000         -0j                             (0.4261+0j)  0.671480\n",
      "x43         0.000000          0j                         (2.7703-0.007j)  0.007350\n",
      "x44         0.015876          0j  (947549914038618.9-4198785837624.713j)  0.000000\n",
      "x45        -0.000000          0j                       (-0.8958+0.0277j)  0.373537\n",
      "x46        -0.000000          0j                       (-1.0489+0.2591j)  0.284067\n",
      "x47         0.000000          0j                        (1.5841-1.7754j)  0.020385\n",
      "x48        -0.000000          0j                       (-0.1242+0.7958j)  0.423611\n",
      "x49        -0.000000          0j                       (-0.6192+5.8506j)  0.000000\n",
      "x50        -0.000000          0j                       (-0.4161+0.7254j)  0.406169\n",
      "x51        -0.000000          0j                       (-0.3605+0.0935j)  0.710802\n",
      "x52         0.000000          0j                       (10.9056-3.8095j)  0.000000\n",
      "x53        -0.000000          0j                       (-0.6192+5.8506j)  0.000000\n",
      "x54        -0.000000          0j                       (-0.6191+5.8505j)  0.000000\n",
      "x55        -0.000000          0j                       (-0.4163+0.7257j)  0.405982\n",
      "x56        -0.000000          0j                       (-0.3605+0.0935j)  0.710817\n",
      "x57        -0.000000          0j                       (-0.3605+0.0935j)  0.710789\n",
      "x58        -0.000000          0j                       (-0.3605+0.0935j)  0.710822\n",
      "---\n",
      "R-squared:  1.00000,    Adjusted R-squared:  1.00000\n",
      "F-statistic: inf on 58 features\n",
      "None\n"
     ]
    },
    {
     "name": "stderr",
     "output_type": "stream",
     "text": [
      "/home/raghuram/Desktop/radiomics_venv/lib/python3.7/site-packages/regressors/stats.py:217: RuntimeWarning: divide by zero encountered in double_scalars\n",
      "  return (r_squared / p) / ((1 - r_squared) / (n - p - 1))\n"
     ]
    }
   ],
   "source": [
    "print(stats.summary(lm, od['X'], od['y1']))"
   ]
  },
  {
   "cell_type": "code",
   "execution_count": null,
   "metadata": {},
   "outputs": [],
   "source": []
  }
 ],
 "metadata": {
  "kernelspec": {
   "display_name": "Python 3",
   "language": "python",
   "name": "python3"
  },
  "language_info": {
   "codemirror_mode": {
    "name": "ipython",
    "version": 3
   },
   "file_extension": ".py",
   "mimetype": "text/x-python",
   "name": "python",
   "nbconvert_exporter": "python",
   "pygments_lexer": "ipython3",
   "version": "3.7.2"
  }
 },
 "nbformat": 4,
 "nbformat_minor": 2
}
