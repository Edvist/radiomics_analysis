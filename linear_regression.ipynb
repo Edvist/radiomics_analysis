{
 "cells": [
  {
   "cell_type": "code",
   "execution_count": 1,
   "metadata": {},
   "outputs": [],
   "source": [
    "import os\n",
    "import glob\n",
    "import numpy as np\n",
    "import pandas as pd\n",
    "import statsmodels.api as sm\n",
    "\n",
    "from pydicom import dcmread\n",
    "from sklearn.preprocessing import MinMaxScaler\n",
    "from sklearn.model_selection import train_test_split"
   ]
  },
  {
   "cell_type": "code",
   "execution_count": 2,
   "metadata": {},
   "outputs": [],
   "source": [
    "homedir = '/home/raghuram/Desktop/radiomics/TEXTURES/csv_folder/'\n",
    "os.chdir(homedir)"
   ]
  },
  {
   "cell_type": "code",
   "execution_count": 3,
   "metadata": {},
   "outputs": [],
   "source": [
    "random_seed=5"
   ]
  },
  {
   "cell_type": "code",
   "execution_count": 4,
   "metadata": {},
   "outputs": [],
   "source": [
    "t1_list = sorted(glob.glob('seq_file_*_T1W.csv'), key = lambda _: int(_.split('_')[-2]))\n",
    "t2_list = sorted(glob.glob('*seq_file_*_T2W.csv'), key = lambda _: int(_.split('_')[-2]))\n",
    "t1ce_list = sorted(glob.glob('seq_file_*_T1CE.csv'), key = lambda _: int(_.split('_')[-2]))\n",
    "flair_list = sorted(glob.glob('seq_file_*_T2F.csv'), key = lambda _: int(_.split('_')[-2]))"
   ]
  },
  {
   "cell_type": "code",
   "execution_count": 5,
   "metadata": {},
   "outputs": [],
   "source": [
    "def pre_process_dataframe(sequence_list):\n",
    "    # Binarize magnetization strength values\n",
    "    # Scanner names and manufacturer are categorical \n",
    "    # One hot encode them\n",
    "    \n",
    "    # Code for the above here\n",
    "    # Experiments in ascending order\n",
    "    \n",
    "    for idx, experiment_features in enumerate(t1_list):\n",
    "        experiment_num = idx+1\n",
    "        experiment_df = pd.read_csv(experiment_features)\n",
    "        experiment_df.drop(columns=['Unnamed: 0','experiment_number', 'scale', 'algo', 'ng', 'mat_file_sequence', 'mat_file_name',\n",
    "                                   'parameters_Ng', 'parameters_Scale', 'parameters_Algo'], inplace=True)\n",
    "        experiment_df = experiment_df['']\n",
    "    pass"
   ]
  },
  {
   "cell_type": "code",
   "execution_count": null,
   "metadata": {},
   "outputs": [],
   "source": [
    "pre_process_dataframe(t1_list)"
   ]
  },
  {
   "cell_type": "code",
   "execution_count": null,
   "metadata": {},
   "outputs": [],
   "source": [
    "def split_data_train_test():\n",
    "    # Split the preprocessed data into train and test\n",
    "    \n",
    "    pass"
   ]
  },
  {
   "cell_type": "code",
   "execution_count": null,
   "metadata": {},
   "outputs": [],
   "source": [
    "def linear_regression(sequence, target_variable):\n",
    "    # Load the data corresponding to the sequence argument here\n",
    "    # Perform regression with Tr and Te \n",
    "    pass"
   ]
  },
  {
   "cell_type": "code",
   "execution_count": null,
   "metadata": {},
   "outputs": [],
   "source": [
    "## Trial code\n",
    "from pydicom import dcmread\n",
    "data = dcmread('/media/raghuram/My Passport/dicom_seg/TCGA-LGG/TCGA-DU-7309/08-31-1996-MRI BRAIN WWO CONTRAST-83234/10-AX T1 pre gd-82760/000019.dcm')"
   ]
  },
  {
   "cell_type": "code",
   "execution_count": null,
   "metadata": {},
   "outputs": [],
   "source": [
    "experiment_df?"
   ]
  },
  {
   "cell_type": "code",
   "execution_count": null,
   "metadata": {},
   "outputs": [],
   "source": []
  }
 ],
 "metadata": {
  "kernelspec": {
   "display_name": "Python 3",
   "language": "python",
   "name": "python3"
  },
  "language_info": {
   "codemirror_mode": {
    "name": "ipython",
    "version": 3
   },
   "file_extension": ".py",
   "mimetype": "text/x-python",
   "name": "python",
   "nbconvert_exporter": "python",
   "pygments_lexer": "ipython3",
   "version": "3.7.2"
  }
 },
 "nbformat": 4,
 "nbformat_minor": 2
}
