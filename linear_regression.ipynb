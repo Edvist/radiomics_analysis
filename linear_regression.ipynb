{
 "cells": [
  {
   "cell_type": "code",
   "execution_count": null,
   "metadata": {},
   "outputs": [],
   "source": [
    "import os\n",
    "import glob\n",
    "import numpy as np\n",
    "import pandas as pd\n",
    "import statsmodels.api as sm\n",
    "\n",
    "from pydicom import dcmread\n",
    "from sklearn.preprocessing import MinMaxScaler, StandardScaler\n",
    "from sklearn.model_selection import train_test_split\n",
    "from sklearn.utils import shuffle\n",
    "from numpy.linalg import matrix_rank, qr, inv, solve, lstsq\n",
    "from sklearn.linear_model import LinearRegression, RidgeCV, LassoCV, Ridge"
   ]
  },
  {
   "cell_type": "code",
   "execution_count": null,
   "metadata": {},
   "outputs": [],
   "source": [
    "homedir = '/home/raghuram/Desktop/radiomics/TEXTURES/'\n",
    "os.chdir(homedir)"
   ]
  },
  {
   "cell_type": "code",
   "execution_count": null,
   "metadata": {},
   "outputs": [],
   "source": [
    "t1_list = sorted(glob.glob('*_T1W_features.csv'))\n",
    "t2_list = sorted(glob.glob('*_T2W_features.csv'))\n",
    "t1ce_list = sorted(glob.glob('*_T1CE_features.csv'))\n",
    "flair_list = sorted(glob.glob('*_T2F_features.csv'))"
   ]
  },
  {
   "cell_type": "code",
   "execution_count": null,
   "metadata": {},
   "outputs": [],
   "source": [
    "def pre_process_dataframe(csv_file_name, experiment_number):\n",
    "    # Binarize magnetization strength values\n",
    "    # Scanner names and manufacturer are categorical \n",
    "    # One hot encode them\n",
    "    \n",
    "    # Code for the above here\n",
    "    # Experiments in ascending order\n",
    "    \n",
    "    experiment_df = pd.read_csv(csv_file_name)\n",
    "    experiment_df = experiment_df[experiment_df['experiment_number'] == experiment_number]\n",
    "    experiment_df.drop(columns=['experiment_number', 'scale', 'algo', 'ng', 'mat_file_name', 'parameters_Ng', \n",
    "                       'parameters_Scale', 'parameters_Algo', 'sequence_name', 'patient_name', 'flip_angle'], inplace=True)\n",
    "    fill_values = {'mag_field_strength':1.5}\n",
    "    experiment_df['mag_field_strength'].fillna(value=fill_values)\n",
    "    experiment_df['mag_field_strength_binarized'] = (experiment_df['mag_field_strength']<=1.5).astype(int)\n",
    "    experiment_df = pd.get_dummies(experiment_df, prefix=['col1', 'col2'])\n",
    "    experiment_df.drop(columns=['col2_Siemens', 'col1_Intera Achieva'], inplace=True)\n",
    "    tr = experiment_df['repetition_time'].to_numpy()\n",
    "    te = experiment_df['excitation_time'].to_numpy()\n",
    "    experiment_df.drop(columns=['mag_field_strength','excitation_time', 'repetition_time'], inplace=True)  \n",
    "    print(experiment_df.columns)\n",
    "    X = experiment_df.to_numpy()\n",
    "    return X, tr, te\n",
    "        \n"
   ]
  },
  {
   "cell_type": "code",
   "execution_count": null,
   "metadata": {},
   "outputs": [],
   "source": [
    "def transform_data(X, tr, te ):\n",
    "    X, tr, te = shuffle(X, tr, te, random_state=5)\n",
    "    return X, tr, te\n",
    "    "
   ]
  },
  {
   "cell_type": "code",
   "execution_count": null,
   "metadata": {},
   "outputs": [],
   "source": [
    "def linear_regression(X, tr, te, expt_number, results_folder, response_variable):\n",
    "    # Load the data corresponding to the sequence argument here\n",
    "    # Perform regression with Tr and Te \n",
    "    \n",
    "    if response_variable == 'tr':\n",
    "        te = np.reshape(te, (te.shape[0], 1))\n",
    "        X = np.hstack((X, te))\n",
    "        \n",
    "        scaler = MinMaxScaler()\n",
    "        X = scaler.fit_transform(X)\n",
    "        \n",
    "        tr /= 1000\n",
    "        \n",
    "        model = sm.OLS(tr, X).fit()\n",
    "        predictions = model.predict(X)\n",
    "        \n",
    "        filename='expt_t1w_TR'+'_'+str(expt_number)+'.csv'\n",
    "        with open(os.path.join(results_folder, filename), 'w') as csvfile:\n",
    "            csvfile.write(model.summary().as_csv())\n",
    "\n",
    "    elif response_variable == 'te':\n",
    "        tr = np.reshape(tr, (tr.shape[0], 1))\n",
    "        X = np.hstack((X, tr))\n",
    "        \n",
    "        \n",
    "        te /= 1000\n",
    "        \n",
    "        scaler = MinMaxScaler()\n",
    "        X = scaler.fit_transform(X)\n",
    "        \n",
    "        model = sm.OLS(te, X).fit()\n",
    "        predictions = model.predict(X)\n",
    "        \n",
    "        filename='expt_t1w_TE'+'_'+str(expt_number)+'.csv'\n",
    "        with open(os.path.join(results_folder, filename), 'w') as csvfile:\n",
    "            csvfile.write(model.summary().as_csv())\n",
    "    \n",
    "   "
   ]
  },
  {
   "cell_type": "code",
   "execution_count": null,
   "metadata": {},
   "outputs": [],
   "source": [
    "results_folder = '/home/raghuram/Desktop/radiomics/TEXTURES/results/t1w/linear_regression/TE'\n",
    "for expt_number in range(1, 26):\n",
    "    X, tr, te = pre_process_dataframe('expt_t1w.csv', expt_number)\n",
    "    od = transform_data(X, tr, te)\n",
    "    linear_regression(X, tr, te, expt_number, results_folder, 'te')"
   ]
  },
  {
   "cell_type": "code",
   "execution_count": null,
   "metadata": {},
   "outputs": [],
   "source": []
  },
  {
   "cell_type": "code",
   "execution_count": null,
   "metadata": {},
   "outputs": [],
   "source": []
  }
 ],
 "metadata": {
  "kernelspec": {
   "display_name": "Python 3",
   "language": "python",
   "name": "python3"
  },
  "language_info": {
   "codemirror_mode": {
    "name": "ipython",
    "version": 3
   },
   "file_extension": ".py",
   "mimetype": "text/x-python",
   "name": "python",
   "nbconvert_exporter": "python",
   "pygments_lexer": "ipython3",
   "version": "3.7.2"
  }
 },
 "nbformat": 4,
 "nbformat_minor": 2
}
