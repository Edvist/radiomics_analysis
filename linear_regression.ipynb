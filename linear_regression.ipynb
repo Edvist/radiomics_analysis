{
 "cells": [
  {
   "cell_type": "code",
   "execution_count": 2,
   "metadata": {},
   "outputs": [],
   "source": [
    "import os\n",
    "import glob\n",
    "import numpy as np\n",
    "import pandas as pd\n",
    "import statsmodels.api as sm\n",
    "\n",
    "from pydicom import dcmread\n",
    "from sklearn.preprocessing import MinMaxScaler\n",
    "from sklearn.model_selection import train_test_split"
   ]
  },
  {
   "cell_type": "code",
   "execution_count": 3,
   "metadata": {},
   "outputs": [],
   "source": [
    "homedir = '/home/raghuram/Desktop/radiomics/TEXTURES/csv_folder'\n",
    "os.chdir(homedir)"
   ]
  },
  {
   "cell_type": "code",
   "execution_count": 4,
   "metadata": {},
   "outputs": [],
   "source": [
    "random_seed=5"
   ]
  },
  {
   "cell_type": "code",
   "execution_count": 10,
   "metadata": {},
   "outputs": [],
   "source": [
    "t1_list = glob.glob('*_T1W_features.csv')\n",
    "t2_list = glob.glob('*_T2W_features.csv')\n",
    "t1ce_list = glob.glob('*_T1CE_features.csv')\n",
    "flair_list = glob.glob('*_T2F_features.csv')"
   ]
  },
  {
   "cell_type": "code",
   "execution_count": null,
   "metadata": {},
   "outputs": [],
   "source": [
    "def pre_process_dataframe(sequence_dataframe_raw, sequence_list):\n",
    "    # Binarize magnetization strength values\n",
    "    # Scanner names and manufacturer are categorical \n",
    "    # One hot encode them\n",
    "    \n",
    "    # Code for the above here\n",
    "    # Experiments in ascending order\n",
    "    for\n",
    "    for files in sequence_list:\n",
    "        \n",
    "    \n",
    "    \n",
    "    pass"
   ]
  },
  {
   "cell_type": "code",
   "execution_count": null,
   "metadata": {},
   "outputs": [],
   "source": [
    "def split_data_train_test():\n",
    "    # Split the preprocessed data into train and test\n",
    "    \n",
    "    pass"
   ]
  },
  {
   "cell_type": "code",
   "execution_count": null,
   "metadata": {},
   "outputs": [],
   "source": [
    "def linear_regression(sequence, target_variable):\n",
    "    # Load the data corresponding to the sequence argument here\n",
    "    # Perform regression with Tr and Te \n",
    "    pass"
   ]
  },
  {
   "cell_type": "code",
   "execution_count": null,
   "metadata": {},
   "outputs": [],
   "source": []
  }
 ],
 "metadata": {
  "kernelspec": {
   "display_name": "Python 3",
   "language": "python",
   "name": "python3"
  },
  "language_info": {
   "codemirror_mode": {
    "name": "ipython",
    "version": 3
   },
   "file_extension": ".py",
   "mimetype": "text/x-python",
   "name": "python",
   "nbconvert_exporter": "python",
   "pygments_lexer": "ipython3",
   "version": "3.7.2"
  }
 },
 "nbformat": 4,
 "nbformat_minor": 2
}
