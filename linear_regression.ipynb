{
 "cells": [
  {
   "cell_type": "code",
   "execution_count": 1,
   "metadata": {},
   "outputs": [],
   "source": [
    "import os\n",
    "import glob\n",
    "import numpy as np\n",
    "import pandas as pd\n",
    "import statsmodels.api as sm\n",
    "\n",
    "from sklearn.preprocessing import MinMaxScaler\n",
    "import pingouin as pg\n",
    "import numpy as np"
   ]
  },
  {
   "cell_type": "code",
   "execution_count": 76,
   "metadata": {},
   "outputs": [],
   "source": [
    "homedir = '/home/raghuram/Desktop/radiomics/TEXTURES/'\n",
    "os.chdir(homedir)"
   ]
  },
  {
   "cell_type": "code",
   "execution_count": 77,
   "metadata": {},
   "outputs": [],
   "source": [
    "t1ce_file = 'expt_t1ce.csv'\n",
    "t1w_file = 'expt_t1w.csv'\n",
    "t2f_file = 'expt_t2f.csv'\n",
    "t2w_file = 'expt_t2w.csv'"
   ]
  },
  {
   "cell_type": "code",
   "execution_count": 119,
   "metadata": {},
   "outputs": [],
   "source": [
    "def pre_process_dataframe(csv_file_name, experiment_number):\n",
    "    # Binarize magnetization strength values\n",
    "    # Scanner names and manufacturer are categorical \n",
    "    # One hot encode them\n",
    "    \n",
    "    # Code for the above here\n",
    "    # Experiments in ascending order\n",
    "    \n",
    "    experiment_df = pd.read_csv(csv_file_name)\n",
    "    experiment_df = experiment_df[experiment_df['experiment_number'] == experiment_number]\n",
    "    fill_values = {'mag_field_strength':1.5}\n",
    "    experiment_df.fillna(value=fill_values, inplace=True)\n",
    "    experiment_df['mag_field_strength_binarized'] = (experiment_df['mag_field_strength']>=1.5).astype(int)\n",
    "    experiment_df.drop(columns=[ 'Tumor','experiment_number', 'mat_file_name', 'scale', 'algo', 'ng', 'sequence_name', 'flip_angle', \n",
    "                                'VOLUME_ET', 'VOLUME_NET', 'VOLUME_ED', 'VOLUME_TC',\n",
    "                               'VOLUME_BRAIN', 'mag_field_strength'], inplace=True)\n",
    "    \n",
    "    experiment_df.dropna(subset=['VOLUME_WT'], inplace=True)\n",
    "    experiment_df = pd.get_dummies(experiment_df, columns=['scanner_manufacturer', 'scanner_model'], drop_first=True)\n",
    "    radiomics_features  = list(experiment_df.columns)[:42]\n",
    "\n",
    "    radiomics_df = experiment_df[radiomics_features]\n",
    "    scaled_df = experiment_df.drop(columns=radiomics_features)\n",
    "\n",
    "    scaled_df = scaled_df - scaled_df.min()/(scaled_df.max()-scaled_df.min())\n",
    "    \n",
    "    return (scaled_df, radiomics_df)\n",
    "        \n"
   ]
  },
  {
   "cell_type": "code",
   "execution_count": 120,
   "metadata": {},
   "outputs": [],
   "source": [
    "def results_summary_to_dataframe(results,response_variable):\n",
    "    '''take the result of an statsmodel results table and transforms it into a dataframe'''\n",
    "    pvals = results.pvalues\n",
    "    coeff = results.params\n",
    "    ci_bounds = results.conf_int()\n",
    " \n",
    "    results_df = pd.DataFrame({\"pvals\":pvals,\n",
    "                               \"coeff\":coeff,\n",
    "                               \"response_variable\":response_variable,\n",
    "                              })\n",
    "    #Reordering...\n",
    "    results_df = results_df[[\"coeff\",\"pvals\", \"response_variable\"]]\n",
    "    return results_df"
   ]
  },
  {
   "cell_type": "code",
   "execution_count": 124,
   "metadata": {},
   "outputs": [],
   "source": [
    "def linear_regression(results_folder, radiomic_df, scaled_df, experiment_number):\n",
    "    # Load the data corresponding to the sequence argument here\n",
    "    # Perform regression with Tr and Te \n",
    "    \n",
    "    radiomic_features = list(radiomic_df.columns)\n",
    "    y = np.array(radiomic_df)\n",
    "    X = np.array(scaled_df)\n",
    "    X = sm.add_constant(X)\n",
    "    result_list = []\n",
    "    for idx, column in enumerate(radiomic_features):\n",
    "        \n",
    "        model = sm.OLS(y[:, idx], X)\n",
    "        results = model.fit()\n",
    "        results_df = results_summary_to_dataframe(results, column)\n",
    "#         results_df['significant'] = (results_df['pvals']<0.05).astype(bool)\n",
    "        result_list.append(results_df)\n",
    "       \n",
    "    pd.concat(result_list).to_csv(os.path.join(results_folder, str(experiment_number)+'_'+'t2w.csv'), index=False)"
   ]
  },
  {
   "cell_type": "code",
   "execution_count": 125,
   "metadata": {},
   "outputs": [
    {
     "name": "stdout",
     "output_type": "stream",
     "text": [
      "Finished experiment 1\n",
      "Finished experiment 2\n",
      "Finished experiment 3\n",
      "Finished experiment 4\n",
      "Finished experiment 5\n",
      "Finished experiment 6\n",
      "Finished experiment 7\n",
      "Finished experiment 8\n",
      "Finished experiment 9\n",
      "Finished experiment 10\n",
      "Finished experiment 11\n",
      "Finished experiment 12\n",
      "Finished experiment 13\n",
      "Finished experiment 14\n",
      "Finished experiment 15\n",
      "Finished experiment 16\n",
      "Finished experiment 17\n",
      "Finished experiment 18\n",
      "Finished experiment 19\n",
      "Finished experiment 20\n",
      "Finished experiment 21\n",
      "Finished experiment 22\n",
      "Finished experiment 23\n",
      "Finished experiment 24\n",
      "Finished experiment 25\n"
     ]
    }
   ],
   "source": [
    "results_folder = '/home/raghuram/Desktop/radiomics/TEXTURES/results/t2w/linear_regression'\n",
    "for expt_number in range(1, 26):\n",
    "    scaled_df, radiomics_df = pre_process_dataframe(t2w_file, expt_number)\n",
    "    linear_regression(results_folder, radiomics_df, scaled_df, expt_number) \n",
    "    print('Finished experiment {}'.format(expt_number))"
   ]
  },
  {
   "cell_type": "code",
   "execution_count": 127,
   "metadata": {},
   "outputs": [],
   "source": [
    "results_folder = '/home/raghuram/Desktop/radiomics/TEXTURES/results/t1w/linear_regression'"
   ]
  },
  {
   "cell_type": "code",
   "execution_count": 126,
   "metadata": {},
   "outputs": [],
   "source": [
    "os.chdir(results_folder)\n",
    "csv_files_list = glob.glob('*.csv')\n",
    "\n",
    "for csv_file in csv_files_list:\n",
    "    df = pd.read_csv(csv_file)\n",
    "    df['significant'] = (df['pvals']<0.05).astype(bool)\n",
    "    df.to_csv(csv_file, index=False)"
   ]
  },
  {
   "cell_type": "code",
   "execution_count": null,
   "metadata": {},
   "outputs": [],
   "source": []
  }
 ],
 "metadata": {
  "kernelspec": {
   "display_name": "Python 3",
   "language": "python",
   "name": "python3"
  },
  "language_info": {
   "codemirror_mode": {
    "name": "ipython",
    "version": 3
   },
   "file_extension": ".py",
   "mimetype": "text/x-python",
   "name": "python",
   "nbconvert_exporter": "python",
   "pygments_lexer": "ipython3",
   "version": "3.7.2"
  }
 },
 "nbformat": 4,
 "nbformat_minor": 2
}
