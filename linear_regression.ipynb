{
 "cells": [
  {
   "cell_type": "code",
   "execution_count": null,
   "metadata": {},
   "outputs": [],
   "source": [
    "import os\n",
    "import glob\n",
    "import numpy as np\n",
    "import pandas as pd\n",
    "import statsmodels.api as sm\n",
    "\n",
    "from sklearn.preprocessing import MinMaxScaler\n",
    "import pingouin as pg\n",
    "import numpy as np"
   ]
  },
  {
   "cell_type": "code",
   "execution_count": null,
   "metadata": {},
   "outputs": [],
   "source": [
    "homedir = '/home/raghuram/Desktop/radiomics/TEXTURES/'\n",
    "os.chdir(homedir)"
   ]
  },
  {
   "cell_type": "code",
   "execution_count": null,
   "metadata": {},
   "outputs": [],
   "source": [
    "t1ce_file = 'expt_t1ce.csv'\n",
    "t1w_file = 'expt_t1w.csv'\n",
    "t2f_file = 'expt_t2f.csv'\n",
    "t2w_file = 'expt_t2w.csv'"
   ]
  },
  {
   "cell_type": "code",
   "execution_count": null,
   "metadata": {},
   "outputs": [],
   "source": [
    "def pre_process_dataframe(csv_file_name, experiment_number):\n",
    "    # Binarize magnetization strength values\n",
    "    # Scanner names and manufacturer are categorical \n",
    "    # One hot encode them\n",
    "    \n",
    "    # Code for the above here\n",
    "    # Experiments in ascending order\n",
    "    \n",
    "    experiment_df = pd.read_csv(csv_file_name)\n",
    "    experiment_df = experiment_df[experiment_df['experiment_number'] == experiment_number]\n",
    "    fill_values = {'mag_field_strength':1.5}\n",
    "    experiment_df.fillna(value=fill_values, inplace=True)\n",
    "    experiment_df['mag_field_strength_binarized'] = (experiment_df['mag_field_strength']>=1.5).astype(int)\n",
    "    experiment_df.drop(columns=[ 'Tumor','experiment_number', 'mat_file_name', 'scale', 'algo', 'ng', 'sequence_name', 'flip_angle', \n",
    "                                'VOLUME_ET', 'VOLUME_NET', 'VOLUME_ED', 'VOLUME_TC',\n",
    "                               'VOLUME_BRAIN', 'mag_field_strength'], inplace=True)\n",
    "    \n",
    "    print(experiment_df.columns)\n",
    "    experiment_df.dropna(subset=['VOLUME_WT'], inplace=True)\n",
    "    experiment_df = pd.get_dummies(experiment_df, columns=['scanner_manufacturer', 'scanner_model'], drop_first=True)\n",
    "    radiomics_features  = list(experiment_df.columns)[:42]\n",
    "\n",
    "    radiomics_df = experiment_df[radiomics_features]\n",
    "    scaled_df = experiment_df.drop(columns=radiomics_features)\n",
    "    scaled_df = scaled_df - scaled_df.min()/(scaled_df.max()-scaled_df.min())\n",
    "  \n",
    "    \n",
    "    return (scaled_df, radiomics_df)\n",
    "        \n"
   ]
  },
  {
   "cell_type": "code",
   "execution_count": null,
   "metadata": {},
   "outputs": [],
   "source": [
    "def results_summary_to_dataframe(results,response_variable):\n",
    "    '''take the result of an statsmodel results table and transforms it into a dataframe'''\n",
    "    pvals = results.pvalues\n",
    "    coeff = results.params\n",
    "    ci_bounds = results.conf_int()\n",
    " \n",
    "    results_df = pd.DataFrame({\"pvals\":pvals,\n",
    "                               \"coeff\":coeff,\n",
    "                               \"response_variable\":response_variable,\n",
    "                              })\n",
    "    #Reordering...\n",
    "    results_df = results_df[[\"coeff\",\"pvals\", \"response_variable\"]]\n",
    "    return results_df"
   ]
  },
  {
   "cell_type": "code",
   "execution_count": null,
   "metadata": {},
   "outputs": [],
   "source": [
    "def linear_regression(results_folder, radiomic_df, scaled_df, experiment_number):\n",
    "    # Load the data corresponding to the sequence argument here\n",
    "    # Perform regression with Tr and Te \n",
    "    \n",
    "    radiomic_features = list(radiomic_df.columns)\n",
    "    y = np.array(radiomic_df)\n",
    "    X = np.array(scaled_df)\n",
    "    X = sm.add_constant(X)\n",
    "    result_list = []\n",
    "    for idx, column in enumerate(radiomic_features):\n",
    "        \n",
    "        print('Feature is {}'.format(column))\n",
    "        model = sm.OLS(y[:, idx], X)\n",
    "        results = model.fit()\n",
    "        results_df = results_summary_to_dataframe(results, column)\n",
    "        result_list.append(results_df)\n",
    "       \n",
    "        \n",
    "    pd.concat(result_list).to_csv(os.path.join(results_folder, str(experiment_number)+'_'+'t1w.csv'), index=False)"
   ]
  },
  {
   "cell_type": "code",
   "execution_count": null,
   "metadata": {},
   "outputs": [],
   "source": [
    "results_folder = '/home/raghuram/Desktop/radiomics/TEXTURES/results/t1ce/linear_regression'\n",
    "for expt_number in range(1, 26):\n",
    "    scaled_df, radiomics_df = pre_process_dataframe(t1ce_file, expt_number)\n",
    "    linear_regression(results_folder, radiomics_df, scaled_df, expt_number) "
   ]
  },
  {
   "cell_type": "code",
   "execution_count": null,
   "metadata": {},
   "outputs": [],
   "source": [
    "df = pd.read_csv(t1ce_file)\n",
    "clinical_df = pd.read_csv('TCGA_LGG_radiomicFeatures_combined.csv')\n",
    "clinical_df = clinical_df[['ID', 'VOLUME_WT']]"
   ]
  },
  {
   "cell_type": "code",
   "execution_count": null,
   "metadata": {},
   "outputs": [],
   "source": [
    "df['ID'] = df['Tumor']\n",
    "df = pd.merge(df, clinical_df, how='inner', on='ID')\n",
    "df.drop(columns=['ID'], inplace=True)\n",
    "df.to_csv('expt_t1ce.csv', index=False)"
   ]
  },
  {
   "cell_type": "code",
   "execution_count": null,
   "metadata": {},
   "outputs": [],
   "source": []
  }
 ],
 "metadata": {
  "kernelspec": {
   "display_name": "Python 3",
   "language": "python",
   "name": "python3"
  },
  "language_info": {
   "codemirror_mode": {
    "name": "ipython",
    "version": 3
   },
   "file_extension": ".py",
   "mimetype": "text/x-python",
   "name": "python",
   "nbconvert_exporter": "python",
   "pygments_lexer": "ipython3",
   "version": "3.7.2"
  }
 },
 "nbformat": 4,
 "nbformat_minor": 2
}
