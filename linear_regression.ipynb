{
 "cells": [
  {
   "cell_type": "code",
   "execution_count": null,
   "metadata": {},
   "outputs": [],
   "source": [
    "import os\n",
    "import glob\n",
    "import numpy as np\n",
    "import pandas as pd\n",
    "import statsmodels.api as sm\n",
    "\n",
    "from pydicom import dcmread\n",
    "from sklearn.preprocessing import MinMaxScaler, StandardScaler\n",
    "from sklearn.model_selection import train_test_split\n",
    "from sklearn.utils import shuffle\n",
    "from numpy.linalg import matrix_rank, qr, inv, solve, lstsq\n",
    "from sklearn.linear_model import LinearRegression, RidgeCV, LassoCV, Ridge"
   ]
  },
  {
   "cell_type": "code",
   "execution_count": null,
   "metadata": {},
   "outputs": [],
   "source": [
    "homedir = '/home/raghuram/Desktop/radiomics/TEXTURES/'\n",
    "os.chdir(homedir)"
   ]
  },
  {
   "cell_type": "code",
   "execution_count": null,
   "metadata": {},
   "outputs": [],
   "source": [
    "t1_list = sorted(glob.glob('*_T1W_features.csv'))\n",
    "t2_list = sorted(glob.glob('*_T2W_features.csv'))\n",
    "t1ce_list = sorted(glob.glob('*_T1CE_features.csv'))\n",
    "flair_list = sorted(glob.glob('*_T2F_features.csv'))"
   ]
  },
  {
   "cell_type": "code",
   "execution_count": null,
   "metadata": {},
   "outputs": [],
   "source": [
    "def pre_process_dataframe(csv_file_name, experiment_number):\n",
    "    # Binarize magnetization strength values\n",
    "    # Scanner names and manufacturer are categorical \n",
    "    # One hot encode them\n",
    "    \n",
    "    # Code for the above here\n",
    "    # Experiments in ascending order\n",
    "    \n",
    "    experiment_df = pd.read_csv(csv_file_name)\n",
    "    experiment_df = experiment_df[experiment_df['experiment_number'] == experiment_number]\n",
    "    experiment_df.drop(columns=['experiment_number', 'scale', 'algo', 'ng', 'mat_file_name', 'parameters_Ng', \n",
    "                       'parameters_Scale', 'parameters_Algo', 'sequence_name', 'patient_name', 'flip_angle'], inplace=True)\n",
    "    fill_values = {'mag_field_strength':1.5}\n",
    "    experiment_df['mag_field_strength'].fillna(value=fill_values)\n",
    "    experiment_df['mag_field_strength_binarized'] = (experiment_df['mag_field_strength']<=1.5).astype(int)\n",
    "    experiment_df = pd.get_dummies(experiment_df, prefix=['col1', 'col2'])\n",
    "    experiment_df.drop(columns=['col2_Siemens', 'col1_Intera Achieva'], inplace=True)\n",
    "    repetition_time = experiment_df['repetition_time'].to_numpy()\n",
    "    excitation_time = experiment_df['excitation_time'].to_numpy()\n",
    "    experiment_df.drop(columns=['mag_field_strength','excitation_time', 'repetition_time'], inplace=True)  \n",
    "#     print(experiment_df.columns)\n",
    "    X = experiment_df.to_numpy()\n",
    "#     print(X.shape)\n",
    "    return X, repetition_time, excitation_time\n",
    "        \n"
   ]
  },
  {
   "cell_type": "code",
   "execution_count": null,
   "metadata": {},
   "outputs": [],
   "source": [
    "def split_data_train_test( numpy_array, y1, y2 ):\n",
    "    X, y1, y2 = shuffle(numpy_array, y1, y2, random_state=5)\n",
    "    y1, y2 = y1/1000, y2/1000\n",
    "    \n",
    "#     print(X.shape)\n",
    "    print(matrix_rank(X))\n",
    "    # Split the preprocessed data into train and test\n",
    "    X_train, X_test, y_train_te, y_test_te = train_test_split(X, y1, random_state=5)\n",
    "    X_train, X_test, y_train_tr, y_test_tr = train_test_split(X, y2, random_state=5)\n",
    "    \n",
    "    scaler = MinMaxScaler()\n",
    "    X = scaler.fit_transform(X)\n",
    "    \n",
    "    X_train = scaler.fit_transform(X_train)\n",
    "    X_train = sm.add_constant(X_train)\n",
    "    X_test = scaler.transform(X_test)\n",
    "    X_test = sm.add_constant(X_test)\n",
    "    \n",
    "    output_dict = {}\n",
    "    output_dict['X'] = X\n",
    "    output_dict['y1'] = y1\n",
    "    output_dict['y2'] = y2\n",
    "    output_dict['X_train'] = X_train\n",
    "    output_dict['X_test'] = X_test\n",
    "    output_dict['y_tr_train'] = y_train_tr\n",
    "    output_dict['y_tr_test'] = y_test_tr\n",
    "    output_dict['y_te_train'] = y_train_te\n",
    "    output_dict['y_te_test'] = y_test_te\n",
    "    \n",
    "    return output_dict\n",
    "    "
   ]
  },
  {
   "cell_type": "code",
   "execution_count": null,
   "metadata": {},
   "outputs": [],
   "source": [
    "def linear_regression(output_dict, expt_number, results_folder):\n",
    "    # Load the data corresponding to the sequence argument here\n",
    "    # Perform regression with Tr and Te \n",
    "    \n",
    "    model = sm.OLS(od['y2'], od['X']).fit()\n",
    "    predictions = model.predict(od['X'])\n",
    "    filename='expt_t2f_TE'+'_'+str(expt_number)+'.csv'\n",
    "    with open(os.path.join(results_folder, filename), 'w') as csvfile:\n",
    "        csvfile.write(model.summary().as_csv())"
   ]
  },
  {
   "cell_type": "code",
   "execution_count": null,
   "metadata": {},
   "outputs": [],
   "source": [
    "results_folder = '/home/raghuram/Desktop/radiomics/TEXTURES/results/t2f/linear_regression/TE'\n",
    "for expt_number in range(1, 26):\n",
    "    X, tr, te = pre_process_dataframe('expt_t2f.csv', expt_number)\n",
    "    od = split_data_train_test(X, tr, te)\n",
    "    linear_regression(od, expt_number,results_folder)"
   ]
  },
  {
   "cell_type": "code",
   "execution_count": null,
   "metadata": {},
   "outputs": [],
   "source": []
  }
 ],
 "metadata": {
  "kernelspec": {
   "display_name": "Python 3",
   "language": "python",
   "name": "python3"
  },
  "language_info": {
   "codemirror_mode": {
    "name": "ipython",
    "version": 3
   },
   "file_extension": ".py",
   "mimetype": "text/x-python",
   "name": "python",
   "nbconvert_exporter": "python",
   "pygments_lexer": "ipython3",
   "version": "3.7.2"
  }
 },
 "nbformat": 4,
 "nbformat_minor": 2
}
