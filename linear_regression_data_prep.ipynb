{
 "cells": [
  {
   "cell_type": "code",
   "execution_count": 8,
   "metadata": {},
   "outputs": [],
   "source": [
    "from pydicom.filereader import dcmread\n",
    "import os\n",
    "import numpy as np\n",
    "import math\n",
    "import glob\n",
    "import re"
   ]
  },
  {
   "cell_type": "code",
   "execution_count": 9,
   "metadata": {},
   "outputs": [],
   "source": [
    "import pandas as pd"
   ]
  },
  {
   "cell_type": "code",
   "execution_count": 10,
   "metadata": {},
   "outputs": [],
   "source": [
    "import scipy\n",
    "import numpy as np\n",
    "import scipy.io as spio\n"
   ]
  },
  {
   "cell_type": "code",
   "execution_count": 11,
   "metadata": {},
   "outputs": [],
   "source": [
    "homedir = '/media/raghuram/My Passport/dicom_seg/TCGA-LGG'\n",
    "os.chdir(homedir)\n",
    "folder_dict = {}"
   ]
  },
  {
   "cell_type": "code",
   "execution_count": 12,
   "metadata": {},
   "outputs": [],
   "source": [
    "# dicom_df = pd.read_csv('dicom_filenames.csv', names=['filename'])\n"
   ]
  },
  {
   "cell_type": "code",
   "execution_count": null,
   "metadata": {},
   "outputs": [],
   "source": [
    "mat_file_dir = '/home/raghuram/Desktop/radiomics/TEXTURES/'\n",
    "os.chdir(mat_file_dir)\n",
    "sequence_dict = dict()"
   ]
  },
  {
   "cell_type": "code",
   "execution_count": 18,
   "metadata": {},
   "outputs": [],
   "source": [
    "homedir = '/media/raghuram/My Passport/dicom_seg/TCGA-LGG'\n",
    "os.chdir(homedir)\n",
    "\n",
    "t1_df=pd.read_csv('t1_pre_samples.csv')\n",
    "t1_post_df=pd.read_csv('t1_post_samples.csv')\n",
    "t2_df=pd.read_csv('t2_pre_samples.csv')\n",
    "flair_df=pd.read_csv('flair_samples.csv')"
   ]
  },
  {
   "cell_type": "code",
   "execution_count": 19,
   "metadata": {},
   "outputs": [
    {
     "data": {
      "text/plain": [
       "['AXIAL T1 POST GAD FATSAT',\n",
       " 'BRAIN_CONTRAST/T1_AXIAL',\n",
       " 'T1 AX SE FS POST',\n",
       " 'AX T1 POST GD FLAIR',\n",
       " 'POST AX T1W_IR_TSE',\n",
       " 'AXIAL T1 FSE POST GAD',\n",
       " 'POST AX T1 FLAIR',\n",
       " 'MRHR T1 AX POST GAD',\n",
       " 'T1 AXIAL GD',\n",
       " 'AX T1 MP SPGR + GAD',\n",
       " 'POST AX T1 SE',\n",
       " 'AX T1 MP SPGR+C',\n",
       " 'POST AX T1 MP SPGR',\n",
       " 'VOLUMETRIC AXIAL GD',\n",
       " 'POST AX 3D SPGR',\n",
       " 'AX 3D SPGR+C',\n",
       " '+C AX T1 MP SPGR',\n",
       " 'C+AX 3D SPGR',\n",
       " 'AX T1+C',\n",
       " 'AX 3D SPGR + C',\n",
       " 'AX T1 SE+C',\n",
       " 'RA ROUTINE T1 AX +C',\n",
       " '+C 3D AXIAL IRSPGR FAST',\n",
       " 'AX T1 MP SPGR +C',\n",
       " '+C AX 3D SPGR',\n",
       " 'BRAIN_CONTRAST/T1_AXIAL_C+']"
      ]
     },
     "execution_count": 19,
     "metadata": {},
     "output_type": "execute_result"
    }
   ],
   "source": [
    "list(t1_post_df['Sequence Name'].values)"
   ]
  },
  {
   "cell_type": "code",
   "execution_count": 20,
   "metadata": {},
   "outputs": [],
   "source": [
    "sequence_mapping = {'T1CE':list(t1_post_df['Sequence Name'].values), \n",
    "                    'T1W':list(t1_df['Sequence Name'].values),\n",
    "                    'T2F':list(flair_df['Sequence Name'].values),\n",
    "                    'T2W':list(t2_df['Sequence Name'].values)}"
   ]
  },
  {
   "cell_type": "code",
   "execution_count": 21,
   "metadata": {},
   "outputs": [
    {
     "data": {
      "text/plain": [
       "{'T1CE': ['AXIAL T1 POST GAD FATSAT',\n",
       "  'BRAIN_CONTRAST/T1_AXIAL',\n",
       "  'T1 AX SE FS POST',\n",
       "  'AX T1 POST GD FLAIR',\n",
       "  'POST AX T1W_IR_TSE',\n",
       "  'AXIAL T1 FSE POST GAD',\n",
       "  'POST AX T1 FLAIR',\n",
       "  'MRHR T1 AX POST GAD',\n",
       "  'T1 AXIAL GD',\n",
       "  'AX T1 MP SPGR + GAD',\n",
       "  'POST AX T1 SE',\n",
       "  'AX T1 MP SPGR+C',\n",
       "  'POST AX T1 MP SPGR',\n",
       "  'VOLUMETRIC AXIAL GD',\n",
       "  'POST AX 3D SPGR',\n",
       "  'AX 3D SPGR+C',\n",
       "  '+C AX T1 MP SPGR',\n",
       "  'C+AX 3D SPGR',\n",
       "  'AX T1+C',\n",
       "  'AX 3D SPGR + C',\n",
       "  'AX T1 SE+C',\n",
       "  'RA ROUTINE T1 AX +C',\n",
       "  '+C 3D AXIAL IRSPGR FAST',\n",
       "  'AX T1 MP SPGR +C',\n",
       "  '+C AX 3D SPGR',\n",
       "  'BRAIN_CONTRAST/T1_AXIAL_C+'],\n",
       " 'T1W': ['AXIAL T1',\n",
       "  'T1 AX  SE',\n",
       "  'BRAIN_STRYKER/T1_AXIAL',\n",
       "  'BRAIN_STRYKER/T1_AX',\n",
       "  'T1 AX SE',\n",
       "  'AX T1 PRE GD',\n",
       "  'AX T1 2.5MM FOR SURGERY',\n",
       "  'RA ROUTINE T1 AX',\n",
       "  'AX T1_IR_TSE_5MM',\n",
       "  'AXIAL T1 FSE',\n",
       "  'AX T1',\n",
       "  'T1 AX',\n",
       "  'TIR T1 AX',\n",
       "  'AX T1 MP SPGR',\n",
       "  'AX T1 MP SPGR PRE GAD',\n",
       "  'AX T1 SE',\n",
       "  'PRE AX T1 MP SPGR',\n",
       "  'TI AX SE',\n",
       "  '3D AXIAL IRSPGR FAST',\n",
       "  'MP RAGE AXIAL',\n",
       "  'AX 3D SPGR',\n",
       "  'MPRAGE AX 3D SPGR FAST',\n",
       "  'REPEAT AX 3D SPGR'],\n",
       " 'T2F': ['AXIAL FLAIR',\n",
       "  'T2 AX FLAIR',\n",
       "  'BRAIN_STRYKER/FLAIR',\n",
       "  'BRAIN_CONTRAST/FLAIR',\n",
       "  'AX T1 POST GD FLAIR',\n",
       "  'AX FLAIR 2.5MM FOR SURGERY',\n",
       "  'RA ROUTINE FLAIR AX',\n",
       "  'AXIAL FLAIR RF2  150',\n",
       "  'FLAIR_LONGTR',\n",
       "  'AX T2 FLAIR',\n",
       "  'POST AX T1 FLAIR',\n",
       "  'FLAIR AXIALS',\n",
       "  'MRHR FLAIR AX',\n",
       "  'FLAIR AX',\n",
       "  'AX FLAIR IRFSE H',\n",
       "  'AXIAL T2 FLAIR'],\n",
       " 'T2W': ['AXIAL T2',\n",
       "  'BRAIN_STRYKER/T2_AX_DOUBLE',\n",
       "  'RETRO_ORBIT/T2_LATE_ECHO_B',\n",
       "  'BRAIN_PITUITARY/PD_T2_AXIA',\n",
       "  'T2W_TSE',\n",
       "  'AXIAL  T2',\n",
       "  'AX T2 FR-FSE RF2 150',\n",
       "  'RA ROUTINE T2 AX',\n",
       "  'AX T2 FSE',\n",
       "  'AX T2W_DRIVE',\n",
       "  'AXIAL T2 FSE HI-RES',\n",
       "  'AX T2',\n",
       "  'MRHG T2 AXIALS',\n",
       "  'T2 AXIALS',\n",
       "  'MRHR T2 AX',\n",
       "  'T2 AX',\n",
       "  'TSE T2 AXIALS',\n",
       "  'AX T2 FSE INTER',\n",
       "  '(OPTIONAL) AX FSE T2 INTER ',\n",
       "  'PROP T2 TRF',\n",
       "  '(OPTIONAL)AX T2 FSE INTER',\n",
       "  'AX T2 FSE H',\n",
       "  'AX FSE T2 INTER',\n",
       "  ' T2PROP',\n",
       "  '(OPT) AX T2 FSE INTER',\n",
       "  'T2PROP',\n",
       "  '(OPT)AX T2 FSE INTER',\n",
       "  'AX T2 FSE  FOR WAND',\n",
       "  'DUAL AX SE',\n",
       "  'AXIAL FSE']}"
      ]
     },
     "execution_count": 21,
     "metadata": {},
     "output_type": "execute_result"
    }
   ],
   "source": [
    "sequence_mapping"
   ]
  },
  {
   "cell_type": "code",
   "execution_count": null,
   "metadata": {},
   "outputs": [],
   "source": [
    "def categorize_mat_files():\n",
    "    mat_file_list = glob.glob(os.path.join(mat_file_dir, '*.mat'))\n",
    "    for idx, mat_file in enumerate(mat_file_list):\n",
    "        sequence_name = mat_file.split('_')[1].split('.mat')[0]\n",
    "        patient_name = mat_file.split('_')[0].split('/')[-1]\n",
    "        print(patient_name, sequence_name)"
   ]
  },
  {
   "cell_type": "code",
   "execution_count": null,
   "metadata": {},
   "outputs": [],
   "source": [
    "def fetch_magnetization_strength(dicom_file):\n",
    "    try:\n",
    "        mag_strength = dicom_file.MagneticFieldStrength\n",
    "        if mag_strength>1000:\n",
    "            return mag_strength/10000\n",
    "        return mag_strength\n",
    "    except Exception:\n",
    "        raise Exception"
   ]
  },
  {
   "cell_type": "code",
   "execution_count": null,
   "metadata": {},
   "outputs": [],
   "source": [
    "def fetch_scanner_model(dicom_file):\n",
    "    try:\n",
    "        return dicom_file.ManufacturerModelName\n",
    "    except Exception:\n",
    "        raise Exception"
   ]
  },
  {
   "cell_type": "code",
   "execution_count": null,
   "metadata": {},
   "outputs": [],
   "source": [
    "def fetch_scanner_manufacturer(dicom_file):\n",
    "    try:\n",
    "        return dicom_file.Manufacturer\n",
    "    except Exception:\n",
    "        raise Exception"
   ]
  },
  {
   "cell_type": "code",
   "execution_count": null,
   "metadata": {},
   "outputs": [],
   "source": [
    "def fetch_repetition_time(dicom_file):\n",
    "    try:\n",
    "        return dicom_file.RepetitionTime\n",
    "    except Exception:\n",
    "        raise Exception\n",
    "    "
   ]
  },
  {
   "cell_type": "code",
   "execution_count": null,
   "metadata": {},
   "outputs": [],
   "source": [
    "def fetch_excitation_time(dicom_file):\n",
    "    try:\n",
    "        return dicom_file.EchoTime\n",
    "    except Exception:\n",
    "        raise Exception"
   ]
  },
  {
   "cell_type": "code",
   "execution_count": null,
   "metadata": {},
   "outputs": [],
   "source": [
    "def fetch_scanning_seq_mri(dicom_file):\n",
    "    try:\n",
    "        return dicom_file.SeriesDescription\n",
    "    \n",
    "    except Exception:\n",
    "        raise Exception"
   ]
  },
  {
   "cell_type": "code",
   "execution_count": null,
   "metadata": {},
   "outputs": [],
   "source": [
    "def fetch_body_part_examined(dicom_file):\n",
    "    try:\n",
    "        return dicom_file.BodyPartExamined\n",
    "    except Exception as e:\n",
    "        raise Exception"
   ]
  },
  {
   "cell_type": "code",
   "execution_count": null,
   "metadata": {},
   "outputs": [],
   "source": [
    "row_list = []"
   ]
  },
  {
   "cell_type": "code",
   "execution_count": null,
   "metadata": {},
   "outputs": [],
   "source": [
    "for idx, row in dicom_df.iterrows():\n",
    "    \n",
    "    try:\n",
    "#         dict_to_append = {'mag_field_strength':'', 'scanner_manufacturer':'', 'scanner_model':'', 'repetition_time':'', 'excitation_time':'',\n",
    "#                   'scanning_seq_mri':'', 'filename':'', 'body_part_examined':''}\n",
    "        dicom_data = dcmread(row[0])\n",
    "        print(dicom_data)\n",
    "        break\n",
    "#         dict_to_append['filename'] = row[0]\n",
    "#         dict_to_append['excitation_time'] = fetch_excitation_time(dicom_data)\n",
    "#         dict_to_append['repetition_time'] = fetch_repetition_time(dicom_data)\n",
    "#         dict_to_append['mag_field_strength'] = fetch_magnetization_strength(dicom_data)\n",
    "#         dict_to_append['scanner_manufacturer'] = fetch_scanner_manufacturer(dicom_data)\n",
    "#         dict_to_append['scanner_model'] = fetch_scanner_model(dicom_data)\n",
    "#         dict_to_append['scanning_seq_mri'] = dicom_data.SeriesDescription\n",
    "#         dict_to_append['body_part_examined'] = fetch_body_part_examined(dicom_data)\n",
    "#         row_list.append(dict_to_append)\n",
    "    \n",
    "    except Exception as e:\n",
    "        print('Exception : {} has occurred for file at position {}'.format(e, idx))\n",
    "    "
   ]
  },
  {
   "cell_type": "code",
   "execution_count": null,
   "metadata": {},
   "outputs": [],
   "source": [
    "import csv"
   ]
  },
  {
   "cell_type": "code",
   "execution_count": null,
   "metadata": {},
   "outputs": [],
   "source": [
    "keys = row_list[0].keys()\n",
    "with open(os.path.join(os.getcwd(),'dicom_file_params.csv'), 'w') as outfile:\n",
    "    dict_writer = csv.DictWriter(outfile, keys)\n",
    "    dict_writer.writeheader()\n",
    "    dict_writer.writerows(row_list)"
   ]
  },
  {
   "cell_type": "code",
   "execution_count": 34,
   "metadata": {},
   "outputs": [],
   "source": [
    "dicom_file_params_df = pd.read_csv('dicom_file_params.csv')\n",
    "dicom_file_params_df['scanning_seq_mri'] = dicom_file_params_df['scanning_seq_mri'].str.upper()\n",
    "dicom_file_params_df = dicom_file_params_df[dicom_file_params_df['scanner_manufacturer'] != 'Hitachi Medical Corporation']\n",
    "dicom_file_params_df = dicom_file_params_df[(dicom_file_params_df['scanning_seq_mri'] != 'BRAIN_PITUITARY/PD_T2_AXIA') &\n",
    "                    (dicom_file_params_df['scanning_seq_mri'] != 'BRAIN_CONTRAST/DOUBLE_ECHO') \n",
    "                                            & (dicom_file_params_df['scanning_seq_mri'] != 'VOLUMETRIC AXIAL')\n",
    "                                          & (dicom_file_params_df['scanning_seq_mri'] != 'AX') ]\n",
    "# dicom_file_params_df.to_csv('dicom_file_params.csv')\n",
    "#Confirmation done for drop"
   ]
  },
  {
   "cell_type": "code",
   "execution_count": 35,
   "metadata": {},
   "outputs": [],
   "source": [
    "standard_mri_seq_name = []"
   ]
  },
  {
   "cell_type": "code",
   "execution_count": 36,
   "metadata": {},
   "outputs": [],
   "source": [
    "for idx, row in dicom_file_params_df.iterrows():\n",
    "#     print(row['scanning_seq_mri'])\n",
    "    if row['scanning_seq_mri'] in sequence_mapping['T1CE']:\n",
    "        standard_mri_seq_name.append('T1CE')\n",
    "    elif row['scanning_seq_mri'] in sequence_mapping['T1W']:\n",
    "        standard_mri_seq_name.append('T1W')\n",
    "    elif row['scanning_seq_mri'] in sequence_mapping['T2W']:\n",
    "        standard_mri_seq_name.append('T2W')\n",
    "    elif row['scanning_seq_mri'] in sequence_mapping['T2F']:\n",
    "        standard_mri_seq_name.append('T2F')\n",
    "    else:\n",
    "        print('Not present {} :{}'.format(idx, row['scanning_seq_mri']))\n",
    "\n",
    "#     if row['scanning_seq_mri'] \n",
    "#     scanning_seq_value = row['scanning_seq_mri'] \n",
    "#     for key, value in sequence_mapping.items():\n",
    "#         if scanning_seq_value in value:\n",
    "#             standard_mri_seq_name.append(key)\n",
    "#         else:\n",
    "#             print(scanning_seq_value, idx)"
   ]
  },
  {
   "cell_type": "code",
   "execution_count": 37,
   "metadata": {},
   "outputs": [
    {
     "data": {
      "text/plain": [
       "(24398, 12)"
      ]
     },
     "execution_count": 37,
     "metadata": {},
     "output_type": "execute_result"
    }
   ],
   "source": [
    "dicom_file_params_df.shape"
   ]
  },
  {
   "cell_type": "code",
   "execution_count": 38,
   "metadata": {},
   "outputs": [
    {
     "data": {
      "text/plain": [
       "24398"
      ]
     },
     "execution_count": 38,
     "metadata": {},
     "output_type": "execute_result"
    }
   ],
   "source": [
    "len(standard_mri_seq_name)"
   ]
  },
  {
   "cell_type": "code",
   "execution_count": null,
   "metadata": {},
   "outputs": [],
   "source": [
    "output = dicom_file_params_df[dicom_file_params_df['scanning_seq_mri'].str.contains('C+')]"
   ]
  },
  {
   "cell_type": "code",
   "execution_count": null,
   "metadata": {},
   "outputs": [],
   "source": [
    "output['scanning_seq_mri'].unique()"
   ]
  },
  {
   "cell_type": "code",
   "execution_count": 2,
   "metadata": {},
   "outputs": [],
   "source": [
    "t1_pre = ['AXIAL T1', 'T1 AX  SE', 'BRAIN_STRYKER/T1_AXIAL', 'BRAIN_STRYKER/T1_AX',\n",
    "          'T1 AX SE', 'AX T1 PRE GD', 'AX T1 2.5MM FOR SURGERY', 'RA ROUTINE T1 AX', 'AX T1_IR_TSE_5MM','AXIAL T1 FSE', \n",
    "           'AX T1', 'T1 AX', 'TIR T1 AX', 'AX T1 MP SPGR', 'AX T1 MP SPGR PRE GAD', 'AX T1 SE','PRE AX T1 MP SPGR',\n",
    "         'TI AX SE', '3D AXIAL IRSPGR FAST', 'MP RAGE AXIAL', 'AX 3D SPGR', 'MPRAGE AX 3D SPGR FAST', 'REPEAT AX 3D SPGR' ]"
   ]
  },
  {
   "cell_type": "code",
   "execution_count": 1,
   "metadata": {},
   "outputs": [],
   "source": [
    "t1_post = ['AXIAL T1 POST GAD FATSAT', 'BRAIN_CONTRAST/T1_AXIAL',  \n",
    "          'T1 AX SE FS POST', 'AX T1 POST GD FLAIR', 'POST AX T1W_IR_TSE',\n",
    "          'AXIAL T1 FSE POST GAD', 'POST AX T1 FLAIR', 'MRHR T1 AX POST GAD', 'T1 AXIAL GD', \n",
    "           'AX T1 MP SPGR + GAD', 'POST AX T1 SE', 'AX T1 MP SPGR+C', \n",
    "           'POST AX T1 MP SPGR', 'VOLUMETRIC AXIAL GD',\n",
    "           'T1 AXIAL GD', 'AX T1 POST GD FLAIR','POST AX 3D SPGR', 'AX 3D SPGR+C', '+C AX T1 MP SPGR','C+AX 3D SPGR', 'AX T1+C',\n",
    "       'AX 3D SPGR + C', 'AX T1 MP SPGR+C', 'AX T1 SE+C', 'RA ROUTINE T1 AX +C', '+C 3D AXIAL IRSPGR FAST', 'AX T1 MP SPGR +C', '+C AX 3D SPGR', 'C+AX 3D SPGR', 'BRAIN_CONTRAST/T1_AXIAL_C+' ]"
   ]
  },
  {
   "cell_type": "code",
   "execution_count": 3,
   "metadata": {},
   "outputs": [],
   "source": [
    "t2 = ['AXIAL T2', 'BRAIN_STRYKER/T2_AX_DOUBLE', 'RETRO_ORBIT/T2_LATE_ECHO_B','BRAIN_PITUITARY/PD_T2_AXIA',\n",
    "      'T2W_TSE', 'AXIAL  T2', 'AX T2 FR-FSE RF2 150', 'RA ROUTINE T2 AX','AX T2 FSE', 'AX T2W_DRIVE', \n",
    "      'AXIAL T2 FSE HI-RES', 'AX T2','MRHG T2 AXIALS', 'T2 AXIALS', 'MRHR T2 AX','T2 AX', 'TSE T2 AXIALS', \n",
    "      'AX T2 FSE INTER', '(OPTIONAL) AX FSE T2 INTER ', 'PROP T2 TRF','(OPTIONAL)AX T2 FSE INTER', 'AX T2 FSE H', \n",
    "      'AX FSE T2 INTER',' T2PROP', '(OPT) AX T2 FSE INTER', 'T2PROP', '(OPT)AX T2 FSE INTER', 'AX T2 FSE  FOR WAND',\n",
    "     'DUAL AX SE', 'AXIAL FSE','BRAIN_STRYKER/T2_AX_DOUBLE', 'RETRO_ORBIT/T2_LATE_ECHO_B', 'T2W_TSE', 'AXIAL  T2',\n",
    "     'AX T2 FR-FSE RF2 150']"
   ]
  },
  {
   "cell_type": "code",
   "execution_count": 4,
   "metadata": {},
   "outputs": [],
   "source": [
    "flair = ['AXIAL FLAIR', 'T2 AX FLAIR', 'BRAIN_STRYKER/FLAIR',\n",
    "       'BRAIN_CONTRAST/FLAIR', 'AX T1 POST GD FLAIR',\n",
    "       'AX FLAIR 2.5MM FOR SURGERY', 'RA ROUTINE FLAIR AX',\n",
    "       'AXIAL FLAIR RF2  150', 'FLAIR_LONGTR', 'AX T2 FLAIR',\n",
    "       'POST AX T1 FLAIR', 'FLAIR AXIALS', 'MRHR FLAIR AX', 'FLAIR AX',\n",
    "       'AX FLAIR IRFSE H', 'AXIAL T2 FLAIR']"
   ]
  },
  {
   "cell_type": "code",
   "execution_count": 5,
   "metadata": {},
   "outputs": [],
   "source": [
    "t1_post_dict = {}\n",
    "t1_pre_dict = {}\n",
    "t2_pre_dict = {}\n",
    "flair_dict = {}"
   ]
  },
  {
   "cell_type": "markdown",
   "metadata": {},
   "source": [
    "# Need to check if AX T1 POST GD FLAIR is T1 or FLAIR?"
   ]
  },
  {
   "cell_type": "code",
   "execution_count": 14,
   "metadata": {},
   "outputs": [],
   "source": [
    "def write_to_csv(input_list, input_dict, filename):\n",
    "    for submodality in input_list:\n",
    "    #     print('Submodality is {} '.format(submodality))\n",
    "        value = dicom_file_params_df[dicom_file_params_df['scanning_seq_mri'] == submodality].shape[0]\n",
    "        input_dict[submodality] = value\n",
    "    pd.DataFrame(list(input_dict.items()), columns=['Sequence Name', 'Values']).to_csv(filename+'.csv')"
   ]
  },
  {
   "cell_type": "code",
   "execution_count": 15,
   "metadata": {},
   "outputs": [],
   "source": [
    "write_to_csv(t1_post, t1_post_dict, 't1_post_samples')\n",
    "write_to_csv(t1_pre, t1_pre_dict, 't1_pre_samples')\n",
    "write_to_csv(t2, t2_pre_dict, 't2_pre_samples')\n",
    "write_to_csv(flair, flair_dict, 'flair_samples')"
   ]
  },
  {
   "cell_type": "code",
   "execution_count": null,
   "metadata": {},
   "outputs": [],
   "source": []
  }
 ],
 "metadata": {
  "kernelspec": {
   "display_name": "Python 3",
   "language": "python",
   "name": "python3"
  },
  "language_info": {
   "codemirror_mode": {
    "name": "ipython",
    "version": 3
   },
   "file_extension": ".py",
   "mimetype": "text/x-python",
   "name": "python",
   "nbconvert_exporter": "python",
   "pygments_lexer": "ipython3",
   "version": "3.7.2"
  }
 },
 "nbformat": 4,
 "nbformat_minor": 2
}
