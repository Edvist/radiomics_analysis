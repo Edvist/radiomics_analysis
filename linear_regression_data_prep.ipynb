{
 "cells": [
  {
   "cell_type": "code",
   "execution_count": 2,
   "metadata": {},
   "outputs": [],
   "source": [
    "import os\n",
    "import pandas as pd\n",
    "import glob "
   ]
  },
  {
   "cell_type": "code",
   "execution_count": null,
   "metadata": {},
   "outputs": [],
   "source": [
    "import scipy\n",
    "import numpy as np\n",
    "import scipy.io as spio\n",
    "\n",
    "\n",
    "def loadmat(filename):\n",
    "    '''\n",
    "    this function should be called instead of direct spio.loadmat\n",
    "    as it cures the problem of not properly recovering python dictionaries\n",
    "    from mat files. It calls the function check keys to cure all entries\n",
    "    which are still mat-objects\n",
    "    '''\n",
    "    def _check_keys(d):\n",
    "        '''\n",
    "        checks if entries in dictionary are mat-objects. If yes\n",
    "        todict is called to change them to nested dictionaries\n",
    "        '''\n",
    "        for key in d:\n",
    "            if isinstance(d[key], spio.matlab.mio5_params.mat_struct):\n",
    "                d[key] = _todict(d[key])\n",
    "        return d\n",
    "\n",
    "    def _todict(matobj):\n",
    "        '''\n",
    "        A recursive function which constructs from matobjects nested dictionaries\n",
    "        '''\n",
    "        d = {}\n",
    "        for strg in matobj._fieldnames:\n",
    "            elem = matobj.__dict__[strg]\n",
    "            if isinstance(elem, spio.matlab.mio5_params.mat_struct):\n",
    "                d[strg] = _todict(elem)\n",
    "            elif isinstance(elem, np.ndarray):\n",
    "                d[strg] = _tolist(elem)\n",
    "            else:\n",
    "                d[strg] = elem\n",
    "        return d\n",
    "\n",
    "    def _tolist(ndarray):\n",
    "        '''\n",
    "        A recursive function which constructs lists from cellarrays\n",
    "        (which are loaded as numpy ndarrays), recursing into the elements\n",
    "        if they contain matobjects.\n",
    "        '''\n",
    "        elem_list = []\n",
    "        for sub_elem in ndarray:\n",
    "            if isinstance(sub_elem, spio.matlab.mio5_params.mat_struct):\n",
    "                elem_list.append(_todict(sub_elem))\n",
    "            elif isinstance(sub_elem, np.ndarray):\n",
    "                elem_list.append(_tolist(sub_elem))\n",
    "            else:\n",
    "                elem_list.append(sub_elem)\n",
    "        return elem_list\n",
    "    data = scipy.io.loadmat(filename, struct_as_record=False, squeeze_me=True)\n",
    "    return _check_keys(data)"
   ]
  },
  {
   "cell_type": "code",
   "execution_count": null,
   "metadata": {},
   "outputs": [],
   "source": [
    "homedir='/media/raghuram/My Passport/dicom_seg/TCGA-LGG'"
   ]
  },
  {
   "cell_type": "code",
   "execution_count": null,
   "metadata": {},
   "outputs": [],
   "source": [
    "os.chdir(homedir)"
   ]
  },
  {
   "cell_type": "code",
   "execution_count": null,
   "metadata": {},
   "outputs": [],
   "source": [
    "dicom_file_params_df=pd.read_csv('dicom_file_params.csv')"
   ]
  },
  {
   "cell_type": "code",
   "execution_count": null,
   "metadata": {},
   "outputs": [],
   "source": [
    "dicom_file_params_df.shape"
   ]
  },
  {
   "cell_type": "code",
   "execution_count": null,
   "metadata": {},
   "outputs": [],
   "source": [
    "t1_post_samples_df = pd.read_csv('t1_post_samples.csv')\n",
    "t1_pre_samples_df = pd.read_csv('t1_pre_samples.csv')\n",
    "flair_samples = pd.read_csv('flair_samples.csv')\n",
    "t2_pre_samples = pd.read_csv('t2_pre_samples.csv')"
   ]
  },
  {
   "cell_type": "code",
   "execution_count": null,
   "metadata": {},
   "outputs": [],
   "source": [
    "# t1_post_samples_df['Sequence Name']"
   ]
  },
  {
   "cell_type": "code",
   "execution_count": null,
   "metadata": {},
   "outputs": [],
   "source": [
    "sequence_mapper_dict = {'T1CE':t1_post_samples_df.values,\n",
    "               'T1W':t1_pre_samples_df.values,\n",
    "               'T2W': t2_pre_samples.values,\n",
    "               'T2F': flair_samples.values}"
   ]
  },
  {
   "cell_type": "code",
   "execution_count": null,
   "metadata": {},
   "outputs": [],
   "source": [
    "mapped_sequence = []\n",
    "for idx, row in dicom_file_params_df.iterrows():\n",
    "    try:\n",
    "        if row['scanning_seq_mri'] in sequence_mapper_dict['T1CE']:\n",
    "            mapped_sequence.append('T1CE')\n",
    "        elif row['scanning_seq_mri'] in sequence_mapper_dict['T1W']:\n",
    "            mapped_sequence.append('T1W')\n",
    "        elif row['scanning_seq_mri'] in sequence_mapper_dict['T2W']:\n",
    "            mapped_sequence.append('T2W')\n",
    "        elif row['scanning_seq_mri'] in sequence_mapper_dict['T2F']:\n",
    "            mapped_sequence.append('T2F')\n",
    "    except Exception as e:\n",
    "        print('{}, {} in row {}'.format(e, row['scanning_seq_mri'], idx))"
   ]
  },
  {
   "cell_type": "code",
   "execution_count": null,
   "metadata": {},
   "outputs": [],
   "source": [
    "dicom_file_params_df['mat_file_sequence'] = mapped_sequence\n",
    "dicom_file_params_df.to_csv('dicom_file_params.csv', index=False)"
   ]
  },
  {
   "cell_type": "code",
   "execution_count": null,
   "metadata": {},
   "outputs": [],
   "source": [
    "patient_name_list = []\n",
    "for idx, row in dicom_file_params_df.iterrows():\n",
    "    try:\n",
    "        patient_name_list.append(row['filename'].split('/TCGA-LGG')[1].split('/')[1])\n",
    "    except Exception as e:\n",
    "        print('Error {} at index {}'.format(e, idx))"
   ]
  },
  {
   "cell_type": "code",
   "execution_count": null,
   "metadata": {},
   "outputs": [],
   "source": [
    "dicom_file_params_df['patient_name'] = patient_name_list\n",
    "dicom_file_params_df.to_csv('dicom_file_params.csv', index=False)"
   ]
  },
  {
   "cell_type": "code",
   "execution_count": null,
   "metadata": {},
   "outputs": [],
   "source": [
    "mat_files_dir = '/home/raghuram/Desktop/radiomics/TEXTURES'"
   ]
  },
  {
   "cell_type": "code",
   "execution_count": null,
   "metadata": {},
   "outputs": [],
   "source": [
    "os.chdir(mat_files_dir)"
   ]
  },
  {
   "cell_type": "code",
   "execution_count": null,
   "metadata": {},
   "outputs": [],
   "source": [
    "mat_files_list = glob.glob('*.mat')"
   ]
  },
  {
   "cell_type": "code",
   "execution_count": null,
   "metadata": {},
   "outputs": [],
   "source": [
    "data = loadmat(mat_files_list[0])"
   ]
  },
  {
   "cell_type": "code",
   "execution_count": null,
   "metadata": {},
   "outputs": [],
   "source": [
    "mat_files_list[-1 ]"
   ]
  },
  {
   "cell_type": "code",
   "execution_count": null,
   "metadata": {},
   "outputs": [],
   "source": [
    "dicom_file_params_df['mat_file_name'] = dicom_file_params_df['patient_name']+'_'+dicom_file_params_df['mat_file_sequence']+'.mat'"
   ]
  },
  {
   "cell_type": "code",
   "execution_count": null,
   "metadata": {},
   "outputs": [],
   "source": [
    "dicom_file_params_df.drop_duplicates(subset=['mat_file_name'], keep='first', inplace=True)"
   ]
  },
  {
   "cell_type": "code",
   "execution_count": null,
   "metadata": {},
   "outputs": [],
   "source": [
    "dicom_file_params_df.drop(columns=['patient_name'], inplace=True)"
   ]
  },
  {
   "cell_type": "code",
   "execution_count": null,
   "metadata": {},
   "outputs": [],
   "source": [
    "dicom_file_params_df.to_csv('dicom_file_params_df_with_mat_files.csv', index=False)"
   ]
  },
  {
   "cell_type": "code",
   "execution_count": null,
   "metadata": {},
   "outputs": [],
   "source": [
    "missing = set(mat_files_list).difference(list(dicom_file_params_df['mat_file_name']))"
   ]
  },
  {
   "cell_type": "code",
   "execution_count": null,
   "metadata": {},
   "outputs": [],
   "source": [
    "# missing"
   ]
  },
  {
   "cell_type": "code",
   "execution_count": null,
   "metadata": {},
   "outputs": [],
   "source": [
    "mat_files_list[0]"
   ]
  },
  {
   "cell_type": "code",
   "execution_count": null,
   "metadata": {},
   "outputs": [],
   "source": [
    "dicom_file_params_df.head()"
   ]
  },
  {
   "cell_type": "code",
   "execution_count": null,
   "metadata": {},
   "outputs": [],
   "source": [
    "def extract_flatten_features(mat_data, filename):\n",
    "    \n",
    "    features_flattened = []\n",
    "    \n",
    "    for experiment_, values in data['textures']['List'].items():\n",
    "            \n",
    "        experiment_number = int(experiment_.split('Experiment')[1])\n",
    "        if experiment_number > 25:\n",
    "            break\n",
    "        scale_ = float(values.split(',')[0].split('=')[1])\n",
    "        algo_ = values.split(',')[1].split('=')[1]\n",
    "        ng_ = int(values.split(',')[2].split('=')[1])\n",
    "        \n",
    "        flattened_df = pd.io.json.json_normalize(data['textures'][experiment_], sep='_')\n",
    "        flattened_df['mat_file_name'] = filename\n",
    "        flattened_df_merged = pd.merge(flattened_df, dicom_file_params_df, on='mat_file_name', how='inner')\n",
    "        flattened_df_merged['experiment_number'] = experiment_number\n",
    "        flattened_df_merged['scale'] = scale_\n",
    "        flattened_df_merged['algo'] = algo_\n",
    "        flattened_df_merged['ng'] = ng_\n",
    "        features_flattened.append(flattened_df_merged)\n",
    "    \n",
    "    features_df_concat = pd.concat(features_flattened, ignore_index=True)\n",
    "    features_df_concat.to_csv(filename.split('.')[0]+'_features'+'.csv', index=False)"
   ]
  },
  {
   "cell_type": "code",
   "execution_count": null,
   "metadata": {
    "scrolled": true
   },
   "outputs": [],
   "source": [
    "# extract_flatten_features(data)"
   ]
  },
  {
   "cell_type": "code",
   "execution_count": null,
   "metadata": {},
   "outputs": [],
   "source": [
    "for idx, mat_file in enumerate(mat_files_list):\n",
    "    \n",
    "    if mat_file in missing:\n",
    "            print('Filename not in dicom df, skipping')\n",
    "            continue   \n",
    "    \n",
    "    print('Mat file {} at index {} of total length {} being processed'.format(mat_file, idx, len(mat_files_list)))\n",
    "    data = loadmat(mat_file)\n",
    "    extract_flatten_features(data, mat_file)"
   ]
  },
  {
   "cell_type": "code",
   "execution_count": 3,
   "metadata": {},
   "outputs": [],
   "source": [
    "homedir = '/home/raghuram/Desktop/radiomics/TEXTURES/csv_folder'\n",
    "os.chdir(homedir)\n",
    "\n",
    "t1_list = glob.glob('*_T1W_features.csv')\n",
    "t2_list = glob.glob('*_T2W_features.csv')\n",
    "t1ce_list = glob.glob('*_T1CE_features.csv')\n",
    "flair_list = glob.glob('*_T2F_features.csv')"
   ]
  },
  {
   "cell_type": "code",
   "execution_count": 57,
   "metadata": {},
   "outputs": [],
   "source": [
    "def create_npy_files(sequence_list, sequence_name):\n",
    "    \n",
    "    for expt_num in range(1, 26):\n",
    "        df_list = []\n",
    "        for seq_file in t1_list:\n",
    "            df = pd.read_csv(seq_file)\n",
    "            df = df[df['experiment_number'] == expt_num]\n",
    "            df_list.append(df)\n",
    "        pd.concat(df_list).to_csv('seq_file'+'_'+str(expt_num)+'_'+sequence_name+'.csv')"
   ]
  },
  {
   "cell_type": "code",
   "execution_count": 62,
   "metadata": {},
   "outputs": [],
   "source": [
    "create_npy_files(flair_list, 'T2F')"
   ]
  },
  {
   "cell_type": "code",
   "execution_count": 25,
   "metadata": {},
   "outputs": [],
   "source": [
    "df = pd.read_csv(t1_list[0])"
   ]
  },
  {
   "cell_type": "code",
   "execution_count": 26,
   "metadata": {},
   "outputs": [
    {
     "data": {
      "text/html": [
       "<div>\n",
       "<style scoped>\n",
       "    .dataframe tbody tr th:only-of-type {\n",
       "        vertical-align: middle;\n",
       "    }\n",
       "\n",
       "    .dataframe tbody tr th {\n",
       "        vertical-align: top;\n",
       "    }\n",
       "\n",
       "    .dataframe thead th {\n",
       "        text-align: right;\n",
       "    }\n",
       "</style>\n",
       "<table border=\"1\" class=\"dataframe\">\n",
       "  <thead>\n",
       "    <tr style=\"text-align: right;\">\n",
       "      <th></th>\n",
       "      <th>GLCM_Contrast</th>\n",
       "      <th>GLCM_Correlation</th>\n",
       "      <th>GLCM_Dissimilarity</th>\n",
       "      <th>GLCM_Energy</th>\n",
       "      <th>GLCM_Entropy</th>\n",
       "      <th>GLCM_Homogeneity</th>\n",
       "      <th>GLCM_SumAverage</th>\n",
       "      <th>GLCM_Variance</th>\n",
       "      <th>GLRLM_GLN</th>\n",
       "      <th>GLRLM_GLV</th>\n",
       "      <th>...</th>\n",
       "      <th>mag_field_strength</th>\n",
       "      <th>scanner_manufacturer</th>\n",
       "      <th>scanner_model</th>\n",
       "      <th>repetition_time</th>\n",
       "      <th>excitation_time</th>\n",
       "      <th>mat_file_sequence</th>\n",
       "      <th>experiment_number</th>\n",
       "      <th>scale</th>\n",
       "      <th>algo</th>\n",
       "      <th>ng</th>\n",
       "    </tr>\n",
       "  </thead>\n",
       "  <tbody>\n",
       "    <tr>\n",
       "      <th>0</th>\n",
       "      <td>0.624561</td>\n",
       "      <td>0.939791</td>\n",
       "      <td>0.448921</td>\n",
       "      <td>0.057985</td>\n",
       "      <td>4.492363</td>\n",
       "      <td>0.799303</td>\n",
       "      <td>0.069671</td>\n",
       "      <td>0.081040</td>\n",
       "      <td>0.135238</td>\n",
       "      <td>0.001243</td>\n",
       "      <td>...</td>\n",
       "      <td>3.0</td>\n",
       "      <td>GE MEDICAL SYSTEMS</td>\n",
       "      <td>SIGNA EXCITE</td>\n",
       "      <td>6.773</td>\n",
       "      <td>2.772</td>\n",
       "      <td>T1W</td>\n",
       "      <td>1</td>\n",
       "      <td>0.5</td>\n",
       "      <td>Equal</td>\n",
       "      <td>8</td>\n",
       "    </tr>\n",
       "    <tr>\n",
       "      <th>1</th>\n",
       "      <td>2.104891</td>\n",
       "      <td>0.949642</td>\n",
       "      <td>0.914987</td>\n",
       "      <td>0.018196</td>\n",
       "      <td>6.264325</td>\n",
       "      <td>0.667598</td>\n",
       "      <td>0.032877</td>\n",
       "      <td>0.081637</td>\n",
       "      <td>0.066386</td>\n",
       "      <td>0.002978</td>\n",
       "      <td>...</td>\n",
       "      <td>3.0</td>\n",
       "      <td>GE MEDICAL SYSTEMS</td>\n",
       "      <td>SIGNA EXCITE</td>\n",
       "      <td>6.773</td>\n",
       "      <td>2.772</td>\n",
       "      <td>T1W</td>\n",
       "      <td>2</td>\n",
       "      <td>0.5</td>\n",
       "      <td>Equal</td>\n",
       "      <td>16</td>\n",
       "    </tr>\n",
       "    <tr>\n",
       "      <th>2</th>\n",
       "      <td>7.951513</td>\n",
       "      <td>0.952384</td>\n",
       "      <td>1.838260</td>\n",
       "      <td>0.005276</td>\n",
       "      <td>8.141398</td>\n",
       "      <td>0.522198</td>\n",
       "      <td>0.015953</td>\n",
       "      <td>0.081539</td>\n",
       "      <td>0.032823</td>\n",
       "      <td>0.004549</td>\n",
       "      <td>...</td>\n",
       "      <td>3.0</td>\n",
       "      <td>GE MEDICAL SYSTEMS</td>\n",
       "      <td>SIGNA EXCITE</td>\n",
       "      <td>6.773</td>\n",
       "      <td>2.772</td>\n",
       "      <td>T1W</td>\n",
       "      <td>3</td>\n",
       "      <td>0.5</td>\n",
       "      <td>Equal</td>\n",
       "      <td>32</td>\n",
       "    </tr>\n",
       "    <tr>\n",
       "      <th>3</th>\n",
       "      <td>28.249120</td>\n",
       "      <td>0.953508</td>\n",
       "      <td>3.519248</td>\n",
       "      <td>0.001526</td>\n",
       "      <td>10.000019</td>\n",
       "      <td>0.389452</td>\n",
       "      <td>0.007621</td>\n",
       "      <td>0.074171</td>\n",
       "      <td>0.016778</td>\n",
       "      <td>0.006702</td>\n",
       "      <td>...</td>\n",
       "      <td>3.0</td>\n",
       "      <td>GE MEDICAL SYSTEMS</td>\n",
       "      <td>SIGNA EXCITE</td>\n",
       "      <td>6.773</td>\n",
       "      <td>2.772</td>\n",
       "      <td>T1W</td>\n",
       "      <td>4</td>\n",
       "      <td>0.5</td>\n",
       "      <td>Equal</td>\n",
       "      <td>64</td>\n",
       "    </tr>\n",
       "    <tr>\n",
       "      <th>4</th>\n",
       "      <td>0.149167</td>\n",
       "      <td>0.871195</td>\n",
       "      <td>0.147316</td>\n",
       "      <td>0.281439</td>\n",
       "      <td>2.349336</td>\n",
       "      <td>0.926647</td>\n",
       "      <td>0.068091</td>\n",
       "      <td>0.009047</td>\n",
       "      <td>0.309494</td>\n",
       "      <td>0.000549</td>\n",
       "      <td>...</td>\n",
       "      <td>3.0</td>\n",
       "      <td>GE MEDICAL SYSTEMS</td>\n",
       "      <td>SIGNA EXCITE</td>\n",
       "      <td>6.773</td>\n",
       "      <td>2.772</td>\n",
       "      <td>T1W</td>\n",
       "      <td>5</td>\n",
       "      <td>0.5</td>\n",
       "      <td>Uniform</td>\n",
       "      <td>8</td>\n",
       "    </tr>\n",
       "  </tbody>\n",
       "</table>\n",
       "<p>5 rows × 56 columns</p>\n",
       "</div>"
      ],
      "text/plain": [
       "   GLCM_Contrast  GLCM_Correlation  GLCM_Dissimilarity  GLCM_Energy  \\\n",
       "0       0.624561          0.939791            0.448921     0.057985   \n",
       "1       2.104891          0.949642            0.914987     0.018196   \n",
       "2       7.951513          0.952384            1.838260     0.005276   \n",
       "3      28.249120          0.953508            3.519248     0.001526   \n",
       "4       0.149167          0.871195            0.147316     0.281439   \n",
       "\n",
       "   GLCM_Entropy  GLCM_Homogeneity  GLCM_SumAverage  GLCM_Variance  GLRLM_GLN  \\\n",
       "0      4.492363          0.799303         0.069671       0.081040   0.135238   \n",
       "1      6.264325          0.667598         0.032877       0.081637   0.066386   \n",
       "2      8.141398          0.522198         0.015953       0.081539   0.032823   \n",
       "3     10.000019          0.389452         0.007621       0.074171   0.016778   \n",
       "4      2.349336          0.926647         0.068091       0.009047   0.309494   \n",
       "\n",
       "   GLRLM_GLV  ...  mag_field_strength  scanner_manufacturer  scanner_model  \\\n",
       "0   0.001243  ...                 3.0    GE MEDICAL SYSTEMS   SIGNA EXCITE   \n",
       "1   0.002978  ...                 3.0    GE MEDICAL SYSTEMS   SIGNA EXCITE   \n",
       "2   0.004549  ...                 3.0    GE MEDICAL SYSTEMS   SIGNA EXCITE   \n",
       "3   0.006702  ...                 3.0    GE MEDICAL SYSTEMS   SIGNA EXCITE   \n",
       "4   0.000549  ...                 3.0    GE MEDICAL SYSTEMS   SIGNA EXCITE   \n",
       "\n",
       "   repetition_time  excitation_time  mat_file_sequence  experiment_number  \\\n",
       "0            6.773            2.772                T1W                  1   \n",
       "1            6.773            2.772                T1W                  2   \n",
       "2            6.773            2.772                T1W                  3   \n",
       "3            6.773            2.772                T1W                  4   \n",
       "4            6.773            2.772                T1W                  5   \n",
       "\n",
       "   scale     algo  ng  \n",
       "0    0.5    Equal   8  \n",
       "1    0.5    Equal  16  \n",
       "2    0.5    Equal  32  \n",
       "3    0.5    Equal  64  \n",
       "4    0.5  Uniform   8  \n",
       "\n",
       "[5 rows x 56 columns]"
      ]
     },
     "execution_count": 26,
     "metadata": {},
     "output_type": "execute_result"
    }
   ],
   "source": [
    "df.head()"
   ]
  },
  {
   "cell_type": "code",
   "execution_count": null,
   "metadata": {},
   "outputs": [],
   "source": []
  }
 ],
 "metadata": {
  "kernelspec": {
   "display_name": "Python 3",
   "language": "python",
   "name": "python3"
  },
  "language_info": {
   "codemirror_mode": {
    "name": "ipython",
    "version": 3
   },
   "file_extension": ".py",
   "mimetype": "text/x-python",
   "name": "python",
   "nbconvert_exporter": "python",
   "pygments_lexer": "ipython3",
   "version": "3.7.2"
  }
 },
 "nbformat": 4,
 "nbformat_minor": 2
}
