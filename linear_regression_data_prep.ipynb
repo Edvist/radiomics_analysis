{
 "cells": [
  {
   "cell_type": "code",
   "execution_count": 1,
   "metadata": {},
   "outputs": [],
   "source": [
    "from pydicom.filereader import dcmread\n",
    "import os\n",
    "import numpy as np\n",
    "import math\n",
    "import glob\n",
    "import re"
   ]
  },
  {
   "cell_type": "code",
   "execution_count": 2,
   "metadata": {},
   "outputs": [],
   "source": [
    "import pandas as pd"
   ]
  },
  {
   "cell_type": "code",
   "execution_count": 4,
   "metadata": {},
   "outputs": [],
   "source": [
    "homedir = '/media/raghuram/My Passport/dicom_seg/TCGA-LGG'\n",
    "os.chdir(homedir)\n",
    "folder_dict = {}"
   ]
  },
  {
   "cell_type": "code",
   "execution_count": null,
   "metadata": {},
   "outputs": [],
   "source": [
    "dicom_df = pd.read_csv('dicom_filenames.csv', names=['filename'])"
   ]
  },
  {
   "cell_type": "code",
   "execution_count": null,
   "metadata": {},
   "outputs": [],
   "source": [
    "mag_strength_list = []\n",
    "scanner_manufacturer_list = []\n",
    "scanner_name = []\n",
    "patient_age = []\n",
    "patient_gender = []\n",
    "anatomical_part_examined = []\n",
    "scanning_seq_mri = []"
   ]
  },
  {
   "cell_type": "code",
   "execution_count": null,
   "metadata": {},
   "outputs": [],
   "source": [
    "def fetch_magnetization_strength(dicom_file):\n",
    "    try:\n",
    "        mag_strength = dicom_file.MagneticFieldStrength\n",
    "        if mag_strength>1000:\n",
    "            return mag_strength/10000\n",
    "        return mag_strength\n",
    "    except Exception:\n",
    "        raise Exception"
   ]
  },
  {
   "cell_type": "code",
   "execution_count": null,
   "metadata": {},
   "outputs": [],
   "source": [
    "def fetch_scanner_model(dicom_file):\n",
    "    try:\n",
    "        return dicom_file.ManufacturerModelName\n",
    "    except Exception:\n",
    "        raise Exception"
   ]
  },
  {
   "cell_type": "code",
   "execution_count": null,
   "metadata": {},
   "outputs": [],
   "source": [
    "def fetch_scanner_manufacturer(dicom_file):\n",
    "    try:\n",
    "        return dicom_file.Manufacturer\n",
    "    except Exception:\n",
    "        raise Exception"
   ]
  },
  {
   "cell_type": "code",
   "execution_count": null,
   "metadata": {},
   "outputs": [],
   "source": [
    "def fetch_repetition_time(dicom_file):\n",
    "    try:\n",
    "        return dicom_file.RepetitionTime\n",
    "    except Exception:\n",
    "        raise Exception\n",
    "    "
   ]
  },
  {
   "cell_type": "code",
   "execution_count": null,
   "metadata": {},
   "outputs": [],
   "source": [
    "def fetch_excitation_time(dicom_file):\n",
    "    try:\n",
    "        return dicom_file.EchoTime\n",
    "    except Exception:\n",
    "        raise Exception"
   ]
  },
  {
   "cell_type": "code",
   "execution_count": null,
   "metadata": {},
   "outputs": [],
   "source": [
    "def fetch_scanning_seq_mri(dicom_file):\n",
    "    try:\n",
    "        return dicom_file.SeriesDescription\n",
    "    \n",
    "    except Exception:\n",
    "        raise Exception"
   ]
  },
  {
   "cell_type": "code",
   "execution_count": null,
   "metadata": {},
   "outputs": [],
   "source": [
    "def fetch_body_part_examined(dicom_file):\n",
    "    try:\n",
    "        return dicom_file.BodyPartExamined\n",
    "    except Exception as e:\n",
    "        raise Exception"
   ]
  },
  {
   "cell_type": "code",
   "execution_count": null,
   "metadata": {},
   "outputs": [],
   "source": [
    "row_list = []"
   ]
  },
  {
   "cell_type": "code",
   "execution_count": null,
   "metadata": {},
   "outputs": [],
   "source": [
    "for idx, row in dicom_df.iterrows():\n",
    "    \n",
    "    try:\n",
    "#         dict_to_append = {'mag_field_strength':'', 'scanner_manufacturer':'', 'scanner_model':'', 'repetition_time':'', 'excitation_time':'',\n",
    "#                   'scanning_seq_mri':'', 'filename':'', 'body_part_examined':''}\n",
    "        dicom_data = dcmread(row[0])\n",
    "        print(dicom_data)\n",
    "        break\n",
    "#         dict_to_append['filename'] = row[0]\n",
    "#         dict_to_append['excitation_time'] = fetch_excitation_time(dicom_data)\n",
    "#         dict_to_append['repetition_time'] = fetch_repetition_time(dicom_data)\n",
    "#         dict_to_append['mag_field_strength'] = fetch_magnetization_strength(dicom_data)\n",
    "#         dict_to_append['scanner_manufacturer'] = fetch_scanner_manufacturer(dicom_data)\n",
    "#         dict_to_append['scanner_model'] = fetch_scanner_model(dicom_data)\n",
    "#         dict_to_append['scanning_seq_mri'] = dicom_data.SeriesDescription\n",
    "#         dict_to_append['body_part_examined'] = fetch_body_part_examined(dicom_data)\n",
    "#         row_list.append(dict_to_append)\n",
    "    \n",
    "    except Exception as e:\n",
    "        print('Exception : {} has occurred for file at position {}'.format(e, idx))\n",
    "    "
   ]
  },
  {
   "cell_type": "code",
   "execution_count": null,
   "metadata": {},
   "outputs": [],
   "source": [
    "dicom_data = dcmread('/media/raghuram/My Passport/dicom_seg/TCGA-LGG/TCGA-DU-5855/12-17-1995-MRI BRAINLABHEAD WWO-26777/1001-RA ROUTINE T1 AX C-03354/000000.dcm')"
   ]
  },
  {
   "cell_type": "code",
   "execution_count": null,
   "metadata": {},
   "outputs": [],
   "source": [
    "dicom_data.Co"
   ]
  },
  {
   "cell_type": "code",
   "execution_count": null,
   "metadata": {},
   "outputs": [],
   "source": [
    "len(row_list)"
   ]
  },
  {
   "cell_type": "code",
   "execution_count": null,
   "metadata": {},
   "outputs": [],
   "source": [
    "row_list[:3]"
   ]
  },
  {
   "cell_type": "code",
   "execution_count": null,
   "metadata": {},
   "outputs": [],
   "source": [
    "import csv"
   ]
  },
  {
   "cell_type": "code",
   "execution_count": null,
   "metadata": {},
   "outputs": [],
   "source": [
    "keys = row_list[0].keys()\n",
    "with open(os.path.join(os.getcwd(),'dicom_file_params.csv'), 'w') as outfile:\n",
    "    dict_writer = csv.DictWriter(outfile, keys)\n",
    "    dict_writer.writeheader()\n",
    "    dict_writer.writerows(row_list)"
   ]
  },
  {
   "cell_type": "code",
   "execution_count": null,
   "metadata": {},
   "outputs": [],
   "source": [
    "keys"
   ]
  },
  {
   "cell_type": "code",
   "execution_count": 5,
   "metadata": {},
   "outputs": [],
   "source": [
    "dicom_file_params_df = pd.read_csv('dicom_file_params.csv')\n",
    "dicom_file_params_df['scanning_seq_mri'] = dicom_file_params_df['scanning_seq_mri'].str.upper()\n",
    "dicom_file_params_df.drop(columns=['Unnamed: 0'], inplace=True)"
   ]
  },
  {
   "cell_type": "code",
   "execution_count": null,
   "metadata": {},
   "outputs": [],
   "source": [
    "dicom_file_params_df.to_csv('dicom_file_params.csv')"
   ]
  },
  {
   "cell_type": "code",
   "execution_count": null,
   "metadata": {},
   "outputs": [],
   "source": [
    "output = dicom_file_params_df[dicom_file_params_df['scanning_seq_mri'].str.contains('RAGE')]"
   ]
  },
  {
   "cell_type": "code",
   "execution_count": null,
   "metadata": {},
   "outputs": [],
   "source": [
    "output['scanning_seq_mri'].unique()"
   ]
  },
  {
   "cell_type": "code",
   "execution_count": 18,
   "metadata": {},
   "outputs": [],
   "source": [
    "t1_pre = ['AXIAL T1', 'T1 AX  SE', 'BRAIN_STRYKER/T1_AXIAL', 'BRAIN_STRYKER/T1_AX',\n",
    "          'T1 AX SE', 'AX T1 PRE GD', 'AX T1 2.5MM FOR SURGERY', 'RA ROUTINE T1 AX', 'AX T1_IR_TSE_5MM','AXIAL T1 FSE', \n",
    "           'AX T1', 'T1 AX', 'TIR T1 AX', 'AX T1 MP SPGR', 'AX T1 MP SPGR PRE GAD', 'AX T1 SE','PRE AX T1 MP SPGR',\n",
    "         'TI AX SE', '3D AXIAL,IRSPGR,FAST']"
   ]
  },
  {
   "cell_type": "code",
   "execution_count": 13,
   "metadata": {},
   "outputs": [],
   "source": [
    "t1_post = ['AXIAL T1 POST GAD FATSAT', 'BRAIN_CONTRAST/T1_AXIAL',  \n",
    "          'T1 AX SE FS POST', 'AX T1 POST GD FLAIR', 'POST AX T1W_IR_TSE',\n",
    "          'AXIAL T1 FSE POST GAD', 'POST AX T1 FLAIR', 'MRHR T1 AX POST GAD', 'T1 AXIAL GD', \n",
    "           'AX T1 MP SPGR + GAD', 'POST AX T1 SE', 'AX T1 MP SPGR+C', \n",
    "           'POST AX T1 MP SPGR', 'VOLUMETRIC AXIAL GD',\n",
    "           'T1 AXIAL GD', 'AX T1 POST GD FLAIR','POST AX 3D SPGR']"
   ]
  },
  {
   "cell_type": "code",
   "execution_count": 14,
   "metadata": {},
   "outputs": [],
   "source": [
    "t2 = ['AXIAL T2', 'BRAIN_STRYKER/T2_AX_DOUBLE', 'RETRO_ORBIT/T2_LATE_ECHO_B','BRAIN_PITUITARY/PD_T2_AXIA',\n",
    "      'T2W_TSE', 'AXIAL  T2', 'AX T2 FR-FSE RF2 150', 'RA ROUTINE T2 AX','AX T2 FSE', 'AX T2W_DRIVE', \n",
    "      'AXIAL T2 FSE HI-RES', 'AX T2','MRHG T2 AXIALS', 'T2 AXIALS', 'MRHR T2 AX','T2 AX', 'TSE T2 AXIALS', \n",
    "      'AX T2 FSE INTER', '(OPTIONAL) AX FSE T2 INTER ', 'PROP T2 TRF','(OPTIONAL)AX T2 FSE INTER', 'AX T2 FSE H', \n",
    "      'AX FSE T2 INTER',' T2PROP', '(OPT) AX T2 FSE INTER', 'T2PROP', '(OPT)AX T2 FSE INTER', 'AX T2 FSE  FOR WAND' ]"
   ]
  },
  {
   "cell_type": "code",
   "execution_count": 15,
   "metadata": {},
   "outputs": [],
   "source": [
    "flair = ['AXIAL FLAIR', 'T2 AX FLAIR', 'BRAIN_STRYKER/FLAIR',\n",
    "       'BRAIN_CONTRAST/FLAIR', 'AX T1 POST GD FLAIR',\n",
    "       'AX FLAIR 2.5MM FOR SURGERY', 'RA ROUTINE FLAIR AX',\n",
    "       'AXIAL FLAIR RF2  150', 'FLAIR_LONGTR', 'AX T2 FLAIR',\n",
    "       'POST AX T1 FLAIR', 'FLAIR AXIALS', 'MRHR FLAIR AX', 'FLAIR AX',\n",
    "       'AX FLAIR IRFSE H', 'AXIAL T2 FLAIR']"
   ]
  },
  {
   "cell_type": "code",
   "execution_count": 35,
   "metadata": {},
   "outputs": [],
   "source": [
    "t1_post_dict = {}"
   ]
  },
  {
   "cell_type": "markdown",
   "metadata": {},
   "source": [
    "# Need to check if AX T1 POST GD FLAIR is T1 or FLAIR?"
   ]
  },
  {
   "cell_type": "code",
   "execution_count": 36,
   "metadata": {},
   "outputs": [],
   "source": [
    "for submodality in t1_post:\n",
    "#     print('Submodality is {} '.format(submodality))\n",
    "    value = dicom_file_params_df[dicom_file_params_df['scanning_seq_mri'] == submodality].shape[0]\n",
    "    t1_post_dict[submodality] = value"
   ]
  },
  {
   "cell_type": "code",
   "execution_count": 37,
   "metadata": {},
   "outputs": [],
   "source": [
    "pd.DataFrame(list(t1_post_dict.items()), columns=['Sequence Name', 'Values']).to_csv('t1_post_samples.csv')"
   ]
  },
  {
   "cell_type": "code",
   "execution_count": null,
   "metadata": {},
   "outputs": [],
   "source": []
  }
 ],
 "metadata": {
  "kernelspec": {
   "display_name": "Python 3",
   "language": "python",
   "name": "python3"
  },
  "language_info": {
   "codemirror_mode": {
    "name": "ipython",
    "version": 3
   },
   "file_extension": ".py",
   "mimetype": "text/x-python",
   "name": "python",
   "nbconvert_exporter": "python",
   "pygments_lexer": "ipython3",
   "version": "3.7.2"
  }
 },
 "nbformat": 4,
 "nbformat_minor": 2
}
