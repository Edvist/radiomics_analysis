{
 "cells": [
  {
   "cell_type": "code",
   "execution_count": 1,
   "metadata": {},
   "outputs": [],
   "source": [
    "import glob\n",
    "import numpy as np\n",
    "import os\n",
    "import pandas as pd\n",
    "from sklearn.preprocessing import MinMaxScaler, StandardScaler"
   ]
  },
  {
   "cell_type": "code",
   "execution_count": 2,
   "metadata": {},
   "outputs": [],
   "source": [
    "import statsmodels.api as sm"
   ]
  },
  {
   "cell_type": "code",
   "execution_count": 3,
   "metadata": {},
   "outputs": [],
   "source": [
    "homedir = '/home/raghuram/Desktop/radiomics/TEXTURES/'\n",
    "os.chdir(homedir)"
   ]
  },
  {
   "cell_type": "code",
   "execution_count": 4,
   "metadata": {},
   "outputs": [],
   "source": [
    "# List all the data sources\n",
    "t1_expt = 'expt_t1w.csv'\n",
    "t2_expt = 'expt_t2w.csv'\n",
    "t1ce_expt = 'expt_t1ce.csv'\n",
    "t2f_expt = 'expt_t2f.csv'"
   ]
  },
  {
   "cell_type": "code",
   "execution_count": 155,
   "metadata": {},
   "outputs": [],
   "source": [
    "def preprocess_data(expt_list, expt_number):\n",
    "    df = pd.read_csv(expt_list)\n",
    "    df = df[df['experiment_number'] == expt_number]\n",
    "    df.dropna(inplace=True)\n",
    "    volume = df['VOLUME_WT']\n",
    "    df.drop(columns=['mag_field_strength', 'scanner_model', 'scanner_manufacturer',\n",
    "                    'parameters_Ng', 'parameters_Algo', 'parameters_Scale', 'mat_file_name',\n",
    "                    'sequence_name', 'repetition_time', 'excitation_time', 'scale', 'algo', 'ng',\n",
    "                    'flip_angle', 'experiment_number', 'ID', 'VOLUME_ET','VOLUME_NET', 'VOLUME_ED', \n",
    "                     'VOLUME_TC', 'VOLUME_WT', 'VOLUME_BRAIN'], inplace=True)\n",
    "    \n",
    "    X = np.array(df)\n",
    "    return X, volume\n",
    "    "
   ]
  },
  {
   "cell_type": "code",
   "execution_count": 172,
   "metadata": {},
   "outputs": [],
   "source": [
    "results_folder = '/home/raghuram/Desktop/radiomics/TEXTURES/results/t2w/vol_corr'"
   ]
  },
  {
   "cell_type": "code",
   "execution_count": 174,
   "metadata": {},
   "outputs": [],
   "source": [
    "for expt_number in range(1, 26):\n",
    "    X, volume = preprocess_data(t2_expt, expt_number)\n",
    "    \n",
    "    assert(np.shape(X)[0] == np.shape(volume)[0])\n",
    " \n",
    "    scaler = MinMaxScaler()\n",
    "    X = scaler.fit_transform(X)\n",
    "    X = sm.add_constant(X)\n",
    "    \n",
    "    model = sm.OLS(volume, X).fit()\n",
    "    \n",
    "    with open(os.path.join(results_folder, 't2w_expt'+'_'+str(expt_number)+'_'+'volume.csv'), 'w') as csvfile:\n",
    "        csvfile.write(model.summary().as_csv())\n",
    "    "
   ]
  },
  {
   "cell_type": "code",
   "execution_count": null,
   "metadata": {},
   "outputs": [],
   "source": []
  }
 ],
 "metadata": {
  "kernelspec": {
   "display_name": "Python 3",
   "language": "python",
   "name": "python3"
  },
  "language_info": {
   "codemirror_mode": {
    "name": "ipython",
    "version": 3
   },
   "file_extension": ".py",
   "mimetype": "text/x-python",
   "name": "python",
   "nbconvert_exporter": "python",
   "pygments_lexer": "ipython3",
   "version": "3.7.2"
  }
 },
 "nbformat": 4,
 "nbformat_minor": 2
}
